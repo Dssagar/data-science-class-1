{
 "cells": [
  {
   "cell_type": "code",
   "execution_count": 1,
   "id": "4667a8f5-766a-4dc7-8717-0cb533e1211e",
   "metadata": {},
   "outputs": [
    {
     "name": "stdout",
     "output_type": "stream",
     "text": [
      "this is my program\n"
     ]
    }
   ],
   "source": [
    "print(\"this is my program\")"
   ]
  },
  {
   "cell_type": "code",
   "execution_count": 2,
   "id": "0e8d5ceb-9c67-4af6-a154-ba135b8edb18",
   "metadata": {},
   "outputs": [],
   "source": [
    "l=1,2,3,4,5"
   ]
  },
  {
   "cell_type": "code",
   "execution_count": 13,
   "id": "82213fd5-cf14-49b5-88c4-301c0d44532a",
   "metadata": {},
   "outputs": [
    {
     "data": {
      "text/plain": [
       "list"
      ]
     },
     "execution_count": 13,
     "metadata": {},
     "output_type": "execute_result"
    }
   ],
   "source": [
    "type(l)"
   ]
  },
  {
   "cell_type": "code",
   "execution_count": 4,
   "id": "0cbb148e-c88e-4b0c-b057-cedef827d236",
   "metadata": {},
   "outputs": [
    {
     "data": {
      "text/plain": [
       "5"
      ]
     },
     "execution_count": 4,
     "metadata": {},
     "output_type": "execute_result"
    }
   ],
   "source": [
    "len(l)"
   ]
  },
  {
   "cell_type": "code",
   "execution_count": 3,
   "id": "8ddea276-7dc1-46cc-b4b8-6464a62ad814",
   "metadata": {},
   "outputs": [
    {
     "data": {
      "text/plain": [
       "(1, 2, 3, 4, 5)"
      ]
     },
     "execution_count": 3,
     "metadata": {},
     "output_type": "execute_result"
    }
   ],
   "source": [
    "l"
   ]
  },
  {
   "cell_type": "code",
   "execution_count": 9,
   "id": "d3fe7722-c0eb-49ee-a026-3f6b09bd4862",
   "metadata": {},
   "outputs": [],
   "source": [
    "l1=[1,2,3,4,5]"
   ]
  },
  {
   "cell_type": "code",
   "execution_count": 10,
   "id": "b2f69a2c-b7ac-4d41-a7a3-9ab328054659",
   "metadata": {},
   "outputs": [
    {
     "data": {
      "text/plain": [
       "5"
      ]
     },
     "execution_count": 10,
     "metadata": {},
     "output_type": "execute_result"
    }
   ],
   "source": [
    "len(l1)"
   ]
  },
  {
   "cell_type": "code",
   "execution_count": 11,
   "id": "0148a875-8a74-42a3-9087-87727f1eda9b",
   "metadata": {},
   "outputs": [
    {
     "data": {
      "text/plain": [
       "[1, 2, 3, 4, 5]"
      ]
     },
     "execution_count": 11,
     "metadata": {},
     "output_type": "execute_result"
    }
   ],
   "source": [
    "l1"
   ]
  },
  {
   "cell_type": "code",
   "execution_count": 12,
   "id": "370dcb89-846a-4da4-864e-d4b424ea3186",
   "metadata": {},
   "outputs": [
    {
     "data": {
      "text/plain": [
       "list"
      ]
     },
     "execution_count": 12,
     "metadata": {},
     "output_type": "execute_result"
    }
   ],
   "source": [
    "type(l1)"
   ]
  },
  {
   "cell_type": "code",
   "execution_count": 18,
   "id": "b8ac9686-ea51-48e4-aa28-f4e855d264c2",
   "metadata": {},
   "outputs": [],
   "source": [
    "def test():\n",
    "    pass"
   ]
  },
  {
   "cell_type": "code",
   "execution_count": 19,
   "id": "074ea61a-145d-4c4c-a867-84b9b89dca04",
   "metadata": {},
   "outputs": [],
   "source": [
    "def test1():\n",
    "    print(\"this is my very first function\")"
   ]
  },
  {
   "cell_type": "code",
   "execution_count": 21,
   "id": "9c323dff-59a3-4e86-97e7-99b2a19805a7",
   "metadata": {},
   "outputs": [
    {
     "name": "stdout",
     "output_type": "stream",
     "text": [
      "this is my very first function\n"
     ]
    }
   ],
   "source": [
    "test1()"
   ]
  },
  {
   "cell_type": "code",
   "execution_count": 25,
   "id": "b2b9de39-6849-410f-a637-40ff503c6560",
   "metadata": {},
   "outputs": [
    {
     "name": "stdout",
     "output_type": "stream",
     "text": [
      "this is my very first function\n"
     ]
    },
    {
     "ename": "TypeError",
     "evalue": "unsupported operand type(s) for +: 'NoneType' and 'str'",
     "output_type": "error",
     "traceback": [
      "\u001b[0;31m---------------------------------------------------------------------------\u001b[0m",
      "\u001b[0;31mTypeError\u001b[0m                                 Traceback (most recent call last)",
      "Cell \u001b[0;32mIn[25], line 1\u001b[0m\n\u001b[0;32m----> 1\u001b[0m \u001b[43mtest1\u001b[49m\u001b[43m(\u001b[49m\u001b[43m)\u001b[49m\u001b[38;5;241;43m+\u001b[39;49m\u001b[38;5;124;43m\"\u001b[39;49m\u001b[38;5;124;43mSagar\u001b[39;49m\u001b[38;5;124;43m\"\u001b[39;49m\n",
      "\u001b[0;31mTypeError\u001b[0m: unsupported operand type(s) for +: 'NoneType' and 'str'"
     ]
    }
   ],
   "source": [
    "test1()+\"Sagar\""
   ]
  },
  {
   "cell_type": "code",
   "execution_count": 28,
   "id": "494fc46d-1c08-410a-80e8-34d0c36ff97b",
   "metadata": {},
   "outputs": [],
   "source": [
    "def test2():\n",
    "    return\"this is my function with return\""
   ]
  },
  {
   "cell_type": "code",
   "execution_count": 29,
   "id": "1a241b59-c06d-4efc-80c8-0c57d80a5c19",
   "metadata": {},
   "outputs": [
    {
     "data": {
      "text/plain": [
       "'this is my function with return'"
      ]
     },
     "execution_count": 29,
     "metadata": {},
     "output_type": "execute_result"
    }
   ],
   "source": [
    "test2()"
   ]
  },
  {
   "cell_type": "code",
   "execution_count": 33,
   "id": "1eaa2faa-229b-406f-8c1c-f2ba5fd71f8b",
   "metadata": {},
   "outputs": [
    {
     "data": {
      "text/plain": [
       "'this is my function with return sagar '"
      ]
     },
     "execution_count": 33,
     "metadata": {},
     "output_type": "execute_result"
    }
   ],
   "source": [
    "test2() + \" sagar \""
   ]
  },
  {
   "cell_type": "code",
   "execution_count": 34,
   "id": "145f0d4a-c782-4861-ac89-f0711bc0ebaa",
   "metadata": {},
   "outputs": [],
   "source": [
    "def test3():\n",
    "    return 1,4,\"PW skills\",34.546"
   ]
  },
  {
   "cell_type": "code",
   "execution_count": 35,
   "id": "4ecaf664-c6c6-49b7-ab8a-b93dd80f82d7",
   "metadata": {},
   "outputs": [
    {
     "data": {
      "text/plain": [
       "(1, 4, 'PW skills', 34.546)"
      ]
     },
     "execution_count": 35,
     "metadata": {},
     "output_type": "execute_result"
    }
   ],
   "source": [
    "test3()"
   ]
  },
  {
   "cell_type": "code",
   "execution_count": 37,
   "id": "7723ec27-a5a1-48be-90fe-20ad9747d3dc",
   "metadata": {},
   "outputs": [],
   "source": [
    "a=1,2,3,4,5"
   ]
  },
  {
   "cell_type": "code",
   "execution_count": 38,
   "id": "2bc0482c-cfa2-4b92-be53-d635331fd238",
   "metadata": {},
   "outputs": [
    {
     "data": {
      "text/plain": [
       "(1, 2, 3, 4, 5)"
      ]
     },
     "execution_count": 38,
     "metadata": {},
     "output_type": "execute_result"
    }
   ],
   "source": [
    "a"
   ]
  },
  {
   "cell_type": "code",
   "execution_count": 40,
   "id": "6afa8658-e243-475c-b5ed-7ed77e9b3846",
   "metadata": {},
   "outputs": [],
   "source": [
    "a,b,c,d,e=1,2,3,34.546,True"
   ]
  },
  {
   "cell_type": "code",
   "execution_count": 41,
   "id": "ff8e1c7b-d371-43f3-9fe6-086fd015a775",
   "metadata": {},
   "outputs": [
    {
     "data": {
      "text/plain": [
       "1"
      ]
     },
     "execution_count": 41,
     "metadata": {},
     "output_type": "execute_result"
    }
   ],
   "source": [
    "a"
   ]
  },
  {
   "cell_type": "code",
   "execution_count": 42,
   "id": "6baf806d-45a0-4f5f-894b-9248dc539d4a",
   "metadata": {},
   "outputs": [
    {
     "data": {
      "text/plain": [
       "2"
      ]
     },
     "execution_count": 42,
     "metadata": {},
     "output_type": "execute_result"
    }
   ],
   "source": [
    "b"
   ]
  },
  {
   "cell_type": "code",
   "execution_count": 43,
   "id": "60a87012-e6c8-49e6-87e7-25d1773a573b",
   "metadata": {},
   "outputs": [
    {
     "data": {
      "text/plain": [
       "3"
      ]
     },
     "execution_count": 43,
     "metadata": {},
     "output_type": "execute_result"
    }
   ],
   "source": [
    "c"
   ]
  },
  {
   "cell_type": "code",
   "execution_count": 44,
   "id": "c20ef80f-9ce3-4667-ae66-4de829dc58a6",
   "metadata": {},
   "outputs": [
    {
     "data": {
      "text/plain": [
       "34.546"
      ]
     },
     "execution_count": 44,
     "metadata": {},
     "output_type": "execute_result"
    }
   ],
   "source": [
    "d"
   ]
  },
  {
   "cell_type": "code",
   "execution_count": 45,
   "id": "98074b39-e2c7-411a-bfdb-ed87df46d638",
   "metadata": {},
   "outputs": [
    {
     "data": {
      "text/plain": [
       "True"
      ]
     },
     "execution_count": 45,
     "metadata": {},
     "output_type": "execute_result"
    }
   ],
   "source": [
    "e"
   ]
  },
  {
   "cell_type": "code",
   "execution_count": 46,
   "id": "c16a5fa5-4c5a-43f4-951b-8239e51204bc",
   "metadata": {},
   "outputs": [
    {
     "data": {
      "text/plain": [
       "(1, 4, 'PW skills', 34.546)"
      ]
     },
     "execution_count": 46,
     "metadata": {},
     "output_type": "execute_result"
    }
   ],
   "source": [
    "test3()"
   ]
  },
  {
   "cell_type": "code",
   "execution_count": 48,
   "id": "282137cf-62c8-4401-bace-a291c9e50e64",
   "metadata": {},
   "outputs": [
    {
     "data": {
      "text/plain": [
       "'PW skills'"
      ]
     },
     "execution_count": 48,
     "metadata": {},
     "output_type": "execute_result"
    }
   ],
   "source": [
    "test3()[2]  ##tupple extracting"
   ]
  },
  {
   "cell_type": "code",
   "execution_count": 49,
   "id": "dac5d876-1a58-44c5-bf20-bedcebbf5b2a",
   "metadata": {},
   "outputs": [],
   "source": [
    "a,b,c,d=test3()"
   ]
  },
  {
   "cell_type": "code",
   "execution_count": 50,
   "id": "8eb2ba6a-9df5-4c3e-9587-2fd2cdb9a180",
   "metadata": {},
   "outputs": [
    {
     "data": {
      "text/plain": [
       "1"
      ]
     },
     "execution_count": 50,
     "metadata": {},
     "output_type": "execute_result"
    }
   ],
   "source": [
    "a"
   ]
  },
  {
   "cell_type": "code",
   "execution_count": 51,
   "id": "80cd9b86-afa7-4493-bcb5-561161d7b65b",
   "metadata": {},
   "outputs": [
    {
     "data": {
      "text/plain": [
       "4"
      ]
     },
     "execution_count": 51,
     "metadata": {},
     "output_type": "execute_result"
    }
   ],
   "source": [
    "b"
   ]
  },
  {
   "cell_type": "code",
   "execution_count": 52,
   "id": "83c4b6fd-dac4-44b0-822f-0bb851e4b2e5",
   "metadata": {},
   "outputs": [
    {
     "data": {
      "text/plain": [
       "'PW skills'"
      ]
     },
     "execution_count": 52,
     "metadata": {},
     "output_type": "execute_result"
    }
   ],
   "source": [
    "c"
   ]
  },
  {
   "cell_type": "code",
   "execution_count": 53,
   "id": "8fa4a7d3-6600-4639-bd02-310888472575",
   "metadata": {},
   "outputs": [
    {
     "data": {
      "text/plain": [
       "34.546"
      ]
     },
     "execution_count": 53,
     "metadata": {},
     "output_type": "execute_result"
    }
   ],
   "source": [
    "d"
   ]
  },
  {
   "cell_type": "code",
   "execution_count": 55,
   "id": "543596b2-0a28-4f8c-a3bd-f603000e3025",
   "metadata": {},
   "outputs": [
    {
     "ename": "NameError",
     "evalue": "name 'f' is not defined",
     "output_type": "error",
     "traceback": [
      "\u001b[0;31m---------------------------------------------------------------------------\u001b[0m",
      "\u001b[0;31mNameError\u001b[0m                                 Traceback (most recent call last)",
      "Cell \u001b[0;32mIn[55], line 1\u001b[0m\n\u001b[0;32m----> 1\u001b[0m \u001b[43mf\u001b[49m\n",
      "\u001b[0;31mNameError\u001b[0m: name 'f' is not defined"
     ]
    }
   ],
   "source": [
    "f"
   ]
  },
  {
   "cell_type": "code",
   "execution_count": 59,
   "id": "1a1fdbe2-f8d2-446e-b776-8d38c3199e0d",
   "metadata": {},
   "outputs": [],
   "source": [
    "def test4():\n",
    "    a=3*5+4\n",
    "    return a"
   ]
  },
  {
   "cell_type": "code",
   "execution_count": 60,
   "id": "a686c474-184d-42bb-a6e3-2394bc1836fb",
   "metadata": {},
   "outputs": [
    {
     "data": {
      "text/plain": [
       "int"
      ]
     },
     "execution_count": 60,
     "metadata": {},
     "output_type": "execute_result"
    }
   ],
   "source": [
    "type(test4())"
   ]
  },
  {
   "cell_type": "code",
   "execution_count": 69,
   "id": "e3e72404-0dea-4f4d-b02f-c7d09fd0414a",
   "metadata": {},
   "outputs": [],
   "source": [
    "def test5(a,b):\n",
    "          c=a+b\n",
    "          return c"
   ]
  },
  {
   "cell_type": "code",
   "execution_count": 72,
   "id": "d79482f9-75fb-4b7c-9edf-471a6d9cff5f",
   "metadata": {},
   "outputs": [
    {
     "data": {
      "text/plain": [
       "4"
      ]
     },
     "execution_count": 72,
     "metadata": {},
     "output_type": "execute_result"
    }
   ],
   "source": [
    "test5(1,3)"
   ]
  },
  {
   "cell_type": "code",
   "execution_count": 73,
   "id": "e181bc81-43c0-4581-8658-55bbfce51036",
   "metadata": {},
   "outputs": [
    {
     "data": {
      "text/plain": [
       "'SagarSigma'"
      ]
     },
     "execution_count": 73,
     "metadata": {},
     "output_type": "execute_result"
    }
   ],
   "source": [
    "test5(\"Sagar\",\"Sigma\")"
   ]
  },
  {
   "cell_type": "code",
   "execution_count": 74,
   "id": "d1cb107d-e18b-49da-bba4-d921f0f2c11e",
   "metadata": {},
   "outputs": [
    {
     "data": {
      "text/plain": [
       "[1, 2, 3, 4, 5, 6, 7, 8, 9, 10]"
      ]
     },
     "execution_count": 74,
     "metadata": {},
     "output_type": "execute_result"
    }
   ],
   "source": [
    "test5([1,2,3,4,5],[6,7,8,9,10])"
   ]
  },
  {
   "cell_type": "code",
   "execution_count": 76,
   "id": "c9afbd5d-e384-48be-9e0d-9eb1c1489f7a",
   "metadata": {},
   "outputs": [
    {
     "data": {
      "text/plain": [
       "'SigmaSagar'"
      ]
     },
     "execution_count": 76,
     "metadata": {},
     "output_type": "execute_result"
    }
   ],
   "source": [
    "test5(b=\"Sagar\",a=\"Sigma\")"
   ]
  },
  {
   "cell_type": "code",
   "execution_count": 77,
   "id": "9e203e61-d87a-49ea-b8a4-bcf519a75d2c",
   "metadata": {},
   "outputs": [],
   "source": [
    "l=[1,2,3,4,5,\"Sagar\",\"Sigma\",[1,2,3,4,5]]"
   ]
  },
  {
   "cell_type": "code",
   "execution_count": 78,
   "id": "706e6293-7593-4e42-b6f3-6ea612b52c58",
   "metadata": {},
   "outputs": [
    {
     "data": {
      "text/plain": [
       "[1, 2, 3, 4, 5, 'Sagar', 'Sigma', [1, 2, 3, 4, 5]]"
      ]
     },
     "execution_count": 78,
     "metadata": {},
     "output_type": "execute_result"
    }
   ],
   "source": [
    "l"
   ]
  },
  {
   "cell_type": "code",
   "execution_count": 79,
   "id": "f2492885-323a-4765-a4f8-061537729004",
   "metadata": {},
   "outputs": [],
   "source": [
    "# Create a function which take list as a input and give me a final list with all the numeric value"
   ]
  },
  {
   "cell_type": "code",
   "execution_count": 81,
   "id": "4fb4047f-05f6-42a5-8f78-6fa5bb81b63f",
   "metadata": {},
   "outputs": [
    {
     "data": {
      "text/plain": [
       "[1, 2, 3, 4, 5, 'Sagar', 'Sigma', [1, 2, 3, 4, 5]]"
      ]
     },
     "execution_count": 81,
     "metadata": {},
     "output_type": "execute_result"
    }
   ],
   "source": [
    "l"
   ]
  },
  {
   "cell_type": "code",
   "execution_count": 91,
   "id": "e089d0df-1d06-4cee-8a99-e175ca4555a5",
   "metadata": {},
   "outputs": [],
   "source": [
    "l=[1,2,3,4,5,\"Sagar\",\"Sigma\",[1,2,3,4,5]]"
   ]
  },
  {
   "cell_type": "code",
   "execution_count": 92,
   "id": "b6fabcdc-7c34-4da1-ad05-fc84108c8db4",
   "metadata": {},
   "outputs": [],
   "source": [
    "def test6(a):\n",
    "    n =[]\n",
    "    for i in a:\n",
    "        if type(i)== int or type(i)==float:\n",
    "            n.append(i)\n",
    "        return n"
   ]
  },
  {
   "cell_type": "code",
   "execution_count": 93,
   "id": "4d404741-bf85-4b18-a7e5-385d263d91e7",
   "metadata": {},
   "outputs": [
    {
     "data": {
      "text/plain": [
       "[1]"
      ]
     },
     "execution_count": 93,
     "metadata": {},
     "output_type": "execute_result"
    }
   ],
   "source": [
    "test6(l)"
   ]
  },
  {
   "cell_type": "code",
   "execution_count": 94,
   "id": "e594f2a6-86b9-4d9f-bbff-f68b15424962",
   "metadata": {},
   "outputs": [
    {
     "data": {
      "text/plain": [
       "[1, 2, 3, 4, 5, 'Sagar', 'Sigma', [1, 2, 3, 4, 5]]"
      ]
     },
     "execution_count": 94,
     "metadata": {},
     "output_type": "execute_result"
    }
   ],
   "source": [
    "l"
   ]
  },
  {
   "cell_type": "code",
   "execution_count": 98,
   "id": "d42c46b0-346c-4076-a998-1f89c4343276",
   "metadata": {},
   "outputs": [],
   "source": [
    "def test7(a):\n",
    "    n=[]\n",
    "    for i in a:\n",
    "        if type(i)==list:\n",
    "            for j in i:\n",
    "                if type(j)==int or type(j)==float:\n",
    "                    n.append(j)\n",
    "        else:\n",
    "            if type(i)== int or type(i)==float:\n",
    "                n.append(i)\n",
    "            return n"
   ]
  },
  {
   "cell_type": "code",
   "execution_count": 104,
   "id": "9164c4c5-ded2-412b-b1cc-374d898ce40c",
   "metadata": {},
   "outputs": [
    {
     "data": {
      "text/plain": [
       "[1]"
      ]
     },
     "execution_count": 104,
     "metadata": {},
     "output_type": "execute_result"
    }
   ],
   "source": [
    "test7(l)"
   ]
  },
  {
   "cell_type": "code",
   "execution_count": 101,
   "id": "74587a75-0c42-4b10-a5bd-785899639104",
   "metadata": {},
   "outputs": [
    {
     "data": {
      "text/plain": [
       "[1, 2, 3, 4, 5, 'Sagar', 'Sigma', [1, 2, 3, 4, 5]]"
      ]
     },
     "execution_count": 101,
     "metadata": {},
     "output_type": "execute_result"
    }
   ],
   "source": [
    "l"
   ]
  },
  {
   "cell_type": "markdown",
   "id": "e6bdbf03-58f7-4912-8394-68b5aa880256",
   "metadata": {},
   "source": [
    "# Function part 2"
   ]
  },
  {
   "cell_type": "code",
   "execution_count": 105,
   "id": "e25b5843-3bbe-4dec-b0fa-4db87180bd88",
   "metadata": {},
   "outputs": [],
   "source": [
    "def test(a,b,c,d,e):\n",
    "    pass"
   ]
  },
  {
   "cell_type": "code",
   "execution_count": 106,
   "id": "1436498c-922a-4e23-9139-156e30261d0c",
   "metadata": {},
   "outputs": [],
   "source": [
    "test(1,2,3,4,5)"
   ]
  },
  {
   "cell_type": "code",
   "execution_count": 112,
   "id": "ea27b7ff-53e7-43a4-a76c-30b20ef1db9f",
   "metadata": {},
   "outputs": [
    {
     "ename": "TypeError",
     "evalue": "test() takes 5 positional arguments but 7 were given",
     "output_type": "error",
     "traceback": [
      "\u001b[0;31m---------------------------------------------------------------------------\u001b[0m",
      "\u001b[0;31mTypeError\u001b[0m                                 Traceback (most recent call last)",
      "Cell \u001b[0;32mIn[112], line 1\u001b[0m\n\u001b[0;32m----> 1\u001b[0m \u001b[43mtest\u001b[49m\u001b[43m(\u001b[49m\u001b[38;5;241;43m1\u001b[39;49m\u001b[43m,\u001b[49m\u001b[38;5;241;43m2\u001b[39;49m\u001b[43m,\u001b[49m\u001b[38;5;241;43m3\u001b[39;49m\u001b[43m,\u001b[49m\u001b[38;5;241;43m4\u001b[39;49m\u001b[43m,\u001b[49m\u001b[38;5;241;43m5\u001b[39;49m\u001b[43m,\u001b[49m\u001b[38;5;241;43m6\u001b[39;49m\u001b[43m,\u001b[49m\u001b[38;5;241;43m7\u001b[39;49m\u001b[43m)\u001b[49m \u001b[38;5;66;03m## If i need to add some more numbers then i should go with below type to add anything\u001b[39;00m\n",
      "\u001b[0;31mTypeError\u001b[0m: test() takes 5 positional arguments but 7 were given"
     ]
    }
   ],
   "source": [
    "test(1,2,3,4,5,6,7) ## If i need to add some more numbers then i should go with below type to add anything"
   ]
  },
  {
   "cell_type": "code",
   "execution_count": 108,
   "id": "c2bcf456-a8dd-44c6-97bc-0abbbe71a21e",
   "metadata": {},
   "outputs": [],
   "source": [
    "def test1(*args):\n",
    "    return args"
   ]
  },
  {
   "cell_type": "code",
   "execution_count": 110,
   "id": "910d09cf-f1d2-4ad5-8fb8-e5d8de6a66cc",
   "metadata": {},
   "outputs": [
    {
     "data": {
      "text/plain": [
       "(2,)"
      ]
     },
     "execution_count": 110,
     "metadata": {},
     "output_type": "execute_result"
    }
   ],
   "source": [
    "test1(2)"
   ]
  },
  {
   "cell_type": "code",
   "execution_count": 113,
   "id": "4ee9a40c-280d-45d9-9402-18057ff39cee",
   "metadata": {},
   "outputs": [
    {
     "data": {
      "text/plain": [
       "('Sagar', [1, 2, 3, 4, 5, 6], (1, 2, 3, 4, 5, 6))"
      ]
     },
     "execution_count": 113,
     "metadata": {},
     "output_type": "execute_result"
    }
   ],
   "source": [
    "test1(\"Sagar\",[1,2,3,4,5,6],(1,2,3,4,5,6))"
   ]
  },
  {
   "cell_type": "code",
   "execution_count": 114,
   "id": "6627bd58-83fa-47ef-bf10-745129db6389",
   "metadata": {},
   "outputs": [],
   "source": [
    "def test2(*Sagar):\n",
    "    return Sagar"
   ]
  },
  {
   "cell_type": "code",
   "execution_count": 115,
   "id": "ceba279f-b7a8-4c10-a9ce-9740882d7088",
   "metadata": {},
   "outputs": [
    {
     "data": {
      "text/plain": [
       "(3, 4, 5, 6)"
      ]
     },
     "execution_count": 115,
     "metadata": {},
     "output_type": "execute_result"
    }
   ],
   "source": [
    "test2(3,4,5,6)"
   ]
  },
  {
   "cell_type": "code",
   "execution_count": 116,
   "id": "ce70d0d5-9713-4ea9-ad8d-fe397928b651",
   "metadata": {},
   "outputs": [],
   "source": [
    "def test3(*args,a):\n",
    "    return args,a"
   ]
  },
  {
   "cell_type": "code",
   "execution_count": 119,
   "id": "b9c87898-a3ab-4e04-885e-58532bc852d0",
   "metadata": {},
   "outputs": [
    {
     "ename": "TypeError",
     "evalue": "test3() missing 1 required keyword-only argument: 'a'",
     "output_type": "error",
     "traceback": [
      "\u001b[0;31m---------------------------------------------------------------------------\u001b[0m",
      "\u001b[0;31mTypeError\u001b[0m                                 Traceback (most recent call last)",
      "Cell \u001b[0;32mIn[119], line 1\u001b[0m\n\u001b[0;32m----> 1\u001b[0m \u001b[43mtest3\u001b[49m\u001b[43m(\u001b[49m\u001b[38;5;241;43m3\u001b[39;49m\u001b[43m)\u001b[49m\n",
      "\u001b[0;31mTypeError\u001b[0m: test3() missing 1 required keyword-only argument: 'a'"
     ]
    }
   ],
   "source": [
    "test3(3)"
   ]
  },
  {
   "cell_type": "code",
   "execution_count": 118,
   "id": "b2aedc22-b3e3-4570-9a56-85d7551a2947",
   "metadata": {},
   "outputs": [
    {
     "data": {
      "text/plain": [
       "((1, 2, 3, 4), 'Sagar')"
      ]
     },
     "execution_count": 118,
     "metadata": {},
     "output_type": "execute_result"
    }
   ],
   "source": [
    "test3(1,2,3,4,a=\"Sagar\")"
   ]
  },
  {
   "cell_type": "code",
   "execution_count": 120,
   "id": "1a90c889-9d38-4f91-9973-38127df8a5d0",
   "metadata": {},
   "outputs": [],
   "source": [
    "def test4(*args):\n",
    "    l=[]\n",
    "    for i in args:\n",
    "        if type(i)==list:\n",
    "            l.append(i)\n",
    "    return l"
   ]
  },
  {
   "cell_type": "code",
   "execution_count": 121,
   "id": "4179ecfa-7e33-423d-9505-20730f6e4d01",
   "metadata": {},
   "outputs": [
    {
     "data": {
      "text/plain": [
       "[[1, 2, 3, 4, 5, 4], [4, 5, 6], [6, 7, 8]]"
      ]
     },
     "execution_count": 121,
     "metadata": {},
     "output_type": "execute_result"
    }
   ],
   "source": [
    "test4(1,2,3,4,5,[1,2,3,4,5,4],(1,2,3,45,),\"Sagar\",[4,5,6],[6,7,8])"
   ]
  },
  {
   "cell_type": "code",
   "execution_count": 127,
   "id": "c43833f5-1b26-4def-9ef2-6e0eb95ca34c",
   "metadata": {},
   "outputs": [],
   "source": [
    "def test5(**kwargs):\n",
    "    return kwargs"
   ]
  },
  {
   "cell_type": "code",
   "execution_count": 128,
   "id": "383cb6db-63bd-4eec-a219-033710fc9e11",
   "metadata": {},
   "outputs": [
    {
     "data": {
      "text/plain": [
       "{}"
      ]
     },
     "execution_count": 128,
     "metadata": {},
     "output_type": "execute_result"
    }
   ],
   "source": [
    "test5()"
   ]
  },
  {
   "cell_type": "code",
   "execution_count": 129,
   "id": "c0a0c401-8272-4e3a-ae99-741b215a8c2c",
   "metadata": {},
   "outputs": [
    {
     "data": {
      "text/plain": [
       "dict"
      ]
     },
     "execution_count": 129,
     "metadata": {},
     "output_type": "execute_result"
    }
   ],
   "source": [
    "type(test5())"
   ]
  },
  {
   "cell_type": "code",
   "execution_count": 130,
   "id": "6841cce7-72bf-4d24-bfa6-1800c69a8faf",
   "metadata": {},
   "outputs": [
    {
     "data": {
      "text/plain": [
       "{'a': 5, 'b': 23, 'c': [1, 2, 3, 4], 'd': ('Sagar', 'pwskills')}"
      ]
     },
     "execution_count": 130,
     "metadata": {},
     "output_type": "execute_result"
    }
   ],
   "source": [
    "test5(a=5,b=23,c=[1,2,3,4],d=(\"Sagar\",\"pwskills\"))"
   ]
  },
  {
   "cell_type": "code",
   "execution_count": 131,
   "id": "a5321a5e-ebf2-478a-aa2a-c12b289b3951",
   "metadata": {},
   "outputs": [],
   "source": [
    "def test6(**kwargs):\n",
    "    for i in kwargs.keys():\n",
    "        if type(kwargs[i])==list:\n",
    "            return i ,kwargs[i]"
   ]
  },
  {
   "cell_type": "code",
   "execution_count": 132,
   "id": "4b6f77b5-9db1-46b7-9b03-e2167ead0188",
   "metadata": {},
   "outputs": [
    {
     "data": {
      "text/plain": [
       "('c', [1, 2, 3, 4])"
      ]
     },
     "execution_count": 132,
     "metadata": {},
     "output_type": "execute_result"
    }
   ],
   "source": [
    "test6(a=34,b=23,c=[1,2,3,4],d=(\"Sagar\",\"pwskills\"))"
   ]
  },
  {
   "cell_type": "code",
   "execution_count": 2,
   "id": "48f51fb1-4811-4fbc-9c7e-f07320563c11",
   "metadata": {},
   "outputs": [
    {
     "ename": "SyntaxError",
     "evalue": "invalid syntax (293405957.py, line 1)",
     "output_type": "error",
     "traceback": [
      "\u001b[0;36m  Cell \u001b[0;32mIn[2], line 1\u001b[0;36m\u001b[0m\n\u001b[0;31m    def test7(**args,**rankargs):\u001b[0m\n\u001b[0m                     ^\u001b[0m\n\u001b[0;31mSyntaxError\u001b[0m\u001b[0;31m:\u001b[0m invalid syntax\n"
     ]
    }
   ],
   "source": [
    "def test7(**args,**rankargs):\n",
    "    return args,kwargs"
   ]
  },
  {
   "cell_type": "code",
   "execution_count": 3,
   "id": "99ad283f-22f4-4013-a2e5-d8e41a832489",
   "metadata": {},
   "outputs": [
    {
     "ename": "NameError",
     "evalue": "name 'test7' is not defined",
     "output_type": "error",
     "traceback": [
      "\u001b[0;31m---------------------------------------------------------------------------\u001b[0m",
      "\u001b[0;31mNameError\u001b[0m                                 Traceback (most recent call last)",
      "Cell \u001b[0;32mIn[3], line 1\u001b[0m\n\u001b[0;32m----> 1\u001b[0m \u001b[43mtest7\u001b[49m(\u001b[38;5;241m2\u001b[39m,\u001b[38;5;241m3\u001b[39m,\u001b[38;5;241m4\u001b[39m,\u001b[38;5;241m5\u001b[39m,a\u001b[38;5;241m=\u001b[39m\u001b[38;5;241m34\u001b[39m,b\u001b[38;5;241m=\u001b[39m\u001b[38;5;241m45\u001b[39m)\n",
      "\u001b[0;31mNameError\u001b[0m: name 'test7' is not defined"
     ]
    }
   ],
   "source": [
    "test7(2,3,4,5,a=34,b=45)"
   ]
  },
  {
   "cell_type": "markdown",
   "id": "f455d3d9-00fe-4806-a437-8f96dc364501",
   "metadata": {},
   "source": [
    "# Generator function"
   ]
  },
  {
   "cell_type": "code",
   "execution_count": 139,
   "id": "08e05d99-b64e-491f-a78b-ce31270b2038",
   "metadata": {},
   "outputs": [
    {
     "data": {
      "text/plain": [
       "range(1, 10)"
      ]
     },
     "execution_count": 139,
     "metadata": {},
     "output_type": "execute_result"
    }
   ],
   "source": [
    "range(1,10)"
   ]
  },
  {
   "cell_type": "code",
   "execution_count": 141,
   "id": "52d34a4c-d894-4337-9792-69f24addd8dc",
   "metadata": {},
   "outputs": [
    {
     "name": "stdout",
     "output_type": "stream",
     "text": [
      "1\n",
      "2\n",
      "3\n",
      "4\n",
      "5\n",
      "6\n",
      "7\n",
      "8\n",
      "9\n"
     ]
    }
   ],
   "source": [
    "for i in range(1,10):\n",
    "    print(i)"
   ]
  },
  {
   "cell_type": "code",
   "execution_count": 142,
   "id": "2edde615-ea59-4d38-850a-618719567af6",
   "metadata": {},
   "outputs": [],
   "source": [
    "l=[1,2,3,4,5,6,7,8,8,7,\"Sagar\",\"pwskills\"]"
   ]
  },
  {
   "cell_type": "code",
   "execution_count": 143,
   "id": "1c844939-5927-4fe3-966b-fed3e9a03821",
   "metadata": {},
   "outputs": [],
   "source": [
    "def test1(a):\n",
    "    n=[]\n",
    "    for i in a:\n",
    "        if type(i)==int:\n",
    "            n.append(i)\n",
    "    return n"
   ]
  },
  {
   "cell_type": "code",
   "execution_count": 145,
   "id": "bf123776-6b1a-480e-8e1d-4803fa3dae08",
   "metadata": {},
   "outputs": [
    {
     "data": {
      "text/plain": [
       "[1, 2, 3, 4, 5, 6, 7, 8, 8, 7]"
      ]
     },
     "execution_count": 145,
     "metadata": {},
     "output_type": "execute_result"
    }
   ],
   "source": [
    "test1(l)"
   ]
  },
  {
   "cell_type": "code",
   "execution_count": null,
   "id": "166f27ef-8493-4f8b-8c09-08edefd3bc20",
   "metadata": {},
   "outputs": [],
   "source": [
    "Fibonacci :\n",
    "    0,1,1,2,3,5,8,13,21,34"
   ]
  },
  {
   "cell_type": "code",
   "execution_count": 2,
   "id": "d65dfd9c-f899-4192-b889-113d2b72c971",
   "metadata": {},
   "outputs": [],
   "source": [
    "def test_fib(n):\n",
    "    a,b=0,1\n",
    "    for i in range(n):\n",
    "        yield a \n",
    "    a,b=b,a+b"
   ]
  },
  {
   "cell_type": "code",
   "execution_count": 3,
   "id": "196b45a2-1b4d-41b2-b8b6-04fa741467f4",
   "metadata": {},
   "outputs": [
    {
     "data": {
      "text/plain": [
       "<generator object test_fib at 0x7fd0da5315b0>"
      ]
     },
     "execution_count": 3,
     "metadata": {},
     "output_type": "execute_result"
    }
   ],
   "source": [
    "test_fib(10)"
   ]
  },
  {
   "cell_type": "code",
   "execution_count": 6,
   "id": "33be695a-2f38-4dee-8538-81c4fa8f519b",
   "metadata": {},
   "outputs": [
    {
     "name": "stdout",
     "output_type": "stream",
     "text": [
      "0\n",
      "0\n",
      "0\n",
      "0\n",
      "0\n",
      "0\n",
      "0\n",
      "0\n",
      "0\n",
      "0\n"
     ]
    }
   ],
   "source": [
    "for i in test_fib (10):\n",
    "    print (i)                ## Doubt"
   ]
  },
  {
   "cell_type": "code",
   "execution_count": null,
   "id": "f766e56d-ca74-4e04-9aa7-dee11cdf3008",
   "metadata": {},
   "outputs": [],
   "source": []
  },
  {
   "cell_type": "markdown",
   "id": "035efcf8-37f4-478d-8983-f098c18f2e6e",
   "metadata": {},
   "source": [
    "# Lambda function"
   ]
  },
  {
   "cell_type": "code",
   "execution_count": 162,
   "id": "d2d6e598-04c6-417c-85b4-512dc863bedf",
   "metadata": {},
   "outputs": [],
   "source": [
    "n=3\n",
    "p=2"
   ]
  },
  {
   "cell_type": "code",
   "execution_count": 169,
   "id": "9319bf4f-340b-43b8-8592-15c38a93a329",
   "metadata": {},
   "outputs": [],
   "source": [
    "def test(n,p):\n",
    "    return n**p  # It act as n to the power p"
   ]
  },
  {
   "cell_type": "code",
   "execution_count": 168,
   "id": "b0f5c115-f976-45e7-963c-9131cc8ba99d",
   "metadata": {},
   "outputs": [
    {
     "data": {
      "text/plain": [
       "9"
      ]
     },
     "execution_count": 168,
     "metadata": {},
     "output_type": "execute_result"
    }
   ],
   "source": [
    "test(3,2)"
   ]
  },
  {
   "cell_type": "code",
   "execution_count": 170,
   "id": "b535144f-d0bb-4389-afdb-b7b301b83846",
   "metadata": {},
   "outputs": [
    {
     "data": {
      "text/plain": [
       "729"
      ]
     },
     "execution_count": 170,
     "metadata": {},
     "output_type": "execute_result"
    }
   ],
   "source": [
    "test(9,3)"
   ]
  },
  {
   "cell_type": "code",
   "execution_count": 171,
   "id": "a8cb0a11-6ef5-4064-b58e-46dda1d6cb6a",
   "metadata": {},
   "outputs": [
    {
     "data": {
      "text/plain": [
       "<function __main__.<lambda>(n, p)>"
      ]
     },
     "execution_count": 171,
     "metadata": {},
     "output_type": "execute_result"
    }
   ],
   "source": [
    "lambda n,p:n**p"
   ]
  },
  {
   "cell_type": "code",
   "execution_count": 173,
   "id": "1d9b335b-908e-48ce-889a-7e3a0c95e09b",
   "metadata": {},
   "outputs": [],
   "source": [
    "a =lambda n,p:n**p"
   ]
  },
  {
   "cell_type": "code",
   "execution_count": 174,
   "id": "1715c19c-c3d6-4bc5-bd13-cbf92d081fe3",
   "metadata": {},
   "outputs": [
    {
     "data": {
      "text/plain": [
       "6561"
      ]
     },
     "execution_count": 174,
     "metadata": {},
     "output_type": "execute_result"
    }
   ],
   "source": [
    "a(9,4)"
   ]
  },
  {
   "cell_type": "code",
   "execution_count": 176,
   "id": "b19b6125-125d-4ef3-bdc6-1f119ba68446",
   "metadata": {},
   "outputs": [],
   "source": [
    "add=lambda x,y:x+y"
   ]
  },
  {
   "cell_type": "code",
   "execution_count": 177,
   "id": "4047fbca-1d81-4504-9e6b-6a8a24a77c5f",
   "metadata": {},
   "outputs": [
    {
     "data": {
      "text/plain": [
       "268"
      ]
     },
     "execution_count": 177,
     "metadata": {},
     "output_type": "execute_result"
    }
   ],
   "source": [
    "add(234,34)"
   ]
  },
  {
   "cell_type": "code",
   "execution_count": 178,
   "id": "7721e69b-3d67-4265-a80e-cb71724c841f",
   "metadata": {},
   "outputs": [],
   "source": [
    "c_to_f =lambda c :(9/5)*c+32"
   ]
  },
  {
   "cell_type": "code",
   "execution_count": 179,
   "id": "bfc1b14f-1001-46f6-ac22-040d39f1c921",
   "metadata": {},
   "outputs": [
    {
     "data": {
      "text/plain": [
       "93.2"
      ]
     },
     "execution_count": 179,
     "metadata": {},
     "output_type": "execute_result"
    }
   ],
   "source": [
    "c_to_f(34)"
   ]
  },
  {
   "cell_type": "code",
   "execution_count": 180,
   "id": "e50e9b91-5a7c-464c-a9aa-d561988f57cf",
   "metadata": {},
   "outputs": [],
   "source": [
    "max_two=lambda x,y:x if x>y else y"
   ]
  },
  {
   "cell_type": "code",
   "execution_count": 181,
   "id": "7181290f-449d-463f-8c1b-2789ab125a8b",
   "metadata": {},
   "outputs": [
    {
     "data": {
      "text/plain": [
       "5"
      ]
     },
     "execution_count": 181,
     "metadata": {},
     "output_type": "execute_result"
    }
   ],
   "source": [
    "max_two(4,5)"
   ]
  },
  {
   "cell_type": "code",
   "execution_count": 182,
   "id": "acb1906e-8849-4bf3-8cff-d078d2ebbbbd",
   "metadata": {},
   "outputs": [
    {
     "data": {
      "text/plain": [
       "567"
      ]
     },
     "execution_count": 182,
     "metadata": {},
     "output_type": "execute_result"
    }
   ],
   "source": [
    "max_two(4,567)"
   ]
  },
  {
   "cell_type": "code",
   "execution_count": 183,
   "id": "a64f8f27-b927-459f-b4e9-c5befd284a62",
   "metadata": {},
   "outputs": [],
   "source": [
    "s=\"Sagar\""
   ]
  },
  {
   "cell_type": "code",
   "execution_count": 184,
   "id": "8adf04e6-a279-4929-b8b7-5832e3e4878f",
   "metadata": {},
   "outputs": [
    {
     "data": {
      "text/plain": [
       "5"
      ]
     },
     "execution_count": 184,
     "metadata": {},
     "output_type": "execute_result"
    }
   ],
   "source": [
    "len(s)"
   ]
  },
  {
   "cell_type": "code",
   "execution_count": 185,
   "id": "938910f6-44df-48db-9c43-d6a1db9542f6",
   "metadata": {},
   "outputs": [],
   "source": [
    "len_st=lambda s :len(s)"
   ]
  },
  {
   "cell_type": "code",
   "execution_count": 187,
   "id": "ab5db488-d50f-4416-b09a-0b0d73778516",
   "metadata": {},
   "outputs": [
    {
     "data": {
      "text/plain": [
       "5"
      ]
     },
     "execution_count": 187,
     "metadata": {},
     "output_type": "execute_result"
    }
   ],
   "source": [
    "len_st(s)"
   ]
  },
  {
   "cell_type": "code",
   "execution_count": null,
   "id": "470df863-ae24-4455-81ea-4b78c8022b4a",
   "metadata": {},
   "outputs": [],
   "source": []
  },
  {
   "cell_type": "markdown",
   "id": "1a832e33-c6e5-426b-b0ec-d48535e42ba3",
   "metadata": {},
   "source": [
    "# Map,Reduce,Filter function"
   ]
  },
  {
   "cell_type": "code",
   "execution_count": 22,
   "id": "8957af69-e72a-473e-89e7-b31696644045",
   "metadata": {},
   "outputs": [],
   "source": [
    "l=[1,2,3,4,55]"
   ]
  },
  {
   "cell_type": "code",
   "execution_count": 23,
   "id": "26a2439b-4ac4-4e2d-8498-e57cb9c9a95a",
   "metadata": {},
   "outputs": [],
   "source": [
    "def test (l):\n",
    "    l1=[]\n",
    "    for i in l:\n",
    "        l1.append(i**2)\n",
    "    return l1"
   ]
  },
  {
   "cell_type": "code",
   "execution_count": 24,
   "id": "cc78ea3a-0d07-4348-9c1c-85e24637d95b",
   "metadata": {},
   "outputs": [
    {
     "data": {
      "text/plain": [
       "[1, 4, 9, 16, 3025]"
      ]
     },
     "execution_count": 24,
     "metadata": {},
     "output_type": "execute_result"
    }
   ],
   "source": [
    "test(l)"
   ]
  },
  {
   "cell_type": "code",
   "execution_count": 17,
   "id": "f567bd85-179b-4fdf-ad95-cebc8822732c",
   "metadata": {},
   "outputs": [],
   "source": [
    "s=[1,2,3,4,5]"
   ]
  },
  {
   "cell_type": "code",
   "execution_count": 18,
   "id": "5c504273-a7f4-435d-82bb-6233f4d27edb",
   "metadata": {},
   "outputs": [],
   "source": [
    "def test (s):\n",
    "    s1=[]\n",
    "    for i in s:\n",
    "        s1.append(i**2)\n",
    "    return s1"
   ]
  },
  {
   "cell_type": "code",
   "execution_count": 19,
   "id": "11672ea3-fce2-4940-9e85-2d3cc368f1bb",
   "metadata": {},
   "outputs": [
    {
     "data": {
      "text/plain": [
       "[1, 4, 9, 16, 25]"
      ]
     },
     "execution_count": 19,
     "metadata": {},
     "output_type": "execute_result"
    }
   ],
   "source": [
    "test(s)"
   ]
  },
  {
   "cell_type": "code",
   "execution_count": 25,
   "id": "68a21bee-ffea-44d4-9b6d-4823ded730b9",
   "metadata": {},
   "outputs": [],
   "source": [
    "def sq(x):\n",
    "    return x**2"
   ]
  },
  {
   "cell_type": "code",
   "execution_count": 26,
   "id": "6603ad5b-c5e6-490e-ad90-a07439d0b2f9",
   "metadata": {},
   "outputs": [
    {
     "data": {
      "text/plain": [
       "[1, 4, 9, 16, 3025]"
      ]
     },
     "execution_count": 26,
     "metadata": {},
     "output_type": "execute_result"
    }
   ],
   "source": [
    "list(map(sq,l))"
   ]
  },
  {
   "cell_type": "code",
   "execution_count": 33,
   "id": "ac6b7036-4911-4ca8-a31c-51a48d5515d8",
   "metadata": {},
   "outputs": [
    {
     "data": {
      "text/plain": [
       "[1, 4, 9, 16, 3025]"
      ]
     },
     "execution_count": 33,
     "metadata": {},
     "output_type": "execute_result"
    }
   ],
   "source": [
    "list(map(lambda x:x**2,l)) ## Multiplication function"
   ]
  },
  {
   "cell_type": "code",
   "execution_count": 36,
   "id": "2a51545b-c803-41fe-9e0c-15a44d828d50",
   "metadata": {},
   "outputs": [
    {
     "data": {
      "text/plain": [
       "[11, 12, 13, 14, 65]"
      ]
     },
     "execution_count": 36,
     "metadata": {},
     "output_type": "execute_result"
    }
   ],
   "source": [
    " list(map(lambda x:x+10,l))  ## Add function"
   ]
  },
  {
   "cell_type": "code",
   "execution_count": 37,
   "id": "f38f9be5-f7ed-4505-b092-38d05cfa1963",
   "metadata": {},
   "outputs": [
    {
     "data": {
      "text/plain": [
       "['1', '2', '3', '4', '55']"
      ]
     },
     "execution_count": 37,
     "metadata": {},
     "output_type": "execute_result"
    }
   ],
   "source": [
    "list(map(lambda x:str(x),l)) "
   ]
  },
  {
   "cell_type": "code",
   "execution_count": 42,
   "id": "13f1bb5e-e258-4307-bfbc-b4402dc1fc44",
   "metadata": {},
   "outputs": [],
   "source": [
    "l1=[1,2,3,4,5]\n",
    "l2=[6,7,8,9,10]"
   ]
  },
  {
   "cell_type": "code",
   "execution_count": 43,
   "id": "674e4353-4129-44d2-b2c4-8aa55a7d5f52",
   "metadata": {},
   "outputs": [
    {
     "data": {
      "text/plain": [
       "[6, 14, 24, 36, 50]"
      ]
     },
     "execution_count": 43,
     "metadata": {},
     "output_type": "execute_result"
    }
   ],
   "source": [
    "list(map(lambda x,y :x*y , l1,l2))"
   ]
  },
  {
   "cell_type": "code",
   "execution_count": 45,
   "id": "84834174-1d9c-4189-a9ba-f422cf26a71c",
   "metadata": {},
   "outputs": [
    {
     "data": {
      "text/plain": [
       "[7, 9, 11, 13, 15]"
      ]
     },
     "execution_count": 45,
     "metadata": {},
     "output_type": "execute_result"
    }
   ],
   "source": [
    "list(map(lambda x,y: x+y,l1,l2))"
   ]
  },
  {
   "cell_type": "code",
   "execution_count": 47,
   "id": "b3f5562c-5563-4fd7-a4b1-f4f99ee1fafd",
   "metadata": {},
   "outputs": [],
   "source": [
    "f=lambda x,y:x+y"
   ]
  },
  {
   "cell_type": "code",
   "execution_count": 48,
   "id": "caaf4dba-90e9-425f-b6d1-1c40c7a94c88",
   "metadata": {},
   "outputs": [
    {
     "data": {
      "text/plain": [
       "[7, 9, 11, 13, 15]"
      ]
     },
     "execution_count": 48,
     "metadata": {},
     "output_type": "execute_result"
    }
   ],
   "source": [
    "list(map(f,l1,l2))"
   ]
  },
  {
   "cell_type": "code",
   "execution_count": 49,
   "id": "5abd2f58-b1ba-4914-bb08-0907085b1b8d",
   "metadata": {},
   "outputs": [],
   "source": [
    "s=\"pwskills\""
   ]
  },
  {
   "cell_type": "code",
   "execution_count": 50,
   "id": "5f94f760-92d7-45de-95a0-1bb0e57e7d37",
   "metadata": {},
   "outputs": [
    {
     "data": {
      "text/plain": [
       "['P', 'W', 'S', 'K', 'I', 'L', 'L', 'S']"
      ]
     },
     "execution_count": 50,
     "metadata": {},
     "output_type": "execute_result"
    }
   ],
   "source": [
    "list(map(lambda x:x.upper(), s))"
   ]
  },
  {
   "cell_type": "code",
   "execution_count": 51,
   "id": "4ebb04ea-ce7a-4daf-810f-8eec2f599dbc",
   "metadata": {},
   "outputs": [],
   "source": [
    "from functools import reduce"
   ]
  },
  {
   "cell_type": "code",
   "execution_count": 54,
   "id": "e5460a03-f6f3-47dc-8a24-095ee3f3b93c",
   "metadata": {},
   "outputs": [],
   "source": [
    "l=[1,2,3,4,5,54]"
   ]
  },
  {
   "cell_type": "code",
   "execution_count": 55,
   "id": "a0b2e2fe-3310-45af-94d2-c6b264a4cd82",
   "metadata": {},
   "outputs": [
    {
     "data": {
      "text/plain": [
       "69"
      ]
     },
     "execution_count": 55,
     "metadata": {},
     "output_type": "execute_result"
    }
   ],
   "source": [
    "reduce(lambda x,y:x+y,l) ##Add all the numbers which ar enterd in the list"
   ]
  },
  {
   "cell_type": "code",
   "execution_count": 57,
   "id": "d97e4498-1bf1-4d06-8e03-ea474057b14b",
   "metadata": {},
   "outputs": [],
   "source": [
    "def add (x,y):\n",
    "    return x+y"
   ]
  },
  {
   "cell_type": "code",
   "execution_count": 62,
   "id": "097a65fb-3358-4b34-b30d-08330c1fc676",
   "metadata": {},
   "outputs": [
    {
     "data": {
      "text/plain": [
       "69"
      ]
     },
     "execution_count": 62,
     "metadata": {},
     "output_type": "execute_result"
    }
   ],
   "source": [
    "reduce (add,l)"
   ]
  },
  {
   "cell_type": "code",
   "execution_count": 64,
   "id": "02f32eea-3317-41dd-b05f-864e13ef61a0",
   "metadata": {},
   "outputs": [
    {
     "ename": "TypeError",
     "evalue": "<lambda>() missing 1 required positional argument: 'z'",
     "output_type": "error",
     "traceback": [
      "\u001b[0;31m---------------------------------------------------------------------------\u001b[0m",
      "\u001b[0;31mTypeError\u001b[0m                                 Traceback (most recent call last)",
      "Cell \u001b[0;32mIn[64], line 1\u001b[0m\n\u001b[0;32m----> 1\u001b[0m \u001b[43mreduce\u001b[49m\u001b[43m(\u001b[49m\u001b[38;5;28;43;01mlambda\u001b[39;49;00m\u001b[43m \u001b[49m\u001b[43mx\u001b[49m\u001b[43m,\u001b[49m\u001b[43my\u001b[49m\u001b[43m,\u001b[49m\u001b[43mz\u001b[49m\u001b[43m:\u001b[49m\u001b[43mx\u001b[49m\u001b[38;5;241;43m*\u001b[39;49m\u001b[43my\u001b[49m\u001b[38;5;241;43m*\u001b[39;49m\u001b[43mz\u001b[49m\u001b[43m,\u001b[49m\u001b[43ml\u001b[49m\u001b[43m)\u001b[49m \u001b[38;5;66;03m# In the absence of z function\u001b[39;00m\n",
      "\u001b[0;31mTypeError\u001b[0m: <lambda>() missing 1 required positional argument: 'z'"
     ]
    }
   ],
   "source": [
    "reduce(lambda x,y,z:x*y*z,l) # In the absence of z function"
   ]
  },
  {
   "cell_type": "code",
   "execution_count": 65,
   "id": "0e6d384b-5000-49c2-a369-76a92341a7cd",
   "metadata": {},
   "outputs": [
    {
     "data": {
      "text/plain": [
       "[1, 2, 3, 4, 5, 54]"
      ]
     },
     "execution_count": 65,
     "metadata": {},
     "output_type": "execute_result"
    }
   ],
   "source": [
    "l"
   ]
  },
  {
   "cell_type": "code",
   "execution_count": 66,
   "id": "fb511e4a-b01b-4031-9c6e-00e4989cc8a3",
   "metadata": {},
   "outputs": [
    {
     "ename": "TypeError",
     "evalue": "reduce() of empty iterable with no initial value",
     "output_type": "error",
     "traceback": [
      "\u001b[0;31m---------------------------------------------------------------------------\u001b[0m",
      "\u001b[0;31mTypeError\u001b[0m                                 Traceback (most recent call last)",
      "Cell \u001b[0;32mIn[66], line 1\u001b[0m\n\u001b[0;32m----> 1\u001b[0m \u001b[43mreduce\u001b[49m\u001b[43m \u001b[49m\u001b[43m(\u001b[49m\u001b[38;5;28;43;01mlambda\u001b[39;49;00m\u001b[43m \u001b[49m\u001b[43mx\u001b[49m\u001b[43m,\u001b[49m\u001b[43my\u001b[49m\u001b[43m \u001b[49m\u001b[43m:\u001b[49m\u001b[43mx\u001b[49m\u001b[38;5;241;43m+\u001b[39;49m\u001b[43my\u001b[49m\u001b[43m,\u001b[49m\u001b[43m[\u001b[49m\u001b[43m]\u001b[49m\u001b[43m)\u001b[49m\n",
      "\u001b[0;31mTypeError\u001b[0m: reduce() of empty iterable with no initial value"
     ]
    }
   ],
   "source": [
    "reduce (lambda x,y :x+y,[])"
   ]
  },
  {
   "cell_type": "code",
   "execution_count": 67,
   "id": "fcc1ba99-87b2-4958-92e3-28c327c6b281",
   "metadata": {},
   "outputs": [
    {
     "data": {
      "text/plain": [
       "1"
      ]
     },
     "execution_count": 67,
     "metadata": {},
     "output_type": "execute_result"
    }
   ],
   "source": [
    "reduce (lambda x,y :x+y,[1])"
   ]
  },
  {
   "cell_type": "code",
   "execution_count": 70,
   "id": "fef53d15-2943-4fba-a3b9-2b8688b85ce9",
   "metadata": {},
   "outputs": [
    {
     "data": {
      "text/plain": [
       "[1, 2, 3, 4, 5, 54]"
      ]
     },
     "execution_count": 70,
     "metadata": {},
     "output_type": "execute_result"
    }
   ],
   "source": [
    "l"
   ]
  },
  {
   "cell_type": "code",
   "execution_count": 71,
   "id": "af15d0ef-7bc6-437f-8db7-92b9b2138b1e",
   "metadata": {},
   "outputs": [
    {
     "data": {
      "text/plain": [
       "54"
      ]
     },
     "execution_count": 71,
     "metadata": {},
     "output_type": "execute_result"
    }
   ],
   "source": [
    "reduce (lambda x,y:x if x>y else y,l)"
   ]
  },
  {
   "cell_type": "markdown",
   "id": "7cb94541-71df-45d4-8ea2-d2db7c53ac6b",
   "metadata": {},
   "source": [
    "# Filter function"
   ]
  },
  {
   "cell_type": "code",
   "execution_count": 72,
   "id": "26a8d036-9c8b-4fe5-9d87-9c6eb4d7b659",
   "metadata": {},
   "outputs": [
    {
     "data": {
      "text/plain": [
       "[1, 2, 3, 4, 5, 54]"
      ]
     },
     "execution_count": 72,
     "metadata": {},
     "output_type": "execute_result"
    }
   ],
   "source": [
    "l"
   ]
  },
  {
   "cell_type": "code",
   "execution_count": 74,
   "id": "d20f362a-e774-4095-80ef-b2197eb4ad32",
   "metadata": {},
   "outputs": [
    {
     "data": {
      "text/plain": [
       "[2, 4, 54]"
      ]
     },
     "execution_count": 74,
     "metadata": {},
     "output_type": "execute_result"
    }
   ],
   "source": [
    "list(filter(lambda x:x%2==0,l))"
   ]
  },
  {
   "cell_type": "code",
   "execution_count": 75,
   "id": "81a9b2b7-5681-44a3-9ad0-8162fdfee485",
   "metadata": {},
   "outputs": [
    {
     "data": {
      "text/plain": [
       "[1, 3, 5]"
      ]
     },
     "execution_count": 75,
     "metadata": {},
     "output_type": "execute_result"
    }
   ],
   "source": [
    "list(filter(lambda x:x%2!=0,l))"
   ]
  },
  {
   "cell_type": "code",
   "execution_count": 82,
   "id": "ac6b89b2-79f6-4e4a-9b8d-33e81597f884",
   "metadata": {},
   "outputs": [],
   "source": [
    "l1=[1,2,3,45,-23,-3,-5]"
   ]
  },
  {
   "cell_type": "code",
   "execution_count": 85,
   "id": "046cd988-4128-49c2-9ee4-ccc28ed11b14",
   "metadata": {},
   "outputs": [
    {
     "data": {
      "text/plain": [
       "[-23, -3, -5]"
      ]
     },
     "execution_count": 85,
     "metadata": {},
     "output_type": "execute_result"
    }
   ],
   "source": [
    "list(filter(lambda x:x<0,l1))"
   ]
  },
  {
   "cell_type": "code",
   "execution_count": 86,
   "id": "e1167f9b-2476-455a-908e-5fbbad7b9937",
   "metadata": {},
   "outputs": [
    {
     "data": {
      "text/plain": [
       "[1, 2, 3, 45]"
      ]
     },
     "execution_count": 86,
     "metadata": {},
     "output_type": "execute_result"
    }
   ],
   "source": [
    "list(filter(lambda x:x>=0,l1))"
   ]
  },
  {
   "cell_type": "code",
   "execution_count": 87,
   "id": "0eab3e2b-36d6-4723-879c-b524781a9fa6",
   "metadata": {},
   "outputs": [],
   "source": [
    "l2=[\"Sagar\",\"pwskills\",\"kumar\",\"bangalore\"]"
   ]
  },
  {
   "cell_type": "code",
   "execution_count": 92,
   "id": "ec991ef9-1591-4d63-a0da-9f01c5d1bece",
   "metadata": {},
   "outputs": [
    {
     "data": {
      "text/plain": [
       "['Sagar', 'kumar']"
      ]
     },
     "execution_count": 92,
     "metadata": {},
     "output_type": "execute_result"
    }
   ],
   "source": [
    "list(filter(lambda x:len(x)<6,l2)) # On the basis of the length of the function names get seperated"
   ]
  },
  {
   "cell_type": "code",
   "execution_count": 91,
   "id": "d1b5c095-9f92-45ba-ab62-e01db5bf44d3",
   "metadata": {},
   "outputs": [
    {
     "data": {
      "text/plain": [
       "['pwskills', 'bangalore']"
      ]
     },
     "execution_count": 91,
     "metadata": {},
     "output_type": "execute_result"
    }
   ],
   "source": [
    "list(filter(lambda x:len(x)>=7,l2))"
   ]
  },
  {
   "cell_type": "code",
   "execution_count": null,
   "id": "ee8cc1b6-bf61-48a1-bb87-33fbc658d84e",
   "metadata": {},
   "outputs": [],
   "source": []
  }
 ],
 "metadata": {
  "kernelspec": {
   "display_name": "Python 3 (ipykernel)",
   "language": "python",
   "name": "python3"
  },
  "language_info": {
   "codemirror_mode": {
    "name": "ipython",
    "version": 3
   },
   "file_extension": ".py",
   "mimetype": "text/x-python",
   "name": "python",
   "nbconvert_exporter": "python",
   "pygments_lexer": "ipython3",
   "version": "3.10.8"
  }
 },
 "nbformat": 4,
 "nbformat_minor": 5
}
