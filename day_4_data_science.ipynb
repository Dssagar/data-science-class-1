{
 "cells": [
  {
   "cell_type": "code",
   "execution_count": 2,
   "id": "df8ec70f-98b3-4429-b6a5-ce9bf1a997b8",
   "metadata": {},
   "outputs": [],
   "source": [
    "name=\"Data Science Masters\""
   ]
  },
  {
   "cell_type": "code",
   "execution_count": 3,
   "id": "14ddda54-e947-4bd4-92d9-d50c9ca0f26a",
   "metadata": {},
   "outputs": [
    {
     "data": {
      "text/plain": [
       "'dATA sCIENCE mASTERS'"
      ]
     },
     "execution_count": 3,
     "metadata": {},
     "output_type": "execute_result"
    }
   ],
   "source": [
    "name.swapcase()"
   ]
  },
  {
   "cell_type": "code",
   "execution_count": 5,
   "id": "f33c33e5-fb37-47fd-b422-cea59192c019",
   "metadata": {},
   "outputs": [
    {
     "data": {
      "text/plain": [
       "'Data Science Masters'"
      ]
     },
     "execution_count": 5,
     "metadata": {},
     "output_type": "execute_result"
    }
   ],
   "source": [
    "name.title()"
   ]
  },
  {
   "cell_type": "code",
   "execution_count": 6,
   "id": "d721d152-93ba-4242-adcc-becc0cef74af",
   "metadata": {},
   "outputs": [
    {
     "data": {
      "text/plain": [
       "'Data science masters'"
      ]
     },
     "execution_count": 6,
     "metadata": {},
     "output_type": "execute_result"
    }
   ],
   "source": [
    "name.capitalize()"
   ]
  },
  {
   "cell_type": "markdown",
   "id": "583c7394-c6aa-4b1c-9d26-af674901b0c6",
   "metadata": {},
   "source": [
    "# Reversing the string"
   ]
  },
  {
   "cell_type": "code",
   "execution_count": 7,
   "id": "01affd0d-db9c-4b11-bd03-207c8c52ffe0",
   "metadata": {},
   "outputs": [
    {
     "data": {
      "text/plain": [
       "'sretsaM ecneicS ataD'"
      ]
     },
     "execution_count": 7,
     "metadata": {},
     "output_type": "execute_result"
    }
   ],
   "source": [
    "name[::-1]"
   ]
  },
  {
   "cell_type": "code",
   "execution_count": 8,
   "id": "45a4cfc2-718d-4cce-b86c-6980e8532216",
   "metadata": {},
   "outputs": [
    {
     "data": {
      "text/plain": [
       "<reversed at 0x7f3124ec8610>"
      ]
     },
     "execution_count": 8,
     "metadata": {},
     "output_type": "execute_result"
    }
   ],
   "source": [
    "reversed(name)"
   ]
  },
  {
   "cell_type": "code",
   "execution_count": 10,
   "id": "f37376be-0523-4bba-a958-b2efcacd1446",
   "metadata": {},
   "outputs": [
    {
     "data": {
      "text/plain": [
       "'s r e t s a M   e c n e i c S   a t a D'"
      ]
     },
     "execution_count": 10,
     "metadata": {},
     "output_type": "execute_result"
    }
   ],
   "source": [
    "' '.join(reversed (name))"
   ]
  },
  {
   "cell_type": "code",
   "execution_count": 13,
   "id": "fbbe6ecb-0d72-40e4-953c-f12674372d45",
   "metadata": {},
   "outputs": [
    {
     "data": {
      "text/plain": [
       "'a     b     c     d'"
      ]
     },
     "execution_count": 13,
     "metadata": {},
     "output_type": "execute_result"
    }
   ],
   "source": [
    "\"     \".join(\"abcd\")"
   ]
  },
  {
   "cell_type": "code",
   "execution_count": 14,
   "id": "49949889-c916-4061-960c-d700212ff16e",
   "metadata": {},
   "outputs": [
    {
     "data": {
      "text/plain": [
       "'s     r     e     t     s     a     M           e     c     n     e     i     c     S           a     t     a     D'"
      ]
     },
     "execution_count": 14,
     "metadata": {},
     "output_type": "execute_result"
    }
   ],
   "source": [
    "\"     \".join(reversed(name))"
   ]
  },
  {
   "cell_type": "code",
   "execution_count": 15,
   "id": "c5de86cb-666b-492e-b93f-ff34cfc7394c",
   "metadata": {},
   "outputs": [
    {
     "data": {
      "text/plain": [
       "'s    a    g    a    r'"
      ]
     },
     "execution_count": 15,
     "metadata": {},
     "output_type": "execute_result"
    }
   ],
   "source": [
    "\"    \".join(\"sagar\")"
   ]
  },
  {
   "cell_type": "code",
   "execution_count": 17,
   "id": "40664336-054d-496f-99a4-eae8a7df4230",
   "metadata": {},
   "outputs": [
    {
     "data": {
      "text/plain": [
       "'s   a   g   a   r'"
      ]
     },
     "execution_count": 17,
     "metadata": {},
     "output_type": "execute_result"
    }
   ],
   "source": [
    "'   '.join(\"sagar\")"
   ]
  },
  {
   "cell_type": "code",
   "execution_count": 18,
   "id": "44a790dc-dc7e-400c-9b90-bf78e1e37cbc",
   "metadata": {},
   "outputs": [
    {
     "data": {
      "text/plain": [
       "'r   a   g   a   s'"
      ]
     },
     "execution_count": 18,
     "metadata": {},
     "output_type": "execute_result"
    }
   ],
   "source": [
    "'   '.join(reversed(\"sagar\"))"
   ]
  },
  {
   "cell_type": "code",
   "execution_count": 21,
   "id": "dc779783-fb63-49f3-9256-d0b5832ab7fc",
   "metadata": {},
   "outputs": [
    {
     "data": {
      "text/plain": [
       "['t', 'n', 'a']"
      ]
     },
     "execution_count": 21,
     "metadata": {},
     "output_type": "execute_result"
    }
   ],
   "source": [
    "list(reversed(\"ant\"))"
   ]
  },
  {
   "cell_type": "code",
   "execution_count": 22,
   "id": "d1553e7d-e189-4fdd-9d4b-a65ff4ac3fdd",
   "metadata": {},
   "outputs": [],
   "source": [
    "str1=\"sagar\""
   ]
  },
  {
   "cell_type": "code",
   "execution_count": 26,
   "id": "776f5d72-c0db-47ff-942e-8840c08af7f9",
   "metadata": {},
   "outputs": [
    {
     "data": {
      "text/plain": [
       "' IPS IPS IPS '"
      ]
     },
     "execution_count": 26,
     "metadata": {},
     "output_type": "execute_result"
    }
   ],
   "source": [
    "'IPS'.join(\"    \")"
   ]
  },
  {
   "cell_type": "code",
   "execution_count": 37,
   "id": "bd1ecb23-8ac7-437e-9074-3f95ce077f95",
   "metadata": {},
   "outputs": [],
   "source": [
    "list=\"sagar\""
   ]
  },
  {
   "cell_type": "code",
   "execution_count": 30,
   "id": "53d5addb-407a-4f9c-a587-2afb5f471c67",
   "metadata": {},
   "outputs": [
    {
     "data": {
      "text/plain": [
       "'s  a  g  a  r'"
      ]
     },
     "execution_count": 30,
     "metadata": {},
     "output_type": "execute_result"
    }
   ],
   "source": [
    "\"  \".join(list)"
   ]
  },
  {
   "cell_type": "code",
   "execution_count": 40,
   "id": "0ce3420c-40f3-4f42-ba30-147c1a137165",
   "metadata": {},
   "outputs": [],
   "source": [
    "## Removing character from the end of the string"
   ]
  },
  {
   "cell_type": "code",
   "execution_count": 42,
   "id": "0bcd1bcb-805d-4217-8b22-999580444b10",
   "metadata": {},
   "outputs": [],
   "source": [
    "string_a='pwskills '"
   ]
  },
  {
   "cell_type": "code",
   "execution_count": 44,
   "id": "fca86b58-a7b3-4996-885c-3ddb5f7692d4",
   "metadata": {},
   "outputs": [
    {
     "data": {
      "text/plain": [
       "'pwskills'"
      ]
     },
     "execution_count": 44,
     "metadata": {},
     "output_type": "execute_result"
    }
   ],
   "source": [
    "string_a.strip(' ')"
   ]
  },
  {
   "cell_type": "code",
   "execution_count": 45,
   "id": "b5959613-3cfc-496e-8325-b2876f755b74",
   "metadata": {},
   "outputs": [
    {
     "data": {
      "text/plain": [
       "'pwskills '"
      ]
     },
     "execution_count": 45,
     "metadata": {},
     "output_type": "execute_result"
    }
   ],
   "source": [
    "string_a.lstrip('  ')"
   ]
  },
  {
   "cell_type": "code",
   "execution_count": 51,
   "id": "b06a84d1-82dd-44e7-b7c6-528938e739e2",
   "metadata": {},
   "outputs": [
    {
     "data": {
      "text/plain": [
       "'pwskills'"
      ]
     },
     "execution_count": 51,
     "metadata": {},
     "output_type": "execute_result"
    }
   ],
   "source": [
    "string_a.rstrip(\"   \")"
   ]
  },
  {
   "cell_type": "code",
   "execution_count": 73,
   "id": "dd20412c-60d0-4f6e-8c38-e1a9b180dbaa",
   "metadata": {},
   "outputs": [
    {
     "data": {
      "text/plain": [
       "'Greeting from pw skills'"
      ]
     },
     "execution_count": 73,
     "metadata": {},
     "output_type": "execute_result"
    }
   ],
   "source": [
    "string_n=\"Greeting to pw skills\"\n",
    "string_n.replace(\"to\",\"from\")"
   ]
  },
  {
   "cell_type": "code",
   "execution_count": 62,
   "id": "9c04d44a-d39e-4ffe-a656-ca724005a7ef",
   "metadata": {},
   "outputs": [],
   "source": [
    "name=\"Sagar\""
   ]
  },
  {
   "cell_type": "code",
   "execution_count": 70,
   "id": "0c86c1e5-b690-4b8a-a26b-89e35bb982f4",
   "metadata": {},
   "outputs": [],
   "source": [
    "name=\"PWskills\""
   ]
  },
  {
   "cell_type": "code",
   "execution_count": 74,
   "id": "85beb195-4b80-41d5-b7b5-c5beecaadc24",
   "metadata": {},
   "outputs": [
    {
     "data": {
      "text/plain": [
       "'IPS'"
      ]
     },
     "execution_count": 74,
     "metadata": {},
     "output_type": "execute_result"
    }
   ],
   "source": [
    "name=\"Sagar\"\n",
    "name.replace(\"Sagar\",\"IPS\")"
   ]
  },
  {
   "cell_type": "code",
   "execution_count": 76,
   "id": "c48a5a1c-4a05-4785-9bb9-d382fece6823",
   "metadata": {},
   "outputs": [],
   "source": [
    "string_n=\"Greeting to pw skills\"\n",
    "var_a=string_n.replace(\"to\",\"from\")"
   ]
  },
  {
   "cell_type": "code",
   "execution_count": 77,
   "id": "7629f318-953c-4074-8e07-e0f2a4406885",
   "metadata": {},
   "outputs": [
    {
     "name": "stdout",
     "output_type": "stream",
     "text": [
      "139849055705472\n",
      "139849047641344\n"
     ]
    }
   ],
   "source": [
    "print(id(string_n))\n",
    "print(id(var_a))"
   ]
  },
  {
   "cell_type": "code",
   "execution_count": 78,
   "id": "da55d593-18eb-44e9-a690-64068dfd9268",
   "metadata": {},
   "outputs": [
    {
     "data": {
      "text/plain": [
       "'sagar'"
      ]
     },
     "execution_count": 78,
     "metadata": {},
     "output_type": "execute_result"
    }
   ],
   "source": [
    "'sagar'"
   ]
  },
  {
   "cell_type": "code",
   "execution_count": 81,
   "id": "2f04967b-5f71-42b3-b108-d47b9bf2519b",
   "metadata": {},
   "outputs": [
    {
     "data": {
      "text/plain": [
       "'sagards318    gmail.com'"
      ]
     },
     "execution_count": 81,
     "metadata": {},
     "output_type": "execute_result"
    }
   ],
   "source": [
    "string_n='sagards318@gmail.com'\n",
    "var_1=string_n.replace('@','    ')\n",
    "var_1"
   ]
  },
  {
   "cell_type": "code",
   "execution_count": 82,
   "id": "573ea144-b27a-4895-85b2-fa8ee649e506",
   "metadata": {},
   "outputs": [
    {
     "data": {
      "text/plain": [
       "'Hello world'"
      ]
     },
     "execution_count": 82,
     "metadata": {},
     "output_type": "execute_result"
    }
   ],
   "source": [
    "'Hello world'"
   ]
  },
  {
   "cell_type": "code",
   "execution_count": 87,
   "id": "ae16188e-ac0a-4d94-bab6-9682fe8e5649",
   "metadata": {},
   "outputs": [
    {
     "data": {
      "text/plain": [
       "'Hello   world'"
      ]
     },
     "execution_count": 87,
     "metadata": {},
     "output_type": "execute_result"
    }
   ],
   "source": [
    "'Hello \\tworld'.expandtabs()"
   ]
  },
  {
   "cell_type": "code",
   "execution_count": 93,
   "id": "e69654a2-f2ef-449a-b7bf-fc2a42d78556",
   "metadata": {},
   "outputs": [],
   "source": [
    "str1='Welcom to PWskills.Welcome to dat cience class'"
   ]
  },
  {
   "cell_type": "code",
   "execution_count": 94,
   "id": "1ba614c0-5923-46ad-9aa7-fd588dae5b57",
   "metadata": {},
   "outputs": [
    {
     "data": {
      "text/plain": [
       "'Welcom to PWskills.Welcome to dat Science class'"
      ]
     },
     "execution_count": 94,
     "metadata": {},
     "output_type": "execute_result"
    }
   ],
   "source": [
    "str1.replace(\"Dat\",\"Data\").replace(\"cience\",\"Science\")"
   ]
  },
  {
   "cell_type": "code",
   "execution_count": 95,
   "id": "2dfcbd73-9e03-49b9-8443-9ce71ca09124",
   "metadata": {},
   "outputs": [
    {
     "data": {
      "text/plain": [
       "'Welcom to PWskills.Welcome to dat cience class'"
      ]
     },
     "execution_count": 95,
     "metadata": {},
     "output_type": "execute_result"
    }
   ],
   "source": [
    "str1"
   ]
  },
  {
   "cell_type": "code",
   "execution_count": 96,
   "id": "810f857b-8d40-4dda-bfc0-fb109d3aad7e",
   "metadata": {},
   "outputs": [
    {
     "data": {
      "text/plain": [
       "False"
      ]
     },
     "execution_count": 96,
     "metadata": {},
     "output_type": "execute_result"
    }
   ],
   "source": [
    "str1.isupper()"
   ]
  },
  {
   "cell_type": "code",
   "execution_count": 99,
   "id": "f214f328-bd10-4200-9e9d-8db5320429f0",
   "metadata": {},
   "outputs": [],
   "source": [
    "str1=\"SAGAR\""
   ]
  },
  {
   "cell_type": "code",
   "execution_count": 100,
   "id": "f5b480f1-e752-47cd-af24-e3391988463a",
   "metadata": {},
   "outputs": [
    {
     "data": {
      "text/plain": [
       "True"
      ]
     },
     "execution_count": 100,
     "metadata": {},
     "output_type": "execute_result"
    }
   ],
   "source": [
    "str1.isupper()"
   ]
  },
  {
   "cell_type": "code",
   "execution_count": 109,
   "id": "e64ae10e-1ff2-4c90-a6e0-6fa31b82c2fe",
   "metadata": {},
   "outputs": [],
   "source": [
    "str1=''"
   ]
  },
  {
   "cell_type": "code",
   "execution_count": 112,
   "id": "bc35e71b-0230-46c1-a71a-bc3eeb781ca4",
   "metadata": {},
   "outputs": [
    {
     "data": {
      "text/plain": [
       "True"
      ]
     },
     "execution_count": 112,
     "metadata": {},
     "output_type": "execute_result"
    }
   ],
   "source": [
    "'   '.isspace()"
   ]
  },
  {
   "cell_type": "code",
   "execution_count": 113,
   "id": "516e4007-33c6-4cd2-93af-399be84a64fb",
   "metadata": {},
   "outputs": [
    {
     "name": "stdout",
     "output_type": "stream",
     "text": [
      "Hello\n"
     ]
    }
   ],
   "source": [
    "if\" \".isspace():\n",
    "    print(\"Hello\")"
   ]
  },
  {
   "cell_type": "code",
   "execution_count": 114,
   "id": "9fbef9d7-a5b0-4fb8-af4b-799b1820be12",
   "metadata": {},
   "outputs": [],
   "source": [
    "str2='PWskills'"
   ]
  },
  {
   "cell_type": "code",
   "execution_count": 115,
   "id": "2d084df7-819d-4543-b498-1240ec0d1ee2",
   "metadata": {},
   "outputs": [
    {
     "data": {
      "text/plain": [
       "True"
      ]
     },
     "execution_count": 115,
     "metadata": {},
     "output_type": "execute_result"
    }
   ],
   "source": [
    "str2.endswith('s')"
   ]
  },
  {
   "cell_type": "code",
   "execution_count": 116,
   "id": "23a7798e-8ad9-418a-bbee-d733b1e307e2",
   "metadata": {},
   "outputs": [
    {
     "data": {
      "text/plain": [
       "False"
      ]
     },
     "execution_count": 116,
     "metadata": {},
     "output_type": "execute_result"
    }
   ],
   "source": [
    "str2.endswith('d')"
   ]
  },
  {
   "cell_type": "code",
   "execution_count": 117,
   "id": "25b561c0-7d1c-4735-875d-b682386b652b",
   "metadata": {},
   "outputs": [
    {
     "data": {
      "text/plain": [
       "False"
      ]
     },
     "execution_count": 117,
     "metadata": {},
     "output_type": "execute_result"
    }
   ],
   "source": [
    "str2.startswith('p')"
   ]
  },
  {
   "cell_type": "code",
   "execution_count": 118,
   "id": "9d3954af-29df-4ee6-8faf-a556a6a385c3",
   "metadata": {},
   "outputs": [
    {
     "data": {
      "text/plain": [
       "True"
      ]
     },
     "execution_count": 118,
     "metadata": {},
     "output_type": "execute_result"
    }
   ],
   "source": [
    "str2.startswith('P')"
   ]
  },
  {
   "cell_type": "code",
   "execution_count": 121,
   "id": "6e80c322-4385-475a-b094-4cd450dfcc99",
   "metadata": {},
   "outputs": [
    {
     "data": {
      "text/plain": [
       "True"
      ]
     },
     "execution_count": 121,
     "metadata": {},
     "output_type": "execute_result"
    }
   ],
   "source": [
    "## Check if all the char in string are alphanumeric\n",
    "\n",
    "a=\"abcd1234\"\n",
    "a.isalnum()"
   ]
  },
  {
   "cell_type": "code",
   "execution_count": 122,
   "id": "f6cd40a7-dd54-49d0-ac65-478c08ca24cf",
   "metadata": {},
   "outputs": [
    {
     "data": {
      "text/plain": [
       "False"
      ]
     },
     "execution_count": 122,
     "metadata": {},
     "output_type": "execute_result"
    }
   ],
   "source": [
    "a='abcd1234!@#'\n",
    "a.isalnum()"
   ]
  },
  {
   "cell_type": "code",
   "execution_count": 123,
   "id": "7928c078-c961-431f-9e4e-87fa8e75dbaf",
   "metadata": {},
   "outputs": [
    {
     "name": "stdout",
     "output_type": "stream",
     "text": [
      "8\n"
     ]
    }
   ],
   "source": [
    "## To count the number of character in the string\n",
    "count =0\n",
    "for i in str2:\n",
    "    count=count+1\n",
    "print(count)"
   ]
  },
  {
   "cell_type": "code",
   "execution_count": 124,
   "id": "5a5769fc-ba10-490c-b356-a1a9d2405eb7",
   "metadata": {},
   "outputs": [
    {
     "data": {
      "text/plain": [
       "8"
      ]
     },
     "execution_count": 124,
     "metadata": {},
     "output_type": "execute_result"
    }
   ],
   "source": [
    "len(str2)"
   ]
  },
  {
   "cell_type": "code",
   "execution_count": 125,
   "id": "358c7344-b7fb-43a3-8dd4-1748ee6b04e7",
   "metadata": {},
   "outputs": [
    {
     "data": {
      "text/plain": [
       "'PWskills'"
      ]
     },
     "execution_count": 125,
     "metadata": {},
     "output_type": "execute_result"
    }
   ],
   "source": [
    "str2"
   ]
  },
  {
   "cell_type": "code",
   "execution_count": 127,
   "id": "524119ef-032b-4f4b-81d3-c197c5e8e560",
   "metadata": {},
   "outputs": [
    {
     "name": "stdout",
     "output_type": "stream",
     "text": [
      "P\n",
      "W\n",
      "s\n",
      "k\n",
      "i\n",
      "l\n",
      "l\n",
      "s\n"
     ]
    }
   ],
   "source": [
    "for i in str2:\n",
    "    print(i)"
   ]
  },
  {
   "cell_type": "code",
   "execution_count": 128,
   "id": "df804fd4-4f86-425d-952f-c5f52ecd7cdf",
   "metadata": {},
   "outputs": [
    {
     "name": "stdout",
     "output_type": "stream",
     "text": [
      "P\n",
      "W\n",
      "s\n",
      "k\n",
      "i\n",
      "l\n",
      "l\n",
      "s\n"
     ]
    }
   ],
   "source": [
    "for i in range (len(str2)):\n",
    "    print(str2[i])"
   ]
  },
  {
   "cell_type": "code",
   "execution_count": 129,
   "id": "e55f99b7-cf88-409c-8669-3cddd962afb2",
   "metadata": {},
   "outputs": [
    {
     "name": "stdout",
     "output_type": "stream",
     "text": [
      "0 = P\n",
      "1 = W\n",
      "2 = s\n",
      "3 = k\n",
      "4 = i\n",
      "5 = l\n",
      "6 = l\n",
      "7 = s\n"
     ]
    }
   ],
   "source": [
    "for i in range (len(str2)):\n",
    "    print(i,'=',str2[i])"
   ]
  },
  {
   "cell_type": "code",
   "execution_count": 130,
   "id": "8b225159-1a68-4d56-98bf-8c6d1c927dd8",
   "metadata": {},
   "outputs": [
    {
     "name": "stdout",
     "output_type": "stream",
     "text": [
      "7 = s\n",
      "6 = l\n",
      "5 = l\n",
      "4 = i\n",
      "3 = k\n",
      "2 = s\n",
      "1 = W\n",
      "0 = P\n"
     ]
    }
   ],
   "source": [
    "# We can use index to iterate string reverse direction\n",
    "\n",
    "for i in range (len(str2)-1,-1,-1):\n",
    "    print(i,'=',str2[i])\n"
   ]
  },
  {
   "cell_type": "code",
   "execution_count": 137,
   "id": "4756364f-ff44-4069-9563-b31f448ea4f5",
   "metadata": {},
   "outputs": [
    {
     "name": "stdout",
     "output_type": "stream",
     "text": [
      "s\n",
      "l\n",
      "l\n",
      "i\n",
      "k\n",
      "s\n",
      "W\n",
      "P\n"
     ]
    }
   ],
   "source": [
    "for i in range (len(str2)-1,-1,-1):\n",
    "    print(str2[i])"
   ]
  },
  {
   "cell_type": "code",
   "execution_count": 141,
   "id": "09fc95b8-d6dc-4ccb-9efe-c12cdd7ef931",
   "metadata": {},
   "outputs": [],
   "source": [
    "for i in range (len(str2)-1,-1):\n",
    "    print(str2[i])\n",
    "# it wont execute if i enter -1,-1 it should be in 3 times only"
   ]
  },
  {
   "cell_type": "code",
   "execution_count": 143,
   "id": "63143404-4464-41aa-9250-3958b587f33d",
   "metadata": {},
   "outputs": [
    {
     "name": "stdout",
     "output_type": "stream",
     "text": [
      "s\n",
      "l\n",
      "l\n",
      "i\n",
      "k\n",
      "s\n",
      "w\n",
      "P\n"
     ]
    }
   ],
   "source": [
    "string='Pwskills'\n",
    "ch=len(string)-1\n",
    "while ch>=0:\n",
    "    print(string[ch])\n",
    "    ch=ch-1"
   ]
  },
  {
   "cell_type": "code",
   "execution_count": 156,
   "id": "42f73d51-4e68-4b67-845a-c0e2c920e10a",
   "metadata": {},
   "outputs": [
    {
     "data": {
      "text/plain": [
       "8"
      ]
     },
     "execution_count": 156,
     "metadata": {},
     "output_type": "execute_result"
    }
   ],
   "source": [
    "string='PW skills'\n",
    "\n",
    "ch=len(string)-1\n",
    "ch"
   ]
  },
  {
   "cell_type": "code",
   "execution_count": 157,
   "id": "fab8cc11-c60f-463f-85d9-0616acca615e",
   "metadata": {},
   "outputs": [
    {
     "data": {
      "text/plain": [
       "8"
      ]
     },
     "execution_count": 157,
     "metadata": {},
     "output_type": "execute_result"
    }
   ],
   "source": [
    "ch"
   ]
  },
  {
   "cell_type": "code",
   "execution_count": 159,
   "id": "f8c942a6-14a5-4b29-b5f5-4c84bf69754f",
   "metadata": {},
   "outputs": [
    {
     "data": {
      "text/plain": [
       "7"
      ]
     },
     "execution_count": 159,
     "metadata": {},
     "output_type": "execute_result"
    }
   ],
   "source": [
    "string1='PWskills'\n",
    "ch=len(string1)-1\n",
    "ch"
   ]
  },
  {
   "cell_type": "code",
   "execution_count": 160,
   "id": "f093d9c3-7bed-49a7-a88c-f10cdf6bee97",
   "metadata": {},
   "outputs": [
    {
     "data": {
      "text/plain": [
       "7"
      ]
     },
     "execution_count": 160,
     "metadata": {},
     "output_type": "execute_result"
    }
   ],
   "source": [
    "ch"
   ]
  },
  {
   "cell_type": "code",
   "execution_count": 162,
   "id": "31ab20ce-d390-4da4-9561-53544c91a622",
   "metadata": {},
   "outputs": [
    {
     "data": {
      "text/plain": [
       "'PW skills'"
      ]
     },
     "execution_count": 162,
     "metadata": {},
     "output_type": "execute_result"
    }
   ],
   "source": [
    "string"
   ]
  },
  {
   "cell_type": "code",
   "execution_count": 161,
   "id": "0ae02501-eeed-4ad4-b773-1d57e2505324",
   "metadata": {},
   "outputs": [
    {
     "data": {
      "text/plain": [
       "('l', 'l', 'i')"
      ]
     },
     "execution_count": 161,
     "metadata": {},
     "output_type": "execute_result"
    }
   ],
   "source": [
    "string[7],string[6],string[5]"
   ]
  },
  {
   "cell_type": "code",
   "execution_count": 163,
   "id": "c2be174b-a4f5-4a7d-893b-cd0a8d618b0c",
   "metadata": {},
   "outputs": [
    {
     "name": "stdout",
     "output_type": "stream",
     "text": [
      "slliks WP"
     ]
    }
   ],
   "source": [
    "# Best solution \n",
    "for i in range (len(string)):\n",
    "    print(string[len(string)-(i+1)],end='')"
   ]
  },
  {
   "cell_type": "code",
   "execution_count": 167,
   "id": "775a449a-bf24-44d6-9d6d-6938bee00bd9",
   "metadata": {},
   "outputs": [],
   "source": [
    "Name='PWskills'\n",
    "vowels='AaEeIiOoUu'"
   ]
  },
  {
   "cell_type": "code",
   "execution_count": 170,
   "id": "d1811f28-028b-47be-afd8-0ee6149d8d95",
   "metadata": {},
   "outputs": [
    {
     "name": "stdout",
     "output_type": "stream",
     "text": [
      "P is not a vowel\n",
      "W is not a vowel\n",
      "s is not a vowel\n",
      "k is not a vowel\n",
      "i is  a vowel\n",
      "l is not a vowel\n",
      "l is not a vowel\n",
      "s is not a vowel\n"
     ]
    }
   ],
   "source": [
    "for ch in Name:\n",
    "    if ch in vowels:\n",
    "        print(\"{} is  a vowel\".format(ch))\n",
    "    else:\n",
    "        print(\"{} is not a vowel\".format(ch))"
   ]
  },
  {
   "cell_type": "markdown",
   "id": "3e5cd12e-d903-4b05-8f27-c2b45f7957b9",
   "metadata": {},
   "source": [
    "# list"
   ]
  },
  {
   "cell_type": "code",
   "execution_count": 171,
   "id": "41f94806-677c-44d9-8335-84e4d2cc7500",
   "metadata": {},
   "outputs": [
    {
     "data": {
      "text/plain": [
       "list"
      ]
     },
     "execution_count": 171,
     "metadata": {},
     "output_type": "execute_result"
    }
   ],
   "source": [
    "type([])"
   ]
  },
  {
   "cell_type": "code",
   "execution_count": 173,
   "id": "60cda076-8b09-4f1b-ab4d-8991eb3a7739",
   "metadata": {
    "jp-MarkdownHeadingCollapsed": true,
    "tags": []
   },
   "outputs": [
    {
     "data": {
      "text/plain": [
       "['sagar', 'IPS', 'rageloner', 'sigmastoic', 32]"
      ]
     },
     "execution_count": 173,
     "metadata": {},
     "output_type": "execute_result"
    }
   ],
   "source": [
    "['sagar','IPS','rageloner','sigmastoic',32]"
   ]
  },
  {
   "cell_type": "code",
   "execution_count": 1,
   "id": "26d338c4-584a-4ac6-a736-4df1dac325fd",
   "metadata": {},
   "outputs": [
    {
     "data": {
      "text/plain": [
       "[1, 2, 3, 4, 5]"
      ]
     },
     "execution_count": 1,
     "metadata": {},
     "output_type": "execute_result"
    }
   ],
   "source": [
    "list([1,2,3,4,5])"
   ]
  },
  {
   "cell_type": "code",
   "execution_count": 5,
   "id": "52ea3c8a-421f-464a-8b08-e8bb065ad697",
   "metadata": {},
   "outputs": [],
   "source": [
    "str2=\"pwskills\""
   ]
  },
  {
   "cell_type": "code",
   "execution_count": 6,
   "id": "a61ee2e8-2b23-4ab8-8aeb-4024a77709df",
   "metadata": {},
   "outputs": [
    {
     "data": {
      "text/plain": [
       "['p', 'w', 's', 'k', 'i', 'l', 'l', 's']"
      ]
     },
     "execution_count": 6,
     "metadata": {},
     "output_type": "execute_result"
    }
   ],
   "source": [
    "list(str2)"
   ]
  },
  {
   "cell_type": "code",
   "execution_count": 8,
   "id": "dbffba96-dbe7-496b-823a-764aba1acffe",
   "metadata": {},
   "outputs": [],
   "source": [
    "str1=\"PW skills data science masters\""
   ]
  },
  {
   "cell_type": "code",
   "execution_count": 9,
   "id": "2d0c2bf5-c534-465f-af92-a4ce9b5064ba",
   "metadata": {},
   "outputs": [
    {
     "data": {
      "text/plain": [
       "['PW', 'skills', 'data', 'science', 'masters']"
      ]
     },
     "execution_count": 9,
     "metadata": {},
     "output_type": "execute_result"
    }
   ],
   "source": [
    "list(str1.split(\" \"))"
   ]
  },
  {
   "cell_type": "code",
   "execution_count": 16,
   "id": "bdbe5eb6-a8b4-490d-a21c-c7ab637edb7b",
   "metadata": {},
   "outputs": [
    {
     "data": {
      "text/plain": [
       "False"
      ]
     },
     "execution_count": 16,
     "metadata": {},
     "output_type": "execute_result"
    }
   ],
   "source": [
    "str1.endswith(\"sagar\")"
   ]
  },
  {
   "cell_type": "code",
   "execution_count": 17,
   "id": "1bdf5092-53af-4d08-9d3f-3b88a1e53903",
   "metadata": {},
   "outputs": [
    {
     "data": {
      "text/plain": [
       "True"
      ]
     },
     "execution_count": 17,
     "metadata": {},
     "output_type": "execute_result"
    }
   ],
   "source": [
    "str1.endswith(\"s\")"
   ]
  },
  {
   "cell_type": "code",
   "execution_count": 20,
   "id": "e112af09-2a26-4081-a7fc-0638d6342b6e",
   "metadata": {},
   "outputs": [],
   "source": [
    "lst1=str1.split(\"   \")"
   ]
  },
  {
   "cell_type": "code",
   "execution_count": 28,
   "id": "df204f66-c9e3-4c53-ab54-233d90b90a6d",
   "metadata": {},
   "outputs": [
    {
     "data": {
      "text/plain": [
       "['skills', 'data', 'science', 'masters']"
      ]
     },
     "execution_count": 28,
     "metadata": {},
     "output_type": "execute_result"
    }
   ],
   "source": [
    "lst1[1:]"
   ]
  },
  {
   "cell_type": "code",
   "execution_count": 24,
   "id": "26509761-3890-47a2-8b9b-bcea32b4057a",
   "metadata": {},
   "outputs": [],
   "source": [
    "lst1=str1.split(\" \")"
   ]
  },
  {
   "cell_type": "code",
   "execution_count": 26,
   "id": "9afe0116-e787-4379-8a38-78db126651c6",
   "metadata": {},
   "outputs": [
    {
     "data": {
      "text/plain": [
       "list[slice(1, None, None)]"
      ]
     },
     "execution_count": 26,
     "metadata": {},
     "output_type": "execute_result"
    }
   ],
   "source": [
    "list[1:]"
   ]
  },
  {
   "cell_type": "code",
   "execution_count": 30,
   "id": "0802b65f-3fb6-438a-98e2-a5ee0faebb6e",
   "metadata": {},
   "outputs": [
    {
     "data": {
      "text/plain": [
       "['PW', 'skills', 'data', 'science', 'masters']"
      ]
     },
     "execution_count": 30,
     "metadata": {},
     "output_type": "execute_result"
    }
   ],
   "source": [
    "lst1"
   ]
  },
  {
   "cell_type": "code",
   "execution_count": 32,
   "id": "5d569698-e513-4cf1-a114-7bb43f9d65ca",
   "metadata": {},
   "outputs": [
    {
     "data": {
      "text/plain": [
       "['masters', 'data', 'PW']"
      ]
     },
     "execution_count": 32,
     "metadata": {},
     "output_type": "execute_result"
    }
   ],
   "source": [
    "lst1[::-2]"
   ]
  },
  {
   "cell_type": "code",
   "execution_count": 33,
   "id": "8d6954e3-ae43-4bea-8ee7-bdb37d7c03b0",
   "metadata": {},
   "outputs": [
    {
     "data": {
      "text/plain": [
       "['PW', 'skills', 'data']"
      ]
     },
     "execution_count": 33,
     "metadata": {},
     "output_type": "execute_result"
    }
   ],
   "source": [
    "lst1[:-2]"
   ]
  },
  {
   "cell_type": "code",
   "execution_count": 34,
   "id": "e99f5253-5a99-4645-8291-b7acb2b1ad69",
   "metadata": {},
   "outputs": [
    {
     "data": {
      "text/plain": [
       "['masters', 'skills']"
      ]
     },
     "execution_count": 34,
     "metadata": {},
     "output_type": "execute_result"
    }
   ],
   "source": [
    "lst1[::-3]"
   ]
  },
  {
   "cell_type": "code",
   "execution_count": 38,
   "id": "cc3d97c2-273b-4ba9-889e-6a2e8efaa604",
   "metadata": {},
   "outputs": [
    {
     "data": {
      "text/plain": [
       "['PW']"
      ]
     },
     "execution_count": 38,
     "metadata": {},
     "output_type": "execute_result"
    }
   ],
   "source": [
    "lst1[:-4]"
   ]
  },
  {
   "cell_type": "code",
   "execution_count": 42,
   "id": "d59299cd-af7c-4997-bc20-eb47e02d2dd0",
   "metadata": {},
   "outputs": [
    {
     "data": {
      "text/plain": [
       "['data', 'skills', 'PW']"
      ]
     },
     "execution_count": 42,
     "metadata": {},
     "output_type": "execute_result"
    }
   ],
   "source": [
    "lst1[-3::-1]"
   ]
  },
  {
   "cell_type": "code",
   "execution_count": 43,
   "id": "162889ea-052e-4b31-9a8d-760032b2105d",
   "metadata": {},
   "outputs": [
    {
     "data": {
      "text/plain": [
       "['PW', 'skills', 'data', 'science', 'masters']"
      ]
     },
     "execution_count": 43,
     "metadata": {},
     "output_type": "execute_result"
    }
   ],
   "source": [
    "lst1"
   ]
  },
  {
   "cell_type": "code",
   "execution_count": 44,
   "id": "b7dce3db-3807-4c4b-ba36-d1d511739be6",
   "metadata": {},
   "outputs": [
    {
     "data": {
      "text/plain": [
       "['PW', 'skills', 'data', 'science', 'masters', 'new element', 3]"
      ]
     },
     "execution_count": 44,
     "metadata": {},
     "output_type": "execute_result"
    }
   ],
   "source": [
    "## concatenation operation\n",
    "lst1+['new element',3]"
   ]
  },
  {
   "cell_type": "code",
   "execution_count": 45,
   "id": "8e3458d8-05b7-448b-80bf-caef91b6c914",
   "metadata": {},
   "outputs": [
    {
     "data": {
      "text/plain": [
       "['PW', 'skills', 'data', 'science', 'masters', 3]"
      ]
     },
     "execution_count": 45,
     "metadata": {},
     "output_type": "execute_result"
    }
   ],
   "source": [
    "lst1+[3]"
   ]
  },
  {
   "cell_type": "code",
   "execution_count": 49,
   "id": "63b3b20a-6b00-4993-9ad4-0f86010592bd",
   "metadata": {},
   "outputs": [
    {
     "data": {
      "text/plain": [
       "['PW', 'skills', 'data', 'science', 'masters', 'sagar IPS']"
      ]
     },
     "execution_count": 49,
     "metadata": {},
     "output_type": "execute_result"
    }
   ],
   "source": [
    "lst1+['sagar IPS']"
   ]
  },
  {
   "cell_type": "code",
   "execution_count": 50,
   "id": "54a93d34-bd49-4dd5-9514-8403969e9fbd",
   "metadata": {},
   "outputs": [],
   "source": [
    "## concatenation operation \n",
    "lst2=lst1 +[['new element',3]]"
   ]
  },
  {
   "cell_type": "code",
   "execution_count": 51,
   "id": "e42e1316-f92f-4dfd-917d-30fbc9f89e0c",
   "metadata": {},
   "outputs": [
    {
     "data": {
      "text/plain": [
       "['PW', 'skills', 'data', 'science', 'masters', ['new element', 3]]"
      ]
     },
     "execution_count": 51,
     "metadata": {},
     "output_type": "execute_result"
    }
   ],
   "source": [
    "lst2"
   ]
  },
  {
   "cell_type": "code",
   "execution_count": 52,
   "id": "6574f70b-d7de-483b-8b4c-792cecdc8c4e",
   "metadata": {},
   "outputs": [
    {
     "data": {
      "text/plain": [
       "'new element'"
      ]
     },
     "execution_count": 52,
     "metadata": {},
     "output_type": "execute_result"
    }
   ],
   "source": [
    "lst2[-1][0]"
   ]
  },
  {
   "cell_type": "code",
   "execution_count": 58,
   "id": "2bf64fc0-84d4-4195-9d68-bd9f5f73bb8e",
   "metadata": {},
   "outputs": [
    {
     "data": {
      "text/plain": [
       "3"
      ]
     },
     "execution_count": 58,
     "metadata": {},
     "output_type": "execute_result"
    }
   ],
   "source": [
    "lst2[-1][1]"
   ]
  },
  {
   "cell_type": "code",
   "execution_count": 59,
   "id": "d51b9e63-844b-43e7-a36b-122f15fbbb40",
   "metadata": {},
   "outputs": [
    {
     "data": {
      "text/plain": [
       "['PW',\n",
       " 'skills',\n",
       " 'data',\n",
       " 'science',\n",
       " 'masters',\n",
       " 'PW',\n",
       " 'skills',\n",
       " 'data',\n",
       " 'science',\n",
       " 'masters']"
      ]
     },
     "execution_count": 59,
     "metadata": {},
     "output_type": "execute_result"
    }
   ],
   "source": [
    "lst1*2"
   ]
  },
  {
   "cell_type": "code",
   "execution_count": 61,
   "id": "3e6be433-b8b8-4319-9617-bf139d4253b9",
   "metadata": {},
   "outputs": [
    {
     "data": {
      "text/plain": [
       "['PW',\n",
       " 'skills',\n",
       " 'data',\n",
       " 'science',\n",
       " 'masters',\n",
       " ['new element', 3],\n",
       " 'PW',\n",
       " 'skills',\n",
       " 'data',\n",
       " 'science',\n",
       " 'masters',\n",
       " ['new element', 3],\n",
       " 'PW',\n",
       " 'skills',\n",
       " 'data',\n",
       " 'science',\n",
       " 'masters',\n",
       " ['new element', 3]]"
      ]
     },
     "execution_count": 61,
     "metadata": {},
     "output_type": "execute_result"
    }
   ],
   "source": [
    "lst2*3"
   ]
  },
  {
   "cell_type": "code",
   "execution_count": 62,
   "id": "a397fae7-5dc5-4970-8b0f-a5bac0c0e384",
   "metadata": {},
   "outputs": [],
   "source": [
    "lst3=[lst2*2]"
   ]
  },
  {
   "cell_type": "code",
   "execution_count": 63,
   "id": "550d4259-1249-49e3-9315-41937fe3bbe6",
   "metadata": {},
   "outputs": [
    {
     "data": {
      "text/plain": [
       "[['PW',\n",
       "  'skills',\n",
       "  'data',\n",
       "  'science',\n",
       "  'masters',\n",
       "  ['new element', 3],\n",
       "  'PW',\n",
       "  'skills',\n",
       "  'data',\n",
       "  'science',\n",
       "  'masters',\n",
       "  ['new element', 3]]]"
      ]
     },
     "execution_count": 63,
     "metadata": {},
     "output_type": "execute_result"
    }
   ],
   "source": [
    "lst3"
   ]
  },
  {
   "cell_type": "code",
   "execution_count": 70,
   "id": "8cbb9d59-3d3a-4316-a202-8c26403e6a85",
   "metadata": {},
   "outputs": [
    {
     "name": "stdout",
     "output_type": "stream",
     "text": [
      "PW\n",
      "skills\n",
      "data\n",
      "science\n",
      "masters\n",
      "['new element', 3]\n"
     ]
    }
   ],
   "source": [
    "for element in lst2:\n",
    "    print(element)\n",
    "    if \"skill\" in lst2:\n",
    "        print(element)\n",
    "        break"
   ]
  },
  {
   "cell_type": "code",
   "execution_count": 75,
   "id": "224db5e2-eca5-45c3-bac2-573f179a95a5",
   "metadata": {},
   "outputs": [
    {
     "name": "stdout",
     "output_type": "stream",
     "text": [
      "Present\n"
     ]
    }
   ],
   "source": [
    "if \"science\" in lst1:\n",
    "    print(\"Present\")"
   ]
  },
  {
   "cell_type": "code",
   "execution_count": 76,
   "id": "50d9847c-f7a0-4b6a-9a53-c46b845a56e6",
   "metadata": {},
   "outputs": [
    {
     "name": "stdout",
     "output_type": "stream",
     "text": [
      "science\n"
     ]
    }
   ],
   "source": [
    "for elements in lst1:\n",
    "    if elements==\"science\":\n",
    "        print(elements)\n",
    "        break"
   ]
  },
  {
   "cell_type": "code",
   "execution_count": 83,
   "id": "6f9b136b-90ce-4052-911d-9259a5e823e5",
   "metadata": {},
   "outputs": [
    {
     "data": {
      "text/plain": [
       "True"
      ]
     },
     "execution_count": 83,
     "metadata": {},
     "output_type": "execute_result"
    }
   ],
   "source": [
    "## check elements inside a list\n",
    "lst=[1,2,3,4,5]\n",
    "4 in lst"
   ]
  },
  {
   "cell_type": "code",
   "execution_count": 84,
   "id": "617b92fd-2c5a-4590-ad45-dc1026961f12",
   "metadata": {},
   "outputs": [
    {
     "data": {
      "text/plain": [
       "False"
      ]
     },
     "execution_count": 84,
     "metadata": {},
     "output_type": "execute_result"
    }
   ],
   "source": [
    "2.3456 in lst"
   ]
  },
  {
   "cell_type": "code",
   "execution_count": 85,
   "id": "05a5656c-a53b-43a5-8f9a-9889e6afeac1",
   "metadata": {},
   "outputs": [
    {
     "data": {
      "text/plain": [
       "True"
      ]
     },
     "execution_count": 85,
     "metadata": {},
     "output_type": "execute_result"
    }
   ],
   "source": [
    "2.000 in lst"
   ]
  },
  {
   "cell_type": "code",
   "execution_count": 92,
   "id": "3d626361-1620-495a-9d3e-df7c5043e664",
   "metadata": {},
   "outputs": [],
   "source": [
    "lst1=[\"Monkey\",\"Donkey\",\"Zebra\",\"Lion\"]\n",
    "lst2=[5,6,2,9,5,8,6]"
   ]
  },
  {
   "cell_type": "code",
   "execution_count": 93,
   "id": "3b247799-958e-4f46-8a01-2d21c700c03c",
   "metadata": {},
   "outputs": [
    {
     "name": "stdout",
     "output_type": "stream",
     "text": [
      "Zebra\n"
     ]
    }
   ],
   "source": [
    "print(max(lst1))"
   ]
  },
  {
   "cell_type": "code",
   "execution_count": 94,
   "id": "6f8639d0-86a0-4cb0-b0f6-94ef40767f3c",
   "metadata": {},
   "outputs": [
    {
     "data": {
      "text/plain": [
       "9"
      ]
     },
     "execution_count": 94,
     "metadata": {},
     "output_type": "execute_result"
    }
   ],
   "source": [
    "max(lst2)"
   ]
  },
  {
   "cell_type": "code",
   "execution_count": 95,
   "id": "1633fc2e-36a7-4225-8a0d-f9596775a027",
   "metadata": {},
   "outputs": [
    {
     "data": {
      "text/plain": [
       "2"
      ]
     },
     "execution_count": 95,
     "metadata": {},
     "output_type": "execute_result"
    }
   ],
   "source": [
    "min(lst2)"
   ]
  },
  {
   "cell_type": "code",
   "execution_count": 96,
   "id": "4feca7ee-469c-4558-95b9-944c19c4cbb9",
   "metadata": {},
   "outputs": [
    {
     "data": {
      "text/plain": [
       "'Donkey'"
      ]
     },
     "execution_count": 96,
     "metadata": {},
     "output_type": "execute_result"
    }
   ],
   "source": [
    "min(lst1)"
   ]
  },
  {
   "cell_type": "code",
   "execution_count": 98,
   "id": "a4f950ff-e4c0-4619-9dcb-8c35d1423225",
   "metadata": {},
   "outputs": [
    {
     "name": "stdout",
     "output_type": "stream",
     "text": [
      "Donkey\n"
     ]
    }
   ],
   "source": [
    "print(min(lst1))"
   ]
  },
  {
   "cell_type": "code",
   "execution_count": 99,
   "id": "71a2ce2e-cfd1-46d5-b5b4-4e87d4be36ab",
   "metadata": {},
   "outputs": [],
   "source": [
    "## Append\n",
    "lst=[1,2,3,4,5]"
   ]
  },
  {
   "cell_type": "code",
   "execution_count": 100,
   "id": "fc571244-3067-47db-af7d-86412b8f7681",
   "metadata": {},
   "outputs": [
    {
     "data": {
      "text/plain": [
       "[1, 2, 3, 4, 5]"
      ]
     },
     "execution_count": 100,
     "metadata": {},
     "output_type": "execute_result"
    }
   ],
   "source": [
    "lst"
   ]
  },
  {
   "cell_type": "code",
   "execution_count": 116,
   "id": "20be9d72-239c-45a1-9d84-f43d277bc793",
   "metadata": {},
   "outputs": [],
   "source": [
    "lst.append(\"PWskills\")"
   ]
  },
  {
   "cell_type": "code",
   "execution_count": 117,
   "id": "09370627-eae1-4d85-b722-7a7a2bd4d530",
   "metadata": {},
   "outputs": [
    {
     "data": {
      "text/plain": [
       "[1,\n",
       " 2,\n",
       " 3,\n",
       " 4,\n",
       " 5,\n",
       " 'PWskills',\n",
       " ['Data', 'Science', 'Masters'],\n",
       " ['Data', 'Science', 'Masters'],\n",
       " 'PWskills',\n",
       " ['PWskills'],\n",
       " 'PWskills']"
      ]
     },
     "execution_count": 117,
     "metadata": {},
     "output_type": "execute_result"
    }
   ],
   "source": [
    "lst"
   ]
  },
  {
   "cell_type": "code",
   "execution_count": 118,
   "id": "ad37ce73-c7d0-4975-b6e0-992cf8d659b3",
   "metadata": {},
   "outputs": [],
   "source": [
    "lst.append(['Data','Science','Masters'])"
   ]
  },
  {
   "cell_type": "code",
   "execution_count": 119,
   "id": "3cf91457-2276-44dc-9afe-b7915f76b4ec",
   "metadata": {},
   "outputs": [
    {
     "data": {
      "text/plain": [
       "[1,\n",
       " 2,\n",
       " 3,\n",
       " 4,\n",
       " 5,\n",
       " 'PWskills',\n",
       " ['Data', 'Science', 'Masters'],\n",
       " ['Data', 'Science', 'Masters'],\n",
       " 'PWskills',\n",
       " ['PWskills'],\n",
       " 'PWskills',\n",
       " ['Data', 'Science', 'Masters']]"
      ]
     },
     "execution_count": 119,
     "metadata": {},
     "output_type": "execute_result"
    }
   ],
   "source": [
    "lst"
   ]
  },
  {
   "cell_type": "code",
   "execution_count": 120,
   "id": "b5b2d3f9-3e88-4511-be20-72dee5bf0f03",
   "metadata": {},
   "outputs": [
    {
     "data": {
      "text/plain": [
       "['Monkey', 'Donkey', 'Zebra', 'Lion']"
      ]
     },
     "execution_count": 120,
     "metadata": {},
     "output_type": "execute_result"
    }
   ],
   "source": [
    "lst1"
   ]
  },
  {
   "cell_type": "code",
   "execution_count": 121,
   "id": "84d1227f-0d05-4042-944e-1b64cc8b77d5",
   "metadata": {},
   "outputs": [],
   "source": [
    "lst1=[\"Monkey\",\"Donkey\",\"Zebra\",\"Lion\"]"
   ]
  },
  {
   "cell_type": "code",
   "execution_count": 124,
   "id": "885aa602-16ea-48fb-ac44-03119ba86cdf",
   "metadata": {},
   "outputs": [
    {
     "data": {
      "text/plain": [
       "'Lion'"
      ]
     },
     "execution_count": 124,
     "metadata": {},
     "output_type": "execute_result"
    }
   ],
   "source": [
    "lst1.pop()"
   ]
  },
  {
   "cell_type": "code",
   "execution_count": 125,
   "id": "230dc753-fb08-4098-8e1a-4baa84fdcc35",
   "metadata": {},
   "outputs": [
    {
     "data": {
      "text/plain": [
       "'Zebra'"
      ]
     },
     "execution_count": 125,
     "metadata": {},
     "output_type": "execute_result"
    }
   ],
   "source": [
    "lst1.pop(2)"
   ]
  },
  {
   "cell_type": "code",
   "execution_count": 126,
   "id": "d91078f7-d342-4782-9756-f463fd0a9bd0",
   "metadata": {},
   "outputs": [
    {
     "data": {
      "text/plain": [
       "['Monkey', 'Donkey']"
      ]
     },
     "execution_count": 126,
     "metadata": {},
     "output_type": "execute_result"
    }
   ],
   "source": [
    "lst1"
   ]
  },
  {
   "cell_type": "code",
   "execution_count": 138,
   "id": "fb108e35-99bb-4c23-a711-616f9e448d4c",
   "metadata": {},
   "outputs": [],
   "source": [
    "lst1=[\"Monkey\",\"Donkey\",\"Zebra\",\"Lion\"]"
   ]
  },
  {
   "cell_type": "code",
   "execution_count": 139,
   "id": "09d811e7-23c5-46f7-9cd4-ded28642312f",
   "metadata": {},
   "outputs": [
    {
     "data": {
      "text/plain": [
       "'Monkey'"
      ]
     },
     "execution_count": 139,
     "metadata": {},
     "output_type": "execute_result"
    }
   ],
   "source": [
    "removed_element=lst1.pop(0)\n",
    "removed_element"
   ]
  },
  {
   "cell_type": "code",
   "execution_count": 140,
   "id": "d8b34b13-2f66-4775-8e55-c4650bfd9e19",
   "metadata": {},
   "outputs": [
    {
     "ename": "IndexError",
     "evalue": "list index out of range",
     "output_type": "error",
     "traceback": [
      "\u001b[0;31m---------------------------------------------------------------------------\u001b[0m",
      "\u001b[0;31mIndexError\u001b[0m                                Traceback (most recent call last)",
      "Cell \u001b[0;32mIn[140], line 1\u001b[0m\n\u001b[0;32m----> 1\u001b[0m \u001b[43mlst1\u001b[49m\u001b[43m[\u001b[49m\u001b[38;5;241;43m100\u001b[39;49m\u001b[43m]\u001b[49m\n",
      "\u001b[0;31mIndexError\u001b[0m: list index out of range"
     ]
    }
   ],
   "source": [
    "lst1[100]"
   ]
  },
  {
   "cell_type": "code",
   "execution_count": 141,
   "id": "5ccb3195-7d33-41bb-8e75-6e21f326347b",
   "metadata": {},
   "outputs": [],
   "source": [
    "## Starting and Reverse methot in the list"
   ]
  },
  {
   "cell_type": "code",
   "execution_count": 143,
   "id": "8b9665ca-fabd-4cd4-8bbe-122df230420a",
   "metadata": {},
   "outputs": [
    {
     "data": {
      "text/plain": [
       "['q', 'w', 'e', 'r', 't']"
      ]
     },
     "execution_count": 143,
     "metadata": {},
     "output_type": "execute_result"
    }
   ],
   "source": [
    "new_list=['q','w','e','r','t',]\n",
    "new_list\n",
    "          "
   ]
  },
  {
   "cell_type": "code",
   "execution_count": 144,
   "id": "e07c6775-c4ba-48f8-a688-fffeb4f75b00",
   "metadata": {},
   "outputs": [
    {
     "data": {
      "text/plain": [
       "['t', 'r', 'e', 'w', 'q']"
      ]
     },
     "execution_count": 144,
     "metadata": {},
     "output_type": "execute_result"
    }
   ],
   "source": [
    "new_list[::-1]"
   ]
  },
  {
   "cell_type": "code",
   "execution_count": 147,
   "id": "0740778c-100f-49e4-ab69-4223a19ef96f",
   "metadata": {},
   "outputs": [],
   "source": [
    "## Inplace operation\n",
    "new_list.reverse()"
   ]
  },
  {
   "cell_type": "code",
   "execution_count": 146,
   "id": "f4205887-2314-482e-8e0f-824f95bc850c",
   "metadata": {},
   "outputs": [
    {
     "data": {
      "text/plain": [
       "['t', 'r', 'e', 'w', 'q']"
      ]
     },
     "execution_count": 146,
     "metadata": {},
     "output_type": "execute_result"
    }
   ],
   "source": [
    "new_list"
   ]
  },
  {
   "cell_type": "code",
   "execution_count": 148,
   "id": "b209c14e-6ac4-4d64-bfe7-fd55cd2963a9",
   "metadata": {},
   "outputs": [],
   "source": [
    "new_list.sort()"
   ]
  },
  {
   "cell_type": "code",
   "execution_count": 149,
   "id": "7ee1032c-5b94-42d8-a487-d9da297790ee",
   "metadata": {},
   "outputs": [
    {
     "data": {
      "text/plain": [
       "['e', 'q', 'r', 't', 'w']"
      ]
     },
     "execution_count": 149,
     "metadata": {},
     "output_type": "execute_result"
    }
   ],
   "source": [
    "new_list"
   ]
  },
  {
   "cell_type": "markdown",
   "id": "3fdebc3b-9b66-4d8d-ab84-df78a0c33ade",
   "metadata": {},
   "source": [
    "# Nested list"
   ]
  },
  {
   "cell_type": "code",
   "execution_count": 152,
   "id": "2acbc751-ed68-4523-b2ae-6ffeb092ceb1",
   "metadata": {},
   "outputs": [],
   "source": [
    "## lets make 3 lists\n",
    "lst_1=[1,2,3]\n",
    "lst_2=[4,5,6]\n",
    "lst_3=[7,8,9]\n",
    "\n",
    "## Make a list of lists to form a matrix\n",
    "\n",
    "matrix=[lst_1,lst_2,lst_3]"
   ]
  },
  {
   "cell_type": "code",
   "execution_count": 153,
   "id": "4b1fbb23-4d37-4aee-aca8-91c9b6f2753a",
   "metadata": {},
   "outputs": [
    {
     "data": {
      "text/plain": [
       "[[1, 2, 3], [4, 5, 6], [7, 8, 9]]"
      ]
     },
     "execution_count": 153,
     "metadata": {},
     "output_type": "execute_result"
    }
   ],
   "source": [
    "matrix"
   ]
  },
  {
   "cell_type": "code",
   "execution_count": 154,
   "id": "55185070-731d-4262-9f31-22df6193826d",
   "metadata": {},
   "outputs": [
    {
     "data": {
      "text/plain": [
       "[1, 2, 3]"
      ]
     },
     "execution_count": 154,
     "metadata": {},
     "output_type": "execute_result"
    }
   ],
   "source": [
    "matrix[0]"
   ]
  },
  {
   "cell_type": "code",
   "execution_count": 155,
   "id": "dedf9cf0-869e-41ab-b901-05ab2fecfd28",
   "metadata": {},
   "outputs": [
    {
     "data": {
      "text/plain": [
       "[4, 5, 6]"
      ]
     },
     "execution_count": 155,
     "metadata": {},
     "output_type": "execute_result"
    }
   ],
   "source": [
    "matrix[1]"
   ]
  },
  {
   "cell_type": "code",
   "execution_count": 157,
   "id": "b60d9331-3ce3-47f3-a1fb-093d38aa295e",
   "metadata": {},
   "outputs": [
    {
     "data": {
      "text/plain": [
       "[7, 8, 9]"
      ]
     },
     "execution_count": 157,
     "metadata": {},
     "output_type": "execute_result"
    }
   ],
   "source": [
    "matrix[2]"
   ]
  },
  {
   "cell_type": "code",
   "execution_count": 158,
   "id": "84f37015-0d4e-48d9-9f33-112c163e145e",
   "metadata": {},
   "outputs": [
    {
     "data": {
      "text/plain": [
       "6"
      ]
     },
     "execution_count": 158,
     "metadata": {},
     "output_type": "execute_result"
    }
   ],
   "source": [
    "matrix[1][2]"
   ]
  },
  {
   "cell_type": "code",
   "execution_count": 162,
   "id": "d6d849bd-67bb-44b1-920c-d5f6b0103ff1",
   "metadata": {},
   "outputs": [
    {
     "data": {
      "text/plain": [
       "5"
      ]
     },
     "execution_count": 162,
     "metadata": {},
     "output_type": "execute_result"
    }
   ],
   "source": [
    "matrix[1][1]"
   ]
  },
  {
   "cell_type": "code",
   "execution_count": 159,
   "id": "0ee81d0b-add4-41b8-afd3-3e4a84f88113",
   "metadata": {},
   "outputs": [
    {
     "data": {
      "text/plain": [
       "[8, 9]"
      ]
     },
     "execution_count": 159,
     "metadata": {},
     "output_type": "execute_result"
    }
   ],
   "source": [
    "matrix[2][1:]"
   ]
  },
  {
   "cell_type": "code",
   "execution_count": 163,
   "id": "2330706d-58a5-4d99-8b7b-e8e07be8e255",
   "metadata": {},
   "outputs": [
    {
     "data": {
      "text/plain": [
       "[0, 1, 2, 3, 4, 5, 6, 7, 8, 9, 10, 11, 12, 13, 14, 15, 16, 17, 18, 19]"
      ]
     },
     "execution_count": 163,
     "metadata": {},
     "output_type": "execute_result"
    }
   ],
   "source": [
    "## list comparehension\n",
    "[i for i in range (20)]"
   ]
  },
  {
   "cell_type": "code",
   "execution_count": 167,
   "id": "11b8f17d-919c-4acb-8018-6a645b9ead4e",
   "metadata": {},
   "outputs": [
    {
     "data": {
      "text/plain": [
       "[0,\n",
       " 'odd',\n",
       " 2,\n",
       " 'odd',\n",
       " 4,\n",
       " 'odd',\n",
       " 6,\n",
       " 'odd',\n",
       " 8,\n",
       " 'odd',\n",
       " 10,\n",
       " 'odd',\n",
       " 12,\n",
       " 'odd',\n",
       " 14,\n",
       " 'odd',\n",
       " 16,\n",
       " 'odd',\n",
       " 18,\n",
       " 'odd']"
      ]
     },
     "execution_count": 167,
     "metadata": {},
     "output_type": "execute_result"
    }
   ],
   "source": [
    "## list comparehension\n",
    "## Even numbers\n",
    "[i if i%2==0 else\"odd\" for i in range (20)]"
   ]
  },
  {
   "cell_type": "code",
   "execution_count": 172,
   "id": "edefe305-a63d-4c28-ba24-01b330a0561a",
   "metadata": {},
   "outputs": [
    {
     "data": {
      "text/plain": [
       "[0, '', 2, '', 4, '', 6, '', 8, '', 10, '', 12, '', 14, '', 16, '', 18, '']"
      ]
     },
     "execution_count": 172,
     "metadata": {},
     "output_type": "execute_result"
    }
   ],
   "source": [
    "[i if i%2==0 else \"\" for i in range(0,20)]"
   ]
  },
  {
   "cell_type": "code",
   "execution_count": 1,
   "id": "fea9aaba-52d8-42c0-bd0f-51818ff5c7b1",
   "metadata": {},
   "outputs": [],
   "source": [
    "## Assignment\n",
    "## Sum of even numbers and odd numbers\n",
    "lst=[1,2,3,4,5,6,7,8]"
   ]
  },
  {
   "cell_type": "code",
   "execution_count": 2,
   "id": "4ca96648-cd34-464f-b092-0ca20d0993b1",
   "metadata": {},
   "outputs": [
    {
     "data": {
      "text/plain": [
       "[1, 2, 3, 4, 5, 6, 7, 8]"
      ]
     },
     "execution_count": 2,
     "metadata": {},
     "output_type": "execute_result"
    }
   ],
   "source": [
    "lst"
   ]
  },
  {
   "cell_type": "code",
   "execution_count": 3,
   "id": "b51c7fc6-f3ba-4901-8955-963e0fda484d",
   "metadata": {},
   "outputs": [
    {
     "name": "stdout",
     "output_type": "stream",
     "text": [
      "20\n",
      "16\n"
     ]
    }
   ],
   "source": [
    "even_sum=0\n",
    "odd_sum=0\n",
    "for i in lst:\n",
    "    if i%2==0:\n",
    "        even_sum+=i\n",
    "    else:\n",
    "        odd_sum+=i\n",
    "        \n",
    "print(even_sum)\n",
    "print(odd_sum)"
   ]
  },
  {
   "cell_type": "code",
   "execution_count": 6,
   "id": "9ae5160a-74be-4295-afad-ab1a8a68daeb",
   "metadata": {},
   "outputs": [],
   "source": [
    "even_sum = sum([num for num in lst if num%2==0])"
   ]
  },
  {
   "cell_type": "code",
   "execution_count": 7,
   "id": "5aee0892-adb1-4b92-8b50-87311a34b403",
   "metadata": {},
   "outputs": [
    {
     "data": {
      "text/plain": [
       "20"
      ]
     },
     "execution_count": 7,
     "metadata": {},
     "output_type": "execute_result"
    }
   ],
   "source": [
    "even_sum"
   ]
  },
  {
   "cell_type": "code",
   "execution_count": 10,
   "id": "45d20262-a465-4c8c-9b80-3f3273e70f1a",
   "metadata": {},
   "outputs": [
    {
     "data": {
      "text/plain": [
       "16"
      ]
     },
     "execution_count": 10,
     "metadata": {},
     "output_type": "execute_result"
    }
   ],
   "source": [
    "odd_sum=sum([num for num in lst if num%2!=0])\n",
    "odd_sum"
   ]
  },
  {
   "cell_type": "code",
   "execution_count": 13,
   "id": "e130447a-ade4-4ce9-9be7-a223ecbcb2af",
   "metadata": {},
   "outputs": [
    {
     "data": {
      "text/plain": [
       "[1, 4, 9, 16, 25, 36, 49, 64, 81, 100]"
      ]
     },
     "execution_count": 13,
     "metadata": {},
     "output_type": "execute_result"
    }
   ],
   "source": [
    "lst=[1,2,3,4,5,6,7,8,9,10]\n",
    "[num**2 for num in lst]"
   ]
  },
  {
   "cell_type": "code",
   "execution_count": 14,
   "id": "b5710521-c529-4e86-8236-cccef5e86adb",
   "metadata": {},
   "outputs": [],
   "source": [
    "# example 2: Create a list of only the positive numbers from a given list\n",
    "numbers=[-2,-1,0,1,2,3,4]"
   ]
  },
  {
   "cell_type": "code",
   "execution_count": 16,
   "id": "9e31b013-8a91-4970-87a5-5006c34c7d9b",
   "metadata": {},
   "outputs": [
    {
     "data": {
      "text/plain": [
       "[1, 2, 3, 4]"
      ]
     },
     "execution_count": 16,
     "metadata": {},
     "output_type": "execute_result"
    }
   ],
   "source": [
    "[num for num in numbers if num>0]"
   ]
  },
  {
   "cell_type": "code",
   "execution_count": 17,
   "id": "28677615-2f74-4576-a7ca-3f9d7439fe91",
   "metadata": {},
   "outputs": [
    {
     "data": {
      "text/plain": [
       "[-2, -1]"
      ]
     },
     "execution_count": 17,
     "metadata": {},
     "output_type": "execute_result"
    }
   ],
   "source": [
    "[num for num in numbers if num<0]"
   ]
  },
  {
   "cell_type": "code",
   "execution_count": 24,
   "id": "90126921-323e-4577-861f-3add42b2fc3c",
   "metadata": {},
   "outputs": [],
   "source": [
    "lst=[num for num in numbers if num>=3]"
   ]
  },
  {
   "cell_type": "code",
   "execution_count": 27,
   "id": "319fbf8a-db4c-438d-9b35-4546480a8fc8",
   "metadata": {},
   "outputs": [],
   "source": [
    "# Exammple 3:Create a list of only the first letters of words in a list\n",
    "words=['apple','banana','cherry','date']"
   ]
  },
  {
   "cell_type": "code",
   "execution_count": 30,
   "id": "9458b162-b316-4b23-95ab-e8e05cae364b",
   "metadata": {},
   "outputs": [
    {
     "data": {
      "text/plain": [
       "['a', 'b', 'c', 'd']"
      ]
     },
     "execution_count": 30,
     "metadata": {},
     "output_type": "execute_result"
    }
   ],
   "source": [
    "[word[0] for word in words]"
   ]
  },
  {
   "cell_type": "code",
   "execution_count": null,
   "id": "2371dc9f-dfa4-4434-987f-f86139fd7fca",
   "metadata": {},
   "outputs": [],
   "source": [
    "(9/5*temp+32)"
   ]
  },
  {
   "cell_type": "code",
   "execution_count": 40,
   "id": "f85d0351-120e-42f5-af90-dfe29d661e9c",
   "metadata": {},
   "outputs": [],
   "source": [
    "# Example 4: convert a list of temperature from celsius to faharenhit using list comprehesion\n",
    "celsius_temperature=[0,10,20,30,40,50]"
   ]
  },
  {
   "cell_type": "code",
   "execution_count": 41,
   "id": "e6ddc072-2a99-48d1-87b0-6db36d80eac6",
   "metadata": {},
   "outputs": [
    {
     "data": {
      "text/plain": [
       "[32.0, 50.0, 68.0, 86.0, 104.0, 122.0]"
      ]
     },
     "execution_count": 41,
     "metadata": {},
     "output_type": "execute_result"
    }
   ],
   "source": [
    "[(9/5)*temp+32 for temp in celsius_temperature]"
   ]
  },
  {
   "cell_type": "code",
   "execution_count": 46,
   "id": "e51ad623-3421-41f7-9d7e-546e9048c1ef",
   "metadata": {},
   "outputs": [],
   "source": [
    "## Example 5: Flatten a list of list into a single list\n",
    "lists = [[1,2,3],[4,5,6],[7,8,9]]"
   ]
  },
  {
   "cell_type": "code",
   "execution_count": 47,
   "id": "392b57e0-790f-48a8-ae55-9ede30c4796e",
   "metadata": {},
   "outputs": [
    {
     "data": {
      "text/plain": [
       "[1, 2, 3, 4, 5, 6, 7, 8, 9]"
      ]
     },
     "execution_count": 47,
     "metadata": {},
     "output_type": "execute_result"
    }
   ],
   "source": [
    "[num for sublist in lists for num in sublist]"
   ]
  },
  {
   "cell_type": "code",
   "execution_count": 51,
   "id": "1a6200e1-df1f-4449-ad8a-2d7f66a76bba",
   "metadata": {},
   "outputs": [
    {
     "data": {
      "text/plain": [
       "[1, 2, 3, 4, 5, 6, 7, 8, 9]"
      ]
     },
     "execution_count": 51,
     "metadata": {},
     "output_type": "execute_result"
    }
   ],
   "source": [
    "[j for i in lists for j in i]"
   ]
  },
  {
   "cell_type": "code",
   "execution_count": 55,
   "id": "b83ba392-e3b3-4501-a919-6bb754004cf5",
   "metadata": {},
   "outputs": [],
   "source": [
    "## Assignment\n",
    "## Using both the code and list comprehesnion \n",
    "## example 2: create a list of only prime numbers from given list \n",
    "numbers=[1,2,3,4,5,6,7,8,9,10]\n",
    "prime_numbers=[]"
   ]
  },
  {
   "cell_type": "code",
   "execution_count": 56,
   "id": "21a587a1-e6d5-4509-b46b-5e555d7144e7",
   "metadata": {},
   "outputs": [
    {
     "name": "stdout",
     "output_type": "stream",
     "text": [
      "[2, 3, 5, 7]\n"
     ]
    }
   ],
   "source": [
    "def is_prime(n):\n",
    "    if n <= 1:\n",
    "        return False\n",
    "    for i in range(2, int(n ** 0.5) + 1):\n",
    "        if n % i == 0:\n",
    "            return False\n",
    "    return True\n",
    "\n",
    "for num in numbers:\n",
    "    if is_prime(num):\n",
    "        prime_numbers.append(num)\n",
    "\n",
    "print(prime_numbers)"
   ]
  },
  {
   "cell_type": "code",
   "execution_count": 59,
   "id": "2c814c64-0c40-48a2-a2b8-7634ff47cef1",
   "metadata": {},
   "outputs": [],
   "source": [
    "# Example 3: Create a list of all the possible combination of 2 element from a list\n",
    "number=[1,2,3,4,5]\n",
    "import itertools"
   ]
  },
  {
   "cell_type": "code",
   "execution_count": 60,
   "id": "00bc6f80-3e7f-4d80-bbb7-cb993dfd4b4d",
   "metadata": {},
   "outputs": [
    {
     "name": "stdout",
     "output_type": "stream",
     "text": [
      "[(1, 2), (1, 3), (1, 4), (1, 5), (2, 3), (2, 4), (2, 5), (3, 4), (3, 5), (4, 5)]\n"
     ]
    }
   ],
   "source": [
    " numbers = [1, 2, 3, 4, 5]\n",
    "combinations = list(itertools.combinations(numbers, 2))\n",
    "\n",
    "print(combinations)"
   ]
  },
  {
   "cell_type": "code",
   "execution_count": null,
   "id": "0cfd897b-9642-4597-9146-f4ae2e7dd3f9",
   "metadata": {},
   "outputs": [],
   "source": []
  }
 ],
 "metadata": {
  "kernelspec": {
   "display_name": "Python 3 (ipykernel)",
   "language": "python",
   "name": "python3"
  },
  "language_info": {
   "codemirror_mode": {
    "name": "ipython",
    "version": 3
   },
   "file_extension": ".py",
   "mimetype": "text/x-python",
   "name": "python",
   "nbconvert_exporter": "python",
   "pygments_lexer": "ipython3",
   "version": "3.10.8"
  }
 },
 "nbformat": 4,
 "nbformat_minor": 5
}
