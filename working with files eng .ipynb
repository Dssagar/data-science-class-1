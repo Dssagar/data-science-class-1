{
 "cells": [
  {
   "cell_type": "code",
   "execution_count": 18,
   "id": "091238ac-664b-4165-9de5-295b48cb07f9",
   "metadata": {},
   "outputs": [],
   "source": [
    "f= open(\"test.txt\",\"w\") ## We need to execute every time where we need to add somthing "
   ]
  },
  {
   "cell_type": "code",
   "execution_count": 3,
   "id": "2e6b5388-1f9b-486d-9a3e-53bba67647d6",
   "metadata": {},
   "outputs": [
    {
     "data": {
      "text/plain": [
       "'/home/jovyan/work'"
      ]
     },
     "execution_count": 3,
     "metadata": {},
     "output_type": "execute_result"
    }
   ],
   "source": [
    "pwd"
   ]
  },
  {
   "cell_type": "code",
   "execution_count": 4,
   "id": "5a6f4bed-cd11-419b-892f-83329b7fb2f8",
   "metadata": {},
   "outputs": [
    {
     "name": "stdout",
     "output_type": "stream",
     "text": [
      "day_07_Data_scienc_management.ipynb  sample-code.ipynb        Untitled1.ipynb\n",
      "function.ipynb                       static_method_eng.ipynb\n",
      "README.md                            test.txt\n"
     ]
    }
   ],
   "source": [
    "ls"
   ]
  },
  {
   "cell_type": "code",
   "execution_count": 5,
   "id": "0b5e2cfe-df4a-4398-92e9-1b6035dcf042",
   "metadata": {},
   "outputs": [
    {
     "data": {
      "text/plain": [
       "44"
      ]
     },
     "execution_count": 5,
     "metadata": {},
     "output_type": "execute_result"
    }
   ],
   "source": [
    "f.write(\"this is my first write operation in the file\")"
   ]
  },
  {
   "cell_type": "code",
   "execution_count": 8,
   "id": "be9843bc-ff9d-4d26-89ca-7b8bff34fc1e",
   "metadata": {},
   "outputs": [],
   "source": [
    "f.close() ## We need to write f.close then refresh it then only it is accesseble"
   ]
  },
  {
   "cell_type": "code",
   "execution_count": 19,
   "id": "5999c24f-7642-4015-b2c8-03406867c32b",
   "metadata": {},
   "outputs": [
    {
     "data": {
      "text/plain": [
       "375"
      ]
     },
     "execution_count": 19,
     "metadata": {},
     "output_type": "execute_result"
    }
   ],
   "source": [
    "f.write(\"Web Development > Full Stack Web Development Full stack Web Development Job Assurance Program Master Full Stack Web Development with our MERN stack course. Learn MongoDB, Express.js, React.js, and Node.js to create dynamic web applications. Gain hands-on experience and build a strong foundation in full-stack developmentlanguage-iconLanguage: Engliclock-iconDuration: 1 year\")"
   ]
  },
  {
   "cell_type": "code",
   "execution_count": 20,
   "id": "2ac46f9f-8a87-4884-8c97-6f0e3a6509a1",
   "metadata": {},
   "outputs": [],
   "source": [
    "f.close()"
   ]
  },
  {
   "cell_type": "code",
   "execution_count": 21,
   "id": "43f62813-56f2-4af1-bbf9-0359f6e4e768",
   "metadata": {},
   "outputs": [],
   "source": [
    "f=open(\"test.txt\",\"a\")"
   ]
  },
  {
   "cell_type": "code",
   "execution_count": 22,
   "id": "73037eb4-c0a0-4b7e-b209-e9d834f7c237",
   "metadata": {},
   "outputs": [
    {
     "data": {
      "text/plain": [
       "379"
      ]
     },
     "execution_count": 22,
     "metadata": {},
     "output_type": "execute_result"
    }
   ],
   "source": [
    "f.write(\"Web Development > Full Stack Web Development Full stack Web Development Job Assurance Program Master Full Stack Web Development with our MERN stack course. Learn MongoDB, Express.js, React.js, and Node.js to create dynamic web applications. Gain hands-on experience and build a strong foundation in full-stack development language-iconLanguage: Englishclock-icon Duration: 1 year\")"
   ]
  },
  {
   "cell_type": "code",
   "execution_count": 25,
   "id": "bf76e02a-04ec-4601-8f0c-971ea4909518",
   "metadata": {},
   "outputs": [],
   "source": [
    "f.close() ## It will written 2 times the same statement "
   ]
  },
  {
   "cell_type": "code",
   "execution_count": 26,
   "id": "b6b2d564-dadd-4169-bfd6-72f59cbf626b",
   "metadata": {},
   "outputs": [],
   "source": [
    "data=open(\"test.txt\",\"r\")"
   ]
  },
  {
   "cell_type": "code",
   "execution_count": 27,
   "id": "596cc349-ff34-4c05-8ad5-3bac238f93cd",
   "metadata": {},
   "outputs": [
    {
     "data": {
      "text/plain": [
       "'Web Development > Full Stack Web Development Full stack Web Development Job Assurance Program Master Full Stack Web Development with our MERN stack course. Learn MongoDB, Express.js, React.js, and Node.js to create dynamic web applications. Gain hands-on experience and build a strong foundation in full-stack developmentlanguage-iconLanguage: Engliclock-iconDuration: 1 year Web Development > Full Stack Web Development Full stack Web Development Job Assurance Program Master Full Stack Web Development with our MERN stack course. Learn MongoDB, Express.js, React.js, and Node.js to create dynamic web applications. Gain hands-on experience and build a strong foundation in full-stack development language-iconLanguage: Englishclock-icon Duration: 1 year'"
      ]
     },
     "execution_count": 27,
     "metadata": {},
     "output_type": "execute_result"
    }
   ],
   "source": [
    "data.read()"
   ]
  },
  {
   "cell_type": "code",
   "execution_count": 32,
   "id": "1b0509a8-9f3d-4616-bfe4-c1e64847503a",
   "metadata": {},
   "outputs": [
    {
     "data": {
      "text/plain": [
       "''"
      ]
     },
     "execution_count": 32,
     "metadata": {},
     "output_type": "execute_result"
    }
   ],
   "source": [
    "data.read() ## Here we need to add the data.seek(0) function to read it again \n"
   ]
  },
  {
   "cell_type": "code",
   "execution_count": 30,
   "id": "d277c7d8-21ad-4c2c-b5e4-2e7c18ddba03",
   "metadata": {},
   "outputs": [
    {
     "data": {
      "text/plain": [
       "0"
      ]
     },
     "execution_count": 30,
     "metadata": {},
     "output_type": "execute_result"
    }
   ],
   "source": [
    "data.seek(0)"
   ]
  },
  {
   "cell_type": "code",
   "execution_count": 31,
   "id": "a0041979-713e-4609-97bf-88dc50c23f56",
   "metadata": {},
   "outputs": [
    {
     "data": {
      "text/plain": [
       "'Web Development > Full Stack Web Development Full stack Web Development Job Assurance Program Master Full Stack Web Development with our MERN stack course. Learn MongoDB, Express.js, React.js, and Node.js to create dynamic web applications. Gain hands-on experience and build a strong foundation in full-stack developmentlanguage-iconLanguage: Engliclock-iconDuration: 1 year Web Development > Full Stack Web Development Full stack Web Development Job Assurance Program Master Full Stack Web Development with our MERN stack course. Learn MongoDB, Express.js, React.js, and Node.js to create dynamic web applications. Gain hands-on experience and build a strong foundation in full-stack development language-iconLanguage: Englishclock-icon Duration: 1 year'"
      ]
     },
     "execution_count": 31,
     "metadata": {},
     "output_type": "execute_result"
    }
   ],
   "source": [
    "data.read()"
   ]
  },
  {
   "cell_type": "code",
   "execution_count": 35,
   "id": "b20ed496-a7fe-4bfc-a2e5-02891757897c",
   "metadata": {},
   "outputs": [
    {
     "data": {
      "text/plain": [
       "100"
      ]
     },
     "execution_count": 35,
     "metadata": {},
     "output_type": "execute_result"
    }
   ],
   "source": [
    "data.seek(100)  ## it will starts from the 100th letter of the given data"
   ]
  },
  {
   "cell_type": "code",
   "execution_count": 36,
   "id": "ed8bdb5e-7bd0-48ad-86d2-7aba9f0ac9cf",
   "metadata": {},
   "outputs": [
    {
     "data": {
      "text/plain": [
       "' Full Stack Web Development with our MERN stack course. Learn MongoDB, Express.js, React.js, and Node.js to create dynamic web applications. Gain hands-on experience and build a strong foundation in full-stack developmentlanguage-iconLanguage: Engliclock-iconDuration: 1 year Web Development > Full Stack Web Development Full stack Web Development Job Assurance Program Master Full Stack Web Development with our MERN stack course. Learn MongoDB, Express.js, React.js, and Node.js to create dynamic web applications. Gain hands-on experience and build a strong foundation in full-stack development language-iconLanguage: Englishclock-icon Duration: 1 year'"
      ]
     },
     "execution_count": 36,
     "metadata": {},
     "output_type": "execute_result"
    }
   ],
   "source": [
    "data.read()"
   ]
  },
  {
   "cell_type": "code",
   "execution_count": 37,
   "id": "c90ef408-58ac-4cac-8a93-9c9abf9c20dd",
   "metadata": {},
   "outputs": [],
   "source": [
    "data1=open (\"test.txt\",\"r\")"
   ]
  },
  {
   "cell_type": "code",
   "execution_count": 38,
   "id": "aeceaab1-8d79-46d3-b153-473ebba6259e",
   "metadata": {},
   "outputs": [
    {
     "name": "stdout",
     "output_type": "stream",
     "text": [
      "Web Development > Full Stack Web Development Full stack Web Development Job Assurance Program Master Full Stack Web Development with our MERN stack course. Learn MongoDB, Express.js, React.js, and Node.js to create dynamic web applications. Gain hands-on experience and build a strong foundation in full-stack developmentlanguage-iconLanguage: Engliclock-iconDuration: 1 year Web Development > Full Stack Web Development Full stack Web Development Job Assurance Program Master Full Stack Web Development with our MERN stack course. Learn MongoDB, Express.js, React.js, and Node.js to create dynamic web applications. Gain hands-on experience and build a strong foundation in full-stack development language-iconLanguage: Englishclock-icon Duration: 1 year\n"
     ]
    }
   ],
   "source": [
    "for i in data1:\n",
    "    print(i)"
   ]
  },
  {
   "cell_type": "code",
   "execution_count": null,
   "id": "463522a8-ee36-48e3-abab-8c4e9b7b3661",
   "metadata": {},
   "outputs": [],
   "source": [
    "## to know the file size\n",
    "\n",
    "import os"
   ]
  },
  {
   "cell_type": "code",
   "execution_count": 40,
   "id": "e9e035ec-0265-4e09-ab4d-d0b7f1878df5",
   "metadata": {},
   "outputs": [
    {
     "data": {
      "text/plain": [
       "755"
      ]
     },
     "execution_count": 40,
     "metadata": {},
     "output_type": "execute_result"
    }
   ],
   "source": [
    "os.path.getsize(\"test.txt\")"
   ]
  },
  {
   "cell_type": "code",
   "execution_count": 41,
   "id": "604d5fe6-1609-4319-94ee-79c4b403a2d2",
   "metadata": {},
   "outputs": [],
   "source": [
    "import shutil"
   ]
  },
  {
   "cell_type": "code",
   "execution_count": 42,
   "id": "a3ab8f8a-18e3-4fdc-bfe0-74c3588900fa",
   "metadata": {},
   "outputs": [
    {
     "data": {
      "text/plain": [
       "'new_test.txt'"
      ]
     },
     "execution_count": 42,
     "metadata": {},
     "output_type": "execute_result"
    }
   ],
   "source": [
    "shutil.copy(\"test.txt\",\"new_test.txt\")"
   ]
  },
  {
   "cell_type": "code",
   "execution_count": 43,
   "id": "1db49e93-0542-4989-86ba-dd2fed6c5733",
   "metadata": {},
   "outputs": [],
   "source": [
    "## to delete the file\n",
    "\n",
    "os.remove(\"test.txt\")"
   ]
  },
  {
   "cell_type": "code",
   "execution_count": 44,
   "id": "c032a19a-976a-49b8-9e9b-0175ce333e73",
   "metadata": {},
   "outputs": [
    {
     "name": "stdout",
     "output_type": "stream",
     "text": [
      "Web Development > Full Stack Web Development Full stack Web Development Job Assurance Program Master Full Stack Web Development with our MERN stack course. Learn MongoDB, Express.js, React.js, and Node.js to create dynamic web applications. Gain hands-on experience and build a strong foundation in full-stack developmentlanguage-iconLanguage: Engliclock-iconDuration: 1 year Web Development > Full Stack Web Development Full stack Web Development Job Assurance Program Master Full Stack Web Development with our MERN stack course. Learn MongoDB, Express.js, React.js, and Node.js to create dynamic web applications. Gain hands-on experience and build a strong foundation in full-stack development language-iconLanguage: Englishclock-icon Duration: 1 year\n"
     ]
    }
   ],
   "source": [
    "with open (\"new_test.txt\", \"r\")as f :\n",
    "    print(f.read())"
   ]
  },
  {
   "cell_type": "code",
   "execution_count": 47,
   "id": "de0245a7-d04b-4f6d-903a-e088344049d5",
   "metadata": {},
   "outputs": [],
   "source": [
    "os.rename(\"test1.txt\",\"test2.txt\") ## it will changes its name to test2 from test1"
   ]
  },
  {
   "cell_type": "code",
   "execution_count": null,
   "id": "5cad490f-ae1c-4414-baf6-9dd02905e0a6",
   "metadata": {},
   "outputs": [],
   "source": []
  }
 ],
 "metadata": {
  "kernelspec": {
   "display_name": "Python 3 (ipykernel)",
   "language": "python",
   "name": "python3"
  },
  "language_info": {
   "codemirror_mode": {
    "name": "ipython",
    "version": 3
   },
   "file_extension": ".py",
   "mimetype": "text/x-python",
   "name": "python",
   "nbconvert_exporter": "python",
   "pygments_lexer": "ipython3",
   "version": "3.10.8"
  }
 },
 "nbformat": 4,
 "nbformat_minor": 5
}
