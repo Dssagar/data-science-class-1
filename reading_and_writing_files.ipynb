{
 "cells": [
  {
   "cell_type": "code",
   "execution_count": 15,
   "id": "bef851ac-1240-4504-b352-7eb0d92dd2a9",
   "metadata": {},
   "outputs": [],
   "source": [
    "data={\n",
    "    \"name\":\"sagar\",\n",
    "    \"mail_id\":\"sagar318@gmail.com\",\n",
    "    \"phone_number\":1234567890,\n",
    "    \"subject\":[\"data science masters\",\"big data\",\"data analytics\"]\n",
    "}"
   ]
  },
  {
   "cell_type": "code",
   "execution_count": 16,
   "id": "0efcbb68-12e8-445c-9f36-deab8d25e559",
   "metadata": {},
   "outputs": [],
   "source": [
    "import json"
   ]
  },
  {
   "cell_type": "code",
   "execution_count": 17,
   "id": "e5ba979c-6149-492e-90fc-712d2278f91a",
   "metadata": {},
   "outputs": [],
   "source": [
    "with open (\"test1.json\",\"w\")as f :\n",
    "    json.dump(data,f)"
   ]
  },
  {
   "cell_type": "code",
   "execution_count": 18,
   "id": "76a25b2e-a121-4915-b148-460e038cff69",
   "metadata": {},
   "outputs": [],
   "source": [
    "with open (\"test1.json\",\"r\")as f :\n",
    "    data1=json.load(f)\n",
    "    "
   ]
  },
  {
   "cell_type": "code",
   "execution_count": 19,
   "id": "e20012f4-89ad-4bd3-9b37-05a5d97082a0",
   "metadata": {},
   "outputs": [
    {
     "data": {
      "text/plain": [
       "{'name': 'sagar',\n",
       " 'mail_id': 'sagar318@gmail.com',\n",
       " 'phone_number': 1234567890,\n",
       " 'subject': ['data science masters', 'big data', 'data analytics']}"
      ]
     },
     "execution_count": 19,
     "metadata": {},
     "output_type": "execute_result"
    }
   ],
   "source": [
    "data1"
   ]
  },
  {
   "cell_type": "code",
   "execution_count": 20,
   "id": "a6445ddc-5de1-4729-b2dc-de6e2427be2b",
   "metadata": {},
   "outputs": [
    {
     "data": {
      "text/plain": [
       "['data science masters', 'big data', 'data analytics']"
      ]
     },
     "execution_count": 20,
     "metadata": {},
     "output_type": "execute_result"
    }
   ],
   "source": [
    "data1[\"subject\"]\n"
   ]
  },
  {
   "cell_type": "code",
   "execution_count": 22,
   "id": "c574720f-7d09-478e-85df-b3a6712d1889",
   "metadata": {},
   "outputs": [
    {
     "data": {
      "text/plain": [
       "'data analytics'"
      ]
     },
     "execution_count": 22,
     "metadata": {},
     "output_type": "execute_result"
    }
   ],
   "source": [
    "data1[\"subject\"][2]"
   ]
  },
  {
   "cell_type": "code",
   "execution_count": 27,
   "id": "2c0ddf8e-ee76-4fb7-b826-5438e9a2dd78",
   "metadata": {},
   "outputs": [],
   "source": [
    "data=[[\"name\", \"email_id\",\"number\"],\n",
    "      [\"sagar\",\"sagards318@gmail.com\",1234567890],\n",
    "      [\"krish\",\"sasdfg@gmail.com\",1234567890234]\n",
    "     ]"
   ]
  },
  {
   "cell_type": "code",
   "execution_count": 28,
   "id": "de5a2f16-f0f1-47e6-87a4-1a2591ce53bd",
   "metadata": {},
   "outputs": [],
   "source": [
    "import csv"
   ]
  },
  {
   "cell_type": "code",
   "execution_count": 29,
   "id": "baa88ff8-2507-4827-8f6f-bc38e7e3a14c",
   "metadata": {},
   "outputs": [],
   "source": [
    "with open (\"test3.csv\",\"w\") as f:\n",
    "    w=csv.writer(f)\n",
    "    for i in data:\n",
    "        w.writerow(i)"
   ]
  },
  {
   "cell_type": "code",
   "execution_count": 30,
   "id": "4b64af11-138d-46f9-9b01-a42acf19cf27",
   "metadata": {},
   "outputs": [
    {
     "name": "stdout",
     "output_type": "stream",
     "text": [
      "['name', 'email_id', 'number']\n",
      "['sagar', 'sagards318@gmail.com', '1234567890']\n",
      "['krish', 'sasdfg@gmail.com', '1234567890234']\n"
     ]
    }
   ],
   "source": [
    "with open(\"test3.csv\",\"r\") as f :\n",
    "    read=csv.reader(f)\n",
    "    for i in read:\n",
    "        print (i)"
   ]
  },
  {
   "cell_type": "code",
   "execution_count": 31,
   "id": "dada5ad5-ebfd-40b3-9959-f26710a0631e",
   "metadata": {},
   "outputs": [],
   "source": [
    "with open (\"test4.bin\",\"wb\") as f :\n",
    "    f.write(b\"\\x01\\x02\\x03\")"
   ]
  },
  {
   "cell_type": "code",
   "execution_count": 32,
   "id": "cf17c85d-d8d2-4da9-8fd8-98f5967e5b81",
   "metadata": {},
   "outputs": [
    {
     "name": "stdout",
     "output_type": "stream",
     "text": [
      "b'\\x01\\x02\\x03'\n"
     ]
    }
   ],
   "source": [
    "with open (\"test4.bin\",\"rb\")as f :\n",
    "    print(f.read())"
   ]
  },
  {
   "cell_type": "code",
   "execution_count": null,
   "id": "8a6379dd-e5b0-470e-a75f-705daa35c9e3",
   "metadata": {},
   "outputs": [],
   "source": []
  }
 ],
 "metadata": {
  "kernelspec": {
   "display_name": "Python 3 (ipykernel)",
   "language": "python",
   "name": "python3"
  },
  "language_info": {
   "codemirror_mode": {
    "name": "ipython",
    "version": 3
   },
   "file_extension": ".py",
   "mimetype": "text/x-python",
   "name": "python",
   "nbconvert_exporter": "python",
   "pygments_lexer": "ipython3",
   "version": "3.10.8"
  }
 },
 "nbformat": 4,
 "nbformat_minor": 5
}
