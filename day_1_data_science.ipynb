{
 "cells": [
  {
   "cell_type": "code",
   "execution_count": 2,
   "id": "1261faf4-1bc1-49d3-b1c8-000519205a96",
   "metadata": {},
   "outputs": [],
   "source": [
    "a=10"
   ]
  },
  {
   "cell_type": "code",
   "execution_count": 3,
   "id": "a38d4b6d-7643-4626-96d5-11c831103204",
   "metadata": {},
   "outputs": [
    {
     "data": {
      "text/plain": [
       "10"
      ]
     },
     "execution_count": 3,
     "metadata": {},
     "output_type": "execute_result"
    }
   ],
   "source": [
    "a"
   ]
  },
  {
   "cell_type": "markdown",
   "id": "cd72d0eb-b9d0-4c7d-a806-6c6828a42173",
   "metadata": {},
   "source": [
    "# this is a intro session "
   ]
  },
  {
   "cell_type": "markdown",
   "id": "bbb1e5c4-3229-43b1-a82d-eef39a38c069",
   "metadata": {},
   "source": [
    "## example"
   ]
  },
  {
   "cell_type": "code",
   "execution_count": 5,
   "id": "192d4998-b4ed-4f7d-b915-233ddbd05cf9",
   "metadata": {},
   "outputs": [
    {
     "data": {
      "text/plain": [
       "2"
      ]
     },
     "execution_count": 5,
     "metadata": {},
     "output_type": "execute_result"
    }
   ],
   "source": [
    "1+1"
   ]
  },
  {
   "cell_type": "code",
   "execution_count": 3,
   "id": "94f0fcfe-3598-4f61-aa06-2dccf33b60e8",
   "metadata": {},
   "outputs": [
    {
     "data": {
      "text/plain": [
       "20"
      ]
     },
     "execution_count": 3,
     "metadata": {},
     "output_type": "execute_result"
    }
   ],
   "source": [
    "## comments\n",
    "## for  single we use ##\n",
    "## this is a function \n",
    "# ths is a comment\n",
    "a=20\n",
    "a"
   ]
  },
  {
   "cell_type": "code",
   "execution_count": 7,
   "id": "a6091863-2d5f-4d5c-88c1-a09355bdd1b4",
   "metadata": {},
   "outputs": [
    {
     "data": {
      "text/plain": [
       "20"
      ]
     },
     "execution_count": 7,
     "metadata": {},
     "output_type": "execute_result"
    }
   ],
   "source": [
    "\"\"\"\n",
    "Example of multiline comment\n",
    "hello this is a example of python\n",
    "\"\"\"\n",
    "a=20\n",
    "a"
   ]
  },
  {
   "cell_type": "markdown",
   "id": "b573b28e-0e9a-468e-9831-3f027be74e98",
   "metadata": {},
   "source": [
    "# hello"
   ]
  },
  {
   "cell_type": "markdown",
   "id": "5a62b46c-799b-46f0-9f61-10deea93a195",
   "metadata": {},
   "source": [
    "# hello\n",
    "## hell0\n",
    "### hello guys\n"
   ]
  },
  {
   "cell_type": "raw",
   "id": "eb353aed-e736-4b23-b687-a10cd9dd5ade",
   "metadata": {},
   "source": [
    "## it is used to make head lines wt we see in the above cell\n"
   ]
  },
  {
   "cell_type": "markdown",
   "id": "26ad3148-564c-4371-abde-c4b73391de9b",
   "metadata": {},
   "source": [
    "## numbers"
   ]
  },
  {
   "cell_type": "code",
   "execution_count": 10,
   "id": "632a29fd-fd74-4b20-b9eb-8d064549869f",
   "metadata": {},
   "outputs": [
    {
     "data": {
      "text/plain": [
       "4"
      ]
     },
     "execution_count": 10,
     "metadata": {},
     "output_type": "execute_result"
    }
   ],
   "source": [
    "1+3"
   ]
  },
  {
   "cell_type": "code",
   "execution_count": 4,
   "id": "5d1d4f7c-640b-4c63-b41f-47ee85c912cc",
   "metadata": {},
   "outputs": [
    {
     "name": "stdout",
     "output_type": "stream",
     "text": [
      "4\n"
     ]
    }
   ],
   "source": [
    "print(1+3)"
   ]
  },
  {
   "cell_type": "code",
   "execution_count": 5,
   "id": "64b17d5e-fbb5-41e1-a637-e63b5efb9bab",
   "metadata": {},
   "outputs": [
    {
     "name": "stdout",
     "output_type": "stream",
     "text": [
      "5\n"
     ]
    }
   ],
   "source": [
    "a=5\n",
    "print(a)"
   ]
  },
  {
   "cell_type": "code",
   "execution_count": 6,
   "id": "e8f0d902-7ef8-45cb-a6fb-af4a5860cf7c",
   "metadata": {},
   "outputs": [
    {
     "name": "stdout",
     "output_type": "stream",
     "text": [
      "hello world\n"
     ]
    }
   ],
   "source": [
    "print(\"hello world\")"
   ]
  },
  {
   "cell_type": "code",
   "execution_count": 3,
   "id": "7f9d9604-7b6d-45dc-a7a7-f96b1b830b64",
   "metadata": {},
   "outputs": [
    {
     "name": "stdout",
     "output_type": "stream",
     "text": [
      "my name is sagar i studying \n",
      " in uom\n"
     ]
    }
   ],
   "source": [
    "print(\"my name is sagar i studying \\n in uom\")"
   ]
  },
  {
   "cell_type": "code",
   "execution_count": 5,
   "id": "87985d19-875d-449a-949d-a1d255353454",
   "metadata": {},
   "outputs": [
    {
     "data": {
      "text/plain": [
       "str"
      ]
     },
     "execution_count": 5,
     "metadata": {},
     "output_type": "execute_result"
    }
   ],
   "source": [
    "type(name)"
   ]
  },
  {
   "cell_type": "raw",
   "id": "b2ce2926-05b5-4733-b5e4-64bd69c82a91",
   "metadata": {},
   "source": [
    "\\n refers to go tonext line in a sentence"
   ]
  },
  {
   "cell_type": "code",
   "execution_count": 4,
   "id": "1c1231d8-a56d-483d-902d-c8bf4e9c9b11",
   "metadata": {},
   "outputs": [],
   "source": [
    "name=\"sagar\"\n",
    "company=\"uom\""
   ]
  },
  {
   "cell_type": "code",
   "execution_count": 2,
   "id": "c2413635-7119-4503-8ca3-96aa3cf2ea6d",
   "metadata": {},
   "outputs": [],
   "source": [
    "name=\"bala\""
   ]
  },
  {
   "cell_type": "code",
   "execution_count": 3,
   "id": "3d1f5e1a-464f-4df0-9df3-ea100a26084e",
   "metadata": {},
   "outputs": [
    {
     "data": {
      "text/plain": [
       "'bala'"
      ]
     },
     "execution_count": 3,
     "metadata": {},
     "output_type": "execute_result"
    }
   ],
   "source": [
    "name"
   ]
  },
  {
   "cell_type": "raw",
   "id": "bfdadd77-5874-4702-8d48-42ba7f00486c",
   "metadata": {},
   "source": [
    "anything that written in doubble quote(\"\") is string"
   ]
  },
  {
   "cell_type": "code",
   "execution_count": 1,
   "id": "6f0a5281-cd09-422f-8abc-d931b6b466b8",
   "metadata": {},
   "outputs": [
    {
     "data": {
      "text/plain": [
       "12"
      ]
     },
     "execution_count": 1,
     "metadata": {},
     "output_type": "execute_result"
    }
   ],
   "source": [
    "number=12\n",
    "number"
   ]
  },
  {
   "cell_type": "code",
   "execution_count": 2,
   "id": "99e8266f-5fb1-446d-88ca-c9a96cb58def",
   "metadata": {},
   "outputs": [
    {
     "data": {
      "text/plain": [
       "int"
      ]
     },
     "execution_count": 2,
     "metadata": {},
     "output_type": "execute_result"
    }
   ],
   "source": [
    "type(number)"
   ]
  },
  {
   "cell_type": "code",
   "execution_count": 3,
   "id": "50561b93-a5bb-4536-b1c1-61ba6e03f13f",
   "metadata": {},
   "outputs": [],
   "source": [
    "decimal_num=2.5"
   ]
  },
  {
   "cell_type": "code",
   "execution_count": 4,
   "id": "0dd96db2-ce87-4e06-8967-dd40c2987c60",
   "metadata": {},
   "outputs": [
    {
     "data": {
      "text/plain": [
       "2.5"
      ]
     },
     "execution_count": 4,
     "metadata": {},
     "output_type": "execute_result"
    }
   ],
   "source": [
    "decimal_num"
   ]
  },
  {
   "cell_type": "code",
   "execution_count": 5,
   "id": "55639236-94c8-4e47-8d36-07617e257c5e",
   "metadata": {},
   "outputs": [
    {
     "data": {
      "text/plain": [
       "float"
      ]
     },
     "execution_count": 5,
     "metadata": {},
     "output_type": "execute_result"
    }
   ],
   "source": [
    "type(decimal_num)"
   ]
  },
  {
   "cell_type": "code",
   "execution_count": 1,
   "id": "0a6129fb-2837-4066-a401-8751be1c61fd",
   "metadata": {},
   "outputs": [
    {
     "data": {
      "text/plain": [
       "str"
      ]
     },
     "execution_count": 1,
     "metadata": {},
     "output_type": "execute_result"
    }
   ],
   "source": [
    "type(\"hello\")"
   ]
  },
  {
   "cell_type": "code",
   "execution_count": 2,
   "id": "0fc1d9fb-05af-4677-8d1b-8df9546d8297",
   "metadata": {},
   "outputs": [
    {
     "data": {
      "text/plain": [
       "complex"
      ]
     },
     "execution_count": 2,
     "metadata": {},
     "output_type": "execute_result"
    }
   ],
   "source": [
    "type(1+2j)"
   ]
  },
  {
   "cell_type": "code",
   "execution_count": 3,
   "id": "a62bd81b-9322-43a0-bc22-28a511217408",
   "metadata": {},
   "outputs": [
    {
     "name": "stdout",
     "output_type": "stream",
     "text": [
      "hello\n",
      "hello\n"
     ]
    }
   ],
   "source": [
    "print(\"hello\")\n",
    "print('hello')"
   ]
  },
  {
   "cell_type": "raw",
   "id": "ec7414b8-9c72-4331-a26d-6274e34f5607",
   "metadata": {},
   "source": [
    "##bad way\n",
    "## dont start the variable name with numbers\n",
    "1a\n",
    "3answers etc"
   ]
  },
  {
   "cell_type": "code",
   "execution_count": 5,
   "id": "7b70d00b-a83a-4119-b14a-03951e320cfa",
   "metadata": {},
   "outputs": [],
   "source": [
    "number=23"
   ]
  },
  {
   "cell_type": "code",
   "execution_count": 6,
   "id": "912e41d6-0365-407e-8464-d4c1de67b7c5",
   "metadata": {},
   "outputs": [
    {
     "name": "stdout",
     "output_type": "stream",
     "text": [
      "pwskills\n",
      "pwskills\n"
     ]
    }
   ],
   "source": [
    "## variables are case sensitive\n",
    "company='ineuron'\n",
    "company='pwskills'\n",
    "print(company)\n",
    "print(company)"
   ]
  },
  {
   "cell_type": "code",
   "execution_count": 13,
   "id": "67c2f1ee-be8c-4625-b58c-a4b741981acf",
   "metadata": {},
   "outputs": [
    {
     "data": {
      "text/plain": [
       "'\\nint,float,len,complex,bool,str,rreturn,yield\\n'"
      ]
     },
     "execution_count": 13,
     "metadata": {},
     "output_type": "execute_result"
    }
   ],
   "source": [
    "## reserved keywords\n",
    "'''\n",
    "int,float,len,complex,bool,str,rreturn,yield\n",
    "'''"
   ]
  },
  {
   "cell_type": "code",
   "execution_count": 14,
   "id": "ea91e917-dee4-4765-af91-4b810f533bac",
   "metadata": {},
   "outputs": [],
   "source": [
    "float=32"
   ]
  },
  {
   "cell_type": "code",
   "execution_count": 12,
   "id": "15fe5490-ffb6-4004-bff5-711ca80def6b",
   "metadata": {},
   "outputs": [
    {
     "data": {
      "text/plain": [
       "True"
      ]
     },
     "execution_count": 12,
     "metadata": {},
     "output_type": "execute_result"
    }
   ],
   "source": [
    "## boolean\n",
    "True"
   ]
  },
  {
   "cell_type": "code",
   "execution_count": 15,
   "id": "90a84a3e-e8ef-473f-b92e-d89f956bfaa6",
   "metadata": {},
   "outputs": [
    {
     "data": {
      "text/plain": [
       "False"
      ]
     },
     "execution_count": 15,
     "metadata": {},
     "output_type": "execute_result"
    }
   ],
   "source": [
    "False"
   ]
  },
  {
   "cell_type": "code",
   "execution_count": 16,
   "id": "4b68eef7-1833-4d4b-8bea-74a01d8b0730",
   "metadata": {},
   "outputs": [
    {
     "data": {
      "text/plain": [
       "False"
      ]
     },
     "execution_count": 16,
     "metadata": {},
     "output_type": "execute_result"
    }
   ],
   "source": [
    "True and False"
   ]
  },
  {
   "cell_type": "code",
   "execution_count": 17,
   "id": "8fe62184-a120-45a4-9e04-027f97822d1e",
   "metadata": {},
   "outputs": [
    {
     "data": {
      "text/plain": [
       "False"
      ]
     },
     "execution_count": 17,
     "metadata": {},
     "output_type": "execute_result"
    }
   ],
   "source": [
    "False and True"
   ]
  },
  {
   "cell_type": "code",
   "execution_count": 1,
   "id": "dc09e920-ef6f-4fed-aeb0-437d7113ef28",
   "metadata": {},
   "outputs": [
    {
     "data": {
      "text/plain": [
       "True"
      ]
     },
     "execution_count": 1,
     "metadata": {},
     "output_type": "execute_result"
    }
   ],
   "source": [
    "True or False"
   ]
  },
  {
   "cell_type": "code",
   "execution_count": 2,
   "id": "942701b2-d614-4df4-90f0-80f0b84c6bdb",
   "metadata": {},
   "outputs": [
    {
     "data": {
      "text/plain": [
       "False"
      ]
     },
     "execution_count": 2,
     "metadata": {},
     "output_type": "execute_result"
    }
   ],
   "source": [
    "not True"
   ]
  },
  {
   "cell_type": "code",
   "execution_count": 3,
   "id": "5e543d5e-5f61-4d3e-8084-98c5b3e39a73",
   "metadata": {},
   "outputs": [
    {
     "data": {
      "text/plain": [
       "True"
      ]
     },
     "execution_count": 3,
     "metadata": {},
     "output_type": "execute_result"
    }
   ],
   "source": [
    "not False"
   ]
  },
  {
   "cell_type": "code",
   "execution_count": 1,
   "id": "108f2f9c-336c-4950-8bdf-7cbe793cd2b5",
   "metadata": {},
   "outputs": [
    {
     "data": {
      "text/plain": [
       "bool"
      ]
     },
     "execution_count": 1,
     "metadata": {},
     "output_type": "execute_result"
    }
   ],
   "source": [
    "type(not False)"
   ]
  },
  {
   "cell_type": "code",
   "execution_count": 3,
   "id": "8ffef937-9795-44ad-8614-a7cf5071cd0c",
   "metadata": {},
   "outputs": [],
   "source": [
    "a=1\n",
    "if type(bool(a))==True:\n",
    "    print(\"true\")"
   ]
  },
  {
   "cell_type": "code",
   "execution_count": 4,
   "id": "3a3a5b14-161f-4d3e-9d13-ff2d508ef49e",
   "metadata": {},
   "outputs": [
    {
     "data": {
      "text/plain": [
       "False"
      ]
     },
     "execution_count": 4,
     "metadata": {},
     "output_type": "execute_result"
    }
   ],
   "source": [
    "type(bool(a))==True"
   ]
  },
  {
   "cell_type": "code",
   "execution_count": 5,
   "id": "b44e20eb-91ea-4d75-b191-50e01dc03946",
   "metadata": {},
   "outputs": [
    {
     "data": {
      "text/plain": [
       "True"
      ]
     },
     "execution_count": 5,
     "metadata": {},
     "output_type": "execute_result"
    }
   ],
   "source": [
    "bool(a)"
   ]
  },
  {
   "cell_type": "code",
   "execution_count": 1,
   "id": "6a05feac-061e-40ce-8eef-108196928382",
   "metadata": {},
   "outputs": [
    {
     "data": {
      "text/plain": [
       "'23'"
      ]
     },
     "execution_count": 1,
     "metadata": {},
     "output_type": "execute_result"
    }
   ],
   "source": [
    "str(23)"
   ]
  },
  {
   "cell_type": "code",
   "execution_count": 2,
   "id": "06cffd14-a49a-4109-9adb-852164e49610",
   "metadata": {},
   "outputs": [
    {
     "data": {
      "text/plain": [
       "True"
      ]
     },
     "execution_count": 2,
     "metadata": {},
     "output_type": "execute_result"
    }
   ],
   "source": [
    "## Typecasting\n",
    "bool(1)"
   ]
  },
  {
   "cell_type": "code",
   "execution_count": 3,
   "id": "0fb50eb3-1a67-4370-bb9d-6999b4d4fdc0",
   "metadata": {},
   "outputs": [
    {
     "data": {
      "text/plain": [
       "False"
      ]
     },
     "execution_count": 3,
     "metadata": {},
     "output_type": "execute_result"
    }
   ],
   "source": [
    "bool(0)"
   ]
  },
  {
   "cell_type": "markdown",
   "id": "7921d43f-6d6f-4029-b230-166d31f2f1b7",
   "metadata": {},
   "source": [
    "### Dynamic typing "
   ]
  },
  {
   "cell_type": "code",
   "execution_count": 5,
   "id": "7f0fade0-c3aa-4bc3-b7b2-b07a5d542a53",
   "metadata": {},
   "outputs": [],
   "source": [
    "a=12\n",
    "str1=\"sagar\"\n",
    "a=\"var\""
   ]
  },
  {
   "cell_type": "code",
   "execution_count": 6,
   "id": "02f2c138-81d6-4f9a-a2bd-1d4a46aa72d9",
   "metadata": {},
   "outputs": [
    {
     "name": "stdout",
     "output_type": "stream",
     "text": [
      "<class 'str'>\n"
     ]
    }
   ],
   "source": [
    "print(type(a))"
   ]
  },
  {
   "cell_type": "code",
   "execution_count": 1,
   "id": "2d29b60d-37db-490a-9bae-68af0f7160b2",
   "metadata": {},
   "outputs": [
    {
     "data": {
      "text/plain": [
       "1"
      ]
     },
     "execution_count": 1,
     "metadata": {},
     "output_type": "execute_result"
    }
   ],
   "source": [
    "int(1.345)"
   ]
  },
  {
   "cell_type": "code",
   "execution_count": 1,
   "id": "fea02a3f-91e6-4d0b-bc8b-cb4b7f73ad07",
   "metadata": {},
   "outputs": [],
   "source": [
    "## concatenation between different types"
   ]
  },
  {
   "cell_type": "code",
   "execution_count": 2,
   "id": "b9974c60-196d-46ba-8fc4-dcbc76ac5aa9",
   "metadata": {},
   "outputs": [
    {
     "data": {
      "text/plain": [
       "'11'"
      ]
     },
     "execution_count": 2,
     "metadata": {},
     "output_type": "execute_result"
    }
   ],
   "source": [
    "\"1\"+\"1\""
   ]
  },
  {
   "cell_type": "code",
   "execution_count": 3,
   "id": "1ceafac6-1c18-4c29-9f17-93a1432457ec",
   "metadata": {},
   "outputs": [
    {
     "data": {
      "text/plain": [
       "2"
      ]
     },
     "execution_count": 3,
     "metadata": {},
     "output_type": "execute_result"
    }
   ],
   "source": [
    "int(\"1\")+int(\"1\")"
   ]
  },
  {
   "cell_type": "code",
   "execution_count": 4,
   "id": "2a9d08a3-2451-42aa-92d7-e26b882fb6ea",
   "metadata": {},
   "outputs": [
    {
     "ename": "TypeError",
     "evalue": "unsupported operand type(s) for +: 'int' and 'str'",
     "output_type": "error",
     "traceback": [
      "\u001b[0;31m---------------------------------------------------------------------------\u001b[0m",
      "\u001b[0;31mTypeError\u001b[0m                                 Traceback (most recent call last)",
      "Cell \u001b[0;32mIn[4], line 1\u001b[0m\n\u001b[0;32m----> 1\u001b[0m \u001b[38;5;28;43mint\u001b[39;49m\u001b[43m(\u001b[49m\u001b[38;5;124;43m\"\u001b[39;49m\u001b[38;5;124;43m1\u001b[39;49m\u001b[38;5;124;43m\"\u001b[39;49m\u001b[43m)\u001b[49m\u001b[38;5;241;43m+\u001b[39;49m\u001b[43m(\u001b[49m\u001b[38;5;124;43m\"\u001b[39;49m\u001b[38;5;124;43m1\u001b[39;49m\u001b[38;5;124;43m\"\u001b[39;49m\u001b[43m)\u001b[49m\n",
      "\u001b[0;31mTypeError\u001b[0m: unsupported operand type(s) for +: 'int' and 'str'"
     ]
    }
   ],
   "source": [
    "int(\"1\")+(\"1\")"
   ]
  },
  {
   "cell_type": "code",
   "execution_count": 5,
   "id": "0a3bbcb0-941f-4b69-85d8-ca2fc528d4fc",
   "metadata": {},
   "outputs": [
    {
     "ename": "TypeError",
     "evalue": "can't multiply sequence by non-int of type 'str'",
     "output_type": "error",
     "traceback": [
      "\u001b[0;31m---------------------------------------------------------------------------\u001b[0m",
      "\u001b[0;31mTypeError\u001b[0m                                 Traceback (most recent call last)",
      "Cell \u001b[0;32mIn[5], line 1\u001b[0m\n\u001b[0;32m----> 1\u001b[0m \u001b[38;5;124;43m\"\u001b[39;49m\u001b[38;5;124;43m1\u001b[39;49m\u001b[38;5;124;43m\"\u001b[39;49m\u001b[38;5;241;43m*\u001b[39;49m\u001b[38;5;124;43m\"\u001b[39;49m\u001b[38;5;124;43m1\u001b[39;49m\u001b[38;5;124;43m\"\u001b[39;49m\n",
      "\u001b[0;31mTypeError\u001b[0m: can't multiply sequence by non-int of type 'str'"
     ]
    }
   ],
   "source": [
    "\"1\"*\"1\""
   ]
  },
  {
   "cell_type": "code",
   "execution_count": 1,
   "id": "d646e0ce-3394-4648-8d32-34d45dc29060",
   "metadata": {},
   "outputs": [
    {
     "data": {
      "text/plain": [
       "'1111111111111111111111111111111111111111111111111111111111111111111111111111111111111111111111111111'"
      ]
     },
     "execution_count": 1,
     "metadata": {},
     "output_type": "execute_result"
    }
   ],
   "source": [
    "\"1\"*100"
   ]
  },
  {
   "cell_type": "code",
   "execution_count": null,
   "id": "a600f03e-89c1-4089-a5ec-e899f187357d",
   "metadata": {},
   "outputs": [],
   "source": []
  }
 ],
 "metadata": {
  "kernelspec": {
   "display_name": "Python 3 (ipykernel)",
   "language": "python",
   "name": "python3"
  },
  "language_info": {
   "codemirror_mode": {
    "name": "ipython",
    "version": 3
   },
   "file_extension": ".py",
   "mimetype": "text/x-python",
   "name": "python",
   "nbconvert_exporter": "python",
   "pygments_lexer": "ipython3",
   "version": "3.10.8"
  }
 },
 "nbformat": 4,
 "nbformat_minor": 5
}
