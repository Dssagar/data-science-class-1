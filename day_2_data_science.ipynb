{
 "cells": [
  {
   "cell_type": "code",
   "execution_count": null,
   "id": "8cfeb124-51fb-4688-8d25-d93728988db5",
   "metadata": {},
   "outputs": [],
   "source": []
  },
  {
   "cell_type": "code",
   "execution_count": null,
   "id": "2831ccf3-9db7-4f6b-95f1-46b5fa5628c9",
   "metadata": {},
   "outputs": [],
   "source": []
  },
  {
   "cell_type": "code",
   "execution_count": null,
   "id": "ce137061-fe91-4ba1-bb35-fb4c60994e72",
   "metadata": {},
   "outputs": [],
   "source": []
  },
  {
   "cell_type": "code",
   "execution_count": 1,
   "id": "b2b6a3c5-530e-4322-be8e-13200659789f",
   "metadata": {},
   "outputs": [],
   "source": [
    "a=10"
   ]
  },
  {
   "cell_type": "code",
   "execution_count": 2,
   "id": "20fde545-c52a-4353-9f6d-181888870be4",
   "metadata": {},
   "outputs": [],
   "source": [
    "a=\"c\""
   ]
  },
  {
   "cell_type": "code",
   "execution_count": 3,
   "id": "fdc9ee3f-176b-4b70-b257-0105eb16ec0f",
   "metadata": {},
   "outputs": [
    {
     "data": {
      "text/plain": [
       "'c'"
      ]
     },
     "execution_count": 3,
     "metadata": {},
     "output_type": "execute_result"
    }
   ],
   "source": [
    "a"
   ]
  },
  {
   "cell_type": "code",
   "execution_count": 4,
   "id": "08830449-d10d-4553-9d5d-5f70860d80c4",
   "metadata": {},
   "outputs": [
    {
     "data": {
      "text/plain": [
       "str"
      ]
     },
     "execution_count": 4,
     "metadata": {},
     "output_type": "execute_result"
    }
   ],
   "source": [
    "type(a)"
   ]
  },
  {
   "cell_type": "code",
   "execution_count": 5,
   "id": "165f2b72-64bc-43b8-8b43-035de77e6b1a",
   "metadata": {},
   "outputs": [
    {
     "data": {
      "text/plain": [
       "0"
      ]
     },
     "execution_count": 5,
     "metadata": {},
     "output_type": "execute_result"
    }
   ],
   "source": [
    "int()"
   ]
  },
  {
   "cell_type": "code",
   "execution_count": 6,
   "id": "f229590f-abb9-4220-b27a-9813958c25ff",
   "metadata": {},
   "outputs": [
    {
     "data": {
      "text/plain": [
       "1223"
      ]
     },
     "execution_count": 6,
     "metadata": {},
     "output_type": "execute_result"
    }
   ],
   "source": [
    "int(\"1223\")"
   ]
  },
  {
   "cell_type": "code",
   "execution_count": 7,
   "id": "40dca541-bf98-4edf-9323-b3be1925f70a",
   "metadata": {},
   "outputs": [
    {
     "data": {
      "text/plain": [
       "1234"
      ]
     },
     "execution_count": 7,
     "metadata": {},
     "output_type": "execute_result"
    }
   ],
   "source": [
    "int('1234')"
   ]
  },
  {
   "cell_type": "code",
   "execution_count": 8,
   "id": "5236eeed-5c26-4dd9-8b7f-3b08c1d7ff98",
   "metadata": {},
   "outputs": [
    {
     "data": {
      "text/plain": [
       "1344"
      ]
     },
     "execution_count": 8,
     "metadata": {},
     "output_type": "execute_result"
    }
   ],
   "source": [
    "int(1344)"
   ]
  },
  {
   "cell_type": "code",
   "execution_count": 9,
   "id": "0e743b60-4767-44be-af92-c0bc1f679295",
   "metadata": {},
   "outputs": [
    {
     "ename": "NameError",
     "evalue": "name 'saddj' is not defined",
     "output_type": "error",
     "traceback": [
      "\u001b[0;31m---------------------------------------------------------------------------\u001b[0m",
      "\u001b[0;31mNameError\u001b[0m                                 Traceback (most recent call last)",
      "Cell \u001b[0;32mIn[9], line 1\u001b[0m\n\u001b[0;32m----> 1\u001b[0m \u001b[38;5;28mint\u001b[39m(\u001b[43msaddj\u001b[49m)\n",
      "\u001b[0;31mNameError\u001b[0m: name 'saddj' is not defined"
     ]
    }
   ],
   "source": [
    "int(saddj)"
   ]
  },
  {
   "cell_type": "code",
   "execution_count": 10,
   "id": "d639a427-3d64-4926-992e-fd95b65c7cf7",
   "metadata": {},
   "outputs": [
    {
     "name": "stdout",
     "output_type": "stream",
     "text": [
      "hello world\n"
     ]
    }
   ],
   "source": [
    "print(\"hello world\")"
   ]
  },
  {
   "cell_type": "code",
   "execution_count": 11,
   "id": "abbd8341-6c61-4274-9124-7c09010bd030",
   "metadata": {},
   "outputs": [
    {
     "name": "stdout",
     "output_type": "stream",
     "text": [
      "Hello world\n"
     ]
    }
   ],
   "source": [
    "print('Hello world')"
   ]
  },
  {
   "cell_type": "code",
   "execution_count": 12,
   "id": "664ef878-a7bf-4134-908f-18c5e0b0578c",
   "metadata": {},
   "outputs": [
    {
     "name": "stdout",
     "output_type": "stream",
     "text": [
      "123\n"
     ]
    }
   ],
   "source": [
    "print('123')"
   ]
  },
  {
   "cell_type": "code",
   "execution_count": 13,
   "id": "0c38af5f-136f-49de-9dc1-eeff07abade3",
   "metadata": {},
   "outputs": [
    {
     "name": "stdout",
     "output_type": "stream",
     "text": [
      "123\n"
     ]
    }
   ],
   "source": [
    "print(123)"
   ]
  },
  {
   "cell_type": "code",
   "execution_count": 14,
   "id": "188ee031-5be5-451b-b069-404641a80806",
   "metadata": {},
   "outputs": [
    {
     "name": "stdout",
     "output_type": "stream",
     "text": [
      "My age is: 32\n"
     ]
    }
   ],
   "source": [
    "age=32\n",
    "print('My age is:',age )"
   ]
  },
  {
   "cell_type": "code",
   "execution_count": 15,
   "id": "eacf0c79-8c69-41ca-8ea3-afc688901c72",
   "metadata": {},
   "outputs": [
    {
     "name": "stdout",
     "output_type": "stream",
     "text": [
      "My age is: {age}\n"
     ]
    }
   ],
   "source": [
    "print(\"My age is: {age}\")"
   ]
  },
  {
   "cell_type": "code",
   "execution_count": 16,
   "id": "a916d05c-d5a8-4cb5-b58d-220dfed63895",
   "metadata": {},
   "outputs": [
    {
     "name": "stdout",
     "output_type": "stream",
     "text": [
      "My age is:32\n"
     ]
    }
   ],
   "source": [
    "## f string used for the formating(to execute age)\n",
    "print(f\"My age is:{age}\")"
   ]
  },
  {
   "cell_type": "code",
   "execution_count": 17,
   "id": "3058c8c1-8c84-4083-bfc1-95adccc38ad9",
   "metadata": {},
   "outputs": [
    {
     "name": "stdout",
     "output_type": "stream",
     "text": [
      "my name is sagar and age is 23\n"
     ]
    }
   ],
   "source": [
    "## format()\n",
    "name=\"sagar\"\n",
    "age=23\n",
    "print(\"my name is {} and age is {}\".format(name,age))"
   ]
  },
  {
   "cell_type": "code",
   "execution_count": 18,
   "id": "214f697f-fefb-4cd1-8973-bf71889f6956",
   "metadata": {},
   "outputs": [
    {
     "name": "stdout",
     "output_type": "stream",
     "text": [
      "my name is 23 and age is sagar\n"
     ]
    }
   ],
   "source": [
    "print(\"my name is {} and age is {}\".format(age,name))"
   ]
  },
  {
   "cell_type": "code",
   "execution_count": 19,
   "id": "0f53194d-9c70-41a1-8391-b0f53a18a4df",
   "metadata": {},
   "outputs": [
    {
     "name": "stdout",
     "output_type": "stream",
     "text": [
      "my name is sagar and age is 23\n"
     ]
    }
   ],
   "source": [
    "##placeholder\n",
    "print(\"my name is {firstname} and age is {firstage}\".format(firstage=age,firstname= name))"
   ]
  },
  {
   "cell_type": "code",
   "execution_count": 20,
   "id": "c482f7ae-e42a-453a-a3ca-2e273c297687",
   "metadata": {},
   "outputs": [
    {
     "data": {
      "text/plain": [
       "'my age is 23 and i have completed my degree of bsc in cbz and postgraduate in msc gis with the name of sagar'"
      ]
     },
     "execution_count": 20,
     "metadata": {},
     "output_type": "execute_result"
    }
   ],
   "source": [
    "name=\"sagar\"\n",
    "age=23\n",
    "degree=\"bsc in cbz\"\n",
    "postgraduate=\"msc gis\"\n",
    "\"my age is 23 and i have completed my degree of bsc in cbz and postgraduate in msc gis with the name of sagar\""
   ]
  },
  {
   "cell_type": "code",
   "execution_count": 21,
   "id": "e3506498-64cd-4b52-9a1e-ca2390d73f4f",
   "metadata": {},
   "outputs": [
    {
     "name": "stdout",
     "output_type": "stream",
     "text": [
      "my age is 23 and my degree bsc in cbz and my postgraduate msc gis with the name of sagar\n"
     ]
    }
   ],
   "source": [
    "print(\"my age is {} and my degree {} and my postgraduate {} with the name of {}\".format(age,degree,postgraduate,name))"
   ]
  },
  {
   "cell_type": "code",
   "execution_count": 22,
   "id": "f9383982-601e-4482-b947-bf21d3507498",
   "metadata": {},
   "outputs": [
    {
     "name": "stdout",
     "output_type": "stream",
     "text": [
      "my age is 23\n",
      "and i have completed \n",
      "my degree in bsc in cbz \n",
      "and postgraduation in msc gis \n",
      "with the name sagar\n"
     ]
    }
   ],
   "source": [
    "print(f\"my age is {age}\\nand i have completed \\nmy degree in {degree} \\nand postgraduation in {postgraduate} \\nwith the name {name}\")"
   ]
  },
  {
   "cell_type": "code",
   "execution_count": 23,
   "id": "904b8fa2-1983-401b-8e9e-54d5d3bfb035",
   "metadata": {},
   "outputs": [],
   "source": [
    "##control flow\n",
    "##decision making statement"
   ]
  },
  {
   "cell_type": "code",
   "execution_count": 24,
   "id": "50c9f49f-db60-4d11-b04c-9c5dac2cf82b",
   "metadata": {},
   "outputs": [
    {
     "name": "stdout",
     "output_type": "stream",
     "text": [
      "you are elegible to voting\n"
     ]
    }
   ],
   "source": [
    "## If statements\n",
    "age=18\n",
    "if age >=18:\n",
    "    print(\"you are elegible to voting\")"
   ]
  },
  {
   "cell_type": "code",
   "execution_count": 25,
   "id": "24e5fb10-d819-4e5c-b583-b24417296b28",
   "metadata": {},
   "outputs": [
    {
     "name": "stdout",
     "output_type": "stream",
     "text": [
      "You are not elegible to voting\n"
     ]
    }
   ],
   "source": [
    "## if statement\n",
    "age =17\n",
    "if age < 18 :\n",
    "    print(\"You are not elegible to voting\")"
   ]
  },
  {
   "cell_type": "code",
   "execution_count": 26,
   "id": "c5d0ef24-8aa1-4350-85ed-4274d7db77e5",
   "metadata": {},
   "outputs": [
    {
     "data": {
      "text/plain": [
       "True"
      ]
     },
     "execution_count": 26,
     "metadata": {},
     "output_type": "execute_result"
    }
   ],
   "source": [
    "18<=18"
   ]
  },
  {
   "cell_type": "code",
   "execution_count": 1,
   "id": "9ecb9f22-b15e-4d9c-b3e2-47ffbe56a0ac",
   "metadata": {},
   "outputs": [
    {
     "name": "stdin",
     "output_type": "stream",
     "text": [
      "Enter the name sagar\n"
     ]
    }
   ],
   "source": [
    "name=input(\"Enter the name\")"
   ]
  },
  {
   "cell_type": "code",
   "execution_count": 2,
   "id": "76f8e2b8-3f12-4f7c-aaa2-39da074d721e",
   "metadata": {},
   "outputs": [
    {
     "data": {
      "text/plain": [
       "'sagar'"
      ]
     },
     "execution_count": 2,
     "metadata": {},
     "output_type": "execute_result"
    }
   ],
   "source": [
    "name"
   ]
  },
  {
   "cell_type": "code",
   "execution_count": 6,
   "id": "5d3dfc5a-df21-4b9c-be47-486cdeb4e218",
   "metadata": {},
   "outputs": [
    {
     "data": {
      "text/plain": [
       "str"
      ]
     },
     "execution_count": 6,
     "metadata": {},
     "output_type": "execute_result"
    }
   ],
   "source": [
    "type(name)"
   ]
  },
  {
   "cell_type": "code",
   "execution_count": 3,
   "id": "465bb112-05ef-4db9-b4e0-e4f9b95be51b",
   "metadata": {},
   "outputs": [
    {
     "name": "stdin",
     "output_type": "stream",
     "text": [
      "enter your age 23\n"
     ]
    }
   ],
   "source": [
    "age=int(input(\"enter your age\"))"
   ]
  },
  {
   "cell_type": "code",
   "execution_count": 4,
   "id": "cdc66ec0-90cd-43c5-a87e-e0dae84ab1df",
   "metadata": {},
   "outputs": [
    {
     "data": {
      "text/plain": [
       "23"
      ]
     },
     "execution_count": 4,
     "metadata": {},
     "output_type": "execute_result"
    }
   ],
   "source": [
    "age"
   ]
  },
  {
   "cell_type": "code",
   "execution_count": 5,
   "id": "f021de5f-6c2b-4387-9890-2d9fbfc46a47",
   "metadata": {},
   "outputs": [
    {
     "data": {
      "text/plain": [
       "int"
      ]
     },
     "execution_count": 5,
     "metadata": {},
     "output_type": "execute_result"
    }
   ],
   "source": [
    "type(age)"
   ]
  },
  {
   "cell_type": "code",
   "execution_count": 7,
   "id": "71e8bdee-cb1d-4ca9-a121-fb6d0ec29569",
   "metadata": {},
   "outputs": [],
   "source": [
    "## Task\n",
    "## Take a input of age\n",
    "## Check whether ae >=18 and age<=45\n",
    "## Display a message you are young blood "
   ]
  },
  {
   "cell_type": "code",
   "execution_count": 10,
   "id": "70af2882-19c9-41b8-ac37-4fb0f5cf10ab",
   "metadata": {},
   "outputs": [],
   "source": [
    "age=23"
   ]
  },
  {
   "cell_type": "code",
   "execution_count": 11,
   "id": "d642a661-d95a-4d9a-a74b-e998d48c6e24",
   "metadata": {},
   "outputs": [
    {
     "data": {
      "text/plain": [
       "int"
      ]
     },
     "execution_count": 11,
     "metadata": {},
     "output_type": "execute_result"
    }
   ],
   "source": [
    "type(age)"
   ]
  },
  {
   "cell_type": "code",
   "execution_count": 12,
   "id": "f823ba5c-4bc6-4ea6-8962-c6d29c055a63",
   "metadata": {},
   "outputs": [
    {
     "data": {
      "text/plain": [
       "23"
      ]
     },
     "execution_count": 12,
     "metadata": {},
     "output_type": "execute_result"
    }
   ],
   "source": [
    "age"
   ]
  },
  {
   "cell_type": "code",
   "execution_count": 16,
   "id": "23431ca2-60f4-4dec-8e4a-a374dff190bd",
   "metadata": {},
   "outputs": [
    {
     "name": "stdout",
     "output_type": "stream",
     "text": [
      "then you are young blood\n"
     ]
    }
   ],
   "source": [
    "if age >=18 :\n",
    "    print(\"then you are young blood\")"
   ]
  },
  {
   "cell_type": "code",
   "execution_count": 22,
   "id": "261053a8-8d43-492f-9367-1634743ef93d",
   "metadata": {},
   "outputs": [
    {
     "name": "stdout",
     "output_type": "stream",
     "text": [
      "then you are not young blood\n"
     ]
    }
   ],
   "source": [
    "if age <=45:\n",
    "    print(\"then you are not young blood\")"
   ]
  },
  {
   "cell_type": "code",
   "execution_count": 23,
   "id": "8d9be626-99e6-45d9-8035-dc9e71d7ab59",
   "metadata": {},
   "outputs": [
    {
     "data": {
      "text/plain": [
       "False"
      ]
     },
     "execution_count": 23,
     "metadata": {},
     "output_type": "execute_result"
    }
   ],
   "source": [
    "True and False"
   ]
  },
  {
   "cell_type": "code",
   "execution_count": 30,
   "id": "7ce5f940-866a-41be-b5c3-a44d3b7bfcba",
   "metadata": {},
   "outputs": [
    {
     "name": "stdin",
     "output_type": "stream",
     "text": [
      "enter your age 23\n"
     ]
    },
    {
     "name": "stdout",
     "output_type": "stream",
     "text": [
      "you are young blood\n"
     ]
    }
   ],
   "source": [
    "age=int(input(\"enter your age\"))\n",
    "if age>=18 and age<=45:\n",
    "    print(\"you are young blood\")"
   ]
  },
  {
   "cell_type": "code",
   "execution_count": 40,
   "id": "2b0c3c4e-03de-4afe-b0dd-c17c837c7c93",
   "metadata": {},
   "outputs": [
    {
     "data": {
      "text/plain": [
       "True"
      ]
     },
     "execution_count": 40,
     "metadata": {},
     "output_type": "execute_result"
    }
   ],
   "source": [
    "23>=18 and 23<=45"
   ]
  },
  {
   "cell_type": "code",
   "execution_count": 46,
   "id": "7e604bc1-5691-41f7-9d28-2fe01e082e68",
   "metadata": {},
   "outputs": [
    {
     "name": "stdin",
     "output_type": "stream",
     "text": [
      "enter your age 17\n"
     ]
    }
   ],
   "source": [
    "age=int(input(\"enter your age\"))\n",
    "if age>=18 and age<=45:\n",
    "    print(\"you are young blood\")"
   ]
  },
  {
   "cell_type": "code",
   "execution_count": 43,
   "id": "fce7997b-f78d-4d1b-aafc-ddac3a09c437",
   "metadata": {},
   "outputs": [
    {
     "data": {
      "text/plain": [
       "False"
      ]
     },
     "execution_count": 43,
     "metadata": {},
     "output_type": "execute_result"
    }
   ],
   "source": [
    "17>=23 and 23<=45"
   ]
  },
  {
   "cell_type": "code",
   "execution_count": 47,
   "id": "80c5c7fb-2223-4d54-acd6-c26c65380832",
   "metadata": {},
   "outputs": [
    {
     "name": "stdin",
     "output_type": "stream",
     "text": [
      "enter your age 55\n"
     ]
    }
   ],
   "source": [
    "age=int(input(\"enter your age\"))\n",
    "if age>=18 and age<= 45:\n",
    "    print(\"you are young blood\")"
   ]
  },
  {
   "cell_type": "code",
   "execution_count": 1,
   "id": "0072dae0-400f-441d-93fc-91db9e895b8c",
   "metadata": {},
   "outputs": [
    {
     "name": "stdin",
     "output_type": "stream",
     "text": [
      "enter your age 56\n"
     ]
    },
    {
     "name": "stdout",
     "output_type": "stream",
     "text": [
      "thank you your we will let you know\n"
     ]
    }
   ],
   "source": [
    "## if else statement\n",
    "\n",
    "age=int(input(\"enter your age\"))\n",
    "if age>=18 and age <=45:\n",
    "    print(\"you are young blood\")\n",
    "else:\n",
    "    print(\"thank you your we will let you know\")\n"
   ]
  },
  {
   "cell_type": "code",
   "execution_count": null,
   "id": "26fb7ff7-c363-4876-93b2-15cd97532d2c",
   "metadata": {},
   "outputs": [],
   "source": [
    "## Mall- input the product price \n",
    "## Product >1000 rs 20% off\n",
    "## Print the product price\n",
    "## Product <=1000 rs 30% off\n",
    "##print the product price after after removing the discount\n"
   ]
  },
  {
   "cell_type": "code",
   "execution_count": 10,
   "id": "ed4c044c-3e36-400d-9508-bb06066153e6",
   "metadata": {},
   "outputs": [
    {
     "name": "stdin",
     "output_type": "stream",
     "text": [
      "enter the price 5000\n"
     ]
    },
    {
     "name": "stdout",
     "output_type": "stream",
     "text": [
      "the price of the product is 4000.0\n"
     ]
    }
   ],
   "source": [
    "product_price=int(input(\"enter the price\"))\n",
    "if product_price>1000:\n",
    "    print(\"the price of the product is {}\".format(product_price*0.8))\n",
    "else:\n",
    "    print(\"the price of the product is {}\".format(product_price*0.7))"
   ]
  },
  {
   "cell_type": "code",
   "execution_count": 8,
   "id": "f9838968-dae1-4c16-a024-e1fac4484c17",
   "metadata": {},
   "outputs": [
    {
     "data": {
      "text/plain": [
       "(80, 70)"
      ]
     },
     "execution_count": 8,
     "metadata": {},
     "output_type": "execute_result"
    }
   ],
   "source": [
    "100-20,100-30"
   ]
  },
  {
   "cell_type": "code",
   "execution_count": 9,
   "id": "20164d26-36b4-4f75-b9ca-b4958533835e",
   "metadata": {},
   "outputs": [
    {
     "data": {
      "text/plain": [
       "(0.8, 0.7)"
      ]
     },
     "execution_count": 9,
     "metadata": {},
     "output_type": "execute_result"
    }
   ],
   "source": [
    "(80/100),(70/100)"
   ]
  },
  {
   "cell_type": "code",
   "execution_count": 11,
   "id": "06220ee1-8d76-4fad-9bb2-a8845f930e3a",
   "metadata": {},
   "outputs": [
    {
     "data": {
      "text/plain": [
       "1000.0"
      ]
     },
     "execution_count": 11,
     "metadata": {},
     "output_type": "execute_result"
    }
   ],
   "source": [
    "(20/100)*5000"
   ]
  },
  {
   "cell_type": "code",
   "execution_count": 12,
   "id": "fd003526-8b30-4d26-8fea-1f99a6a33b30",
   "metadata": {},
   "outputs": [
    {
     "name": "stdin",
     "output_type": "stream",
     "text": [
      "enter the price 10\n"
     ]
    },
    {
     "name": "stdout",
     "output_type": "stream",
     "text": [
      "the price of the product is 7.0\n"
     ]
    }
   ],
   "source": [
    "product_price=int(input(\"enter the price\"))\n",
    "if product_price>1000:\n",
    "    print(\"the price of the product is {}\".format(product_price*0.8))\n",
    "else:\n",
    "    print(\"the price of the product is {}\".format(product_price*0.7))"
   ]
  },
  {
   "cell_type": "code",
   "execution_count": 13,
   "id": "5b71ce6a-2528-44af-888d-aa12c0a7bf71",
   "metadata": {},
   "outputs": [
    {
     "data": {
      "text/plain": [
       "1000"
      ]
     },
     "execution_count": 13,
     "metadata": {},
     "output_type": "execute_result"
    }
   ],
   "source": [
    "int((20/100)*5000)"
   ]
  },
  {
   "cell_type": "code",
   "execution_count": 14,
   "id": "d901212a-397d-4e1d-a962-f3d078e0ed44",
   "metadata": {},
   "outputs": [
    {
     "name": "stdin",
     "output_type": "stream",
     "text": [
      "enter the price 5000\n"
     ]
    },
    {
     "name": "stdout",
     "output_type": "stream",
     "text": [
      "the price of the product is 4000.0\n"
     ]
    }
   ],
   "source": [
    "product_price=int(input(\"enter the price\"))\n",
    "if product_price>1000:\n",
    "    print(f\"the price of the product is {product_price*0.8}\")\n",
    "else:\n",
    "    print(\"the price of the product is {product_price*0.7}\")"
   ]
  },
  {
   "cell_type": "code",
   "execution_count": 15,
   "id": "0ada09fa-7504-4745-8fe4-c8f594aa792e",
   "metadata": {},
   "outputs": [],
   "source": [
    "## Mall- input the product price \n",
    "## Product >3000 rs 20% off\n",
    "## print the product price after after removing the discount\n",
    "## product >=2000 rs and <=3000 30% off \n",
    "## Print the product price after removing the discount\n",
    "## Product <=1000 rs 30% off\n",
    "##print the product price after after removing the discount\n"
   ]
  },
  {
   "cell_type": "code",
   "execution_count": 17,
   "id": "9b1b06f7-bfb1-4277-b9e5-8e45ec457dbb",
   "metadata": {},
   "outputs": [
    {
     "name": "stdin",
     "output_type": "stream",
     "text": [
      "enter the price 5000\n"
     ]
    },
    {
     "name": "stdout",
     "output_type": "stream",
     "text": [
      "the price of the product is 4000.0\n"
     ]
    }
   ],
   "source": [
    "product_price=int(input(\"enter the price\"))\n",
    "if product_price>3000:\n",
    "    print(f\"the price of the product is {product_price*0.8}\")\n",
    "elif product_price>=2000 and product_price<=3000:\n",
    "    print(f\"the price of the product is {product_price*0.7}\")\n",
    "else:\n",
    "    print(\"the price of the product is {}\".format(product_price*0.6))"
   ]
  },
  {
   "cell_type": "code",
   "execution_count": 18,
   "id": "306b0382-e47f-41e9-994f-b72f7d2ac393",
   "metadata": {},
   "outputs": [
    {
     "name": "stdin",
     "output_type": "stream",
     "text": [
      "enter the price 55\n"
     ]
    },
    {
     "name": "stdout",
     "output_type": "stream",
     "text": [
      "lets drink tea\n"
     ]
    }
   ],
   "source": [
    "product_price=int(input(\"enter the price\"))\n",
    "if product_price>3000:\n",
    "    print(f\"the price of the product is {product_price*0.8}\")\n",
    "elif product_price>=2000 and product_price<=3000:\n",
    "    print(f\"the price of the product is {product_price*0.7}\")\n",
    "elif product_price>=100 and product_price<=2000:\n",
    "    print(f\"The price of the product is {product_price*0.6}\")\n",
    "else:\n",
    "    print(\"lets drink tea\")"
   ]
  },
  {
   "cell_type": "code",
   "execution_count": null,
   "id": "a0890d4e-cfd7-4312-9256-7352da2aa410",
   "metadata": {},
   "outputs": [],
   "source": [
    "## Mall- input the product price \n",
    "## Product >3000 rs 20% off\n",
    "## print the product price after after removing the discount\n",
    "## product >=2000 rs and <=3000 30% off \n",
    "## Print the product price after removing the discount\n",
    "## price ==2999 u will get additional gift\n",
    "## Product <=1000 rs 30% off\n",
    "## print the product price after after removing the discount"
   ]
  },
  {
   "cell_type": "code",
   "execution_count": 19,
   "id": "fac7a9a5-b41b-4dfd-9d00-90ba7667aaf5",
   "metadata": {},
   "outputs": [
    {
     "name": "stdin",
     "output_type": "stream",
     "text": [
      "enter the price 2999\n"
     ]
    },
    {
     "name": "stdout",
     "output_type": "stream",
     "text": [
      "congratulations you will get an additional gift\n",
      "the price of the product is 2099.2999999999997\n"
     ]
    }
   ],
   "source": [
    "product_price=int(input(\"enter the price\"))\n",
    "if product_price>3000:\n",
    "    print(f\"the price of the product is {product_price*0.8}\")\n",
    "elif product_price>=2000 and product_price<=3000:\n",
    "    if product_price==2999:\n",
    "        print(\"congratulations you will get an additional gift\")\n",
    "    print(f\"the price of the product is {product_price*0.7}\")\n",
    "elif product_price>=100 and product_price<=2000:\n",
    "    print(f\"The price of the product is {product_price*0.6}\")\n",
    "else:\n",
    "    print(\"lets drink tea\")"
   ]
  },
  {
   "cell_type": "code",
   "execution_count": null,
   "id": "8fef6262-82cc-4b3b-87ba-f7880f5ce8f3",
   "metadata": {},
   "outputs": [],
   "source": [
    "## Mall- input the product price \n",
    "## Product >3000 rs 20% off\n",
    "## price is ==4000 you will get a trip to goa\n",
    "## print the product price after after removing the discount\n",
    "## product >=2000 rs and <=3000 30% off \n",
    "## Print the product price after removing the discount\n",
    "## price ==2999 u will get additional gift\n",
    "## Product <=1000 rs 30% off\n",
    "## print the product price after after removing the discount"
   ]
  },
  {
   "cell_type": "code",
   "execution_count": 21,
   "id": "bc2e2afc-242e-49a9-ac8b-111a566731de",
   "metadata": {},
   "outputs": [
    {
     "name": "stdin",
     "output_type": "stream",
     "text": [
      "enter the price 50\n"
     ]
    },
    {
     "name": "stdout",
     "output_type": "stream",
     "text": [
      "lets drink tea\n",
      "i will also be there\n"
     ]
    }
   ],
   "source": [
    "product_price=int(input(\"enter the price\"))\n",
    "if product_price>3000:\n",
    "    if product_price==4000:\n",
    "        print(\"congratulation you get a goa trip\")\n",
    "    print(f\"the price of the product is {product_price*0.8}\")\n",
    "elif product_price>=2000 and product_price<=3000:\n",
    "    if product_price==2999:\n",
    "        print(\"congratulations you will get an additional gift\")\n",
    "    print(f\"the price of the product is {product_price*0.7}\")\n",
    "elif product_price>=100 and product_price<=2000:\n",
    "    print(f\"The price of the product is {product_price*0.6}\")\n",
    "else:\n",
    "    print(\"lets drink tea\")\n",
    "    print(\"i will also be there\")"
   ]
  },
  {
   "cell_type": "code",
   "execution_count": 22,
   "id": "4389eae6-d576-4e74-866c-1dadb722e0df",
   "metadata": {},
   "outputs": [
    {
     "data": {
      "text/plain": [
       "True"
      ]
     },
     "execution_count": 22,
     "metadata": {},
     "output_type": "execute_result"
    }
   ],
   "source": [
    "#comaparission operator\n",
    "True==True"
   ]
  },
  {
   "cell_type": "code",
   "execution_count": 3,
   "id": "aae8ca00-bb23-43be-84d1-e147c4a16805",
   "metadata": {},
   "outputs": [
    {
     "name": "stdin",
     "output_type": "stream",
     "text": [
      "enter the number 1000\n"
     ]
    },
    {
     "name": "stdout",
     "output_type": "stream",
     "text": [
      "Go home\n"
     ]
    }
   ],
   "source": [
    "## Single statement\n",
    "val=int(input('enter the number'))\n",
    "if(val<=999):print(\"value is less than equal to 999\")\n",
    "else:\n",
    "    print('Go home')"
   ]
  },
  {
   "cell_type": "markdown",
   "id": "da0f87e4-6cc7-4c59-a319-66befd12bdc3",
   "metadata": {},
   "source": [
    "## Loops statements\n",
    "1. while loop\n",
    "2. for loop\n",
    "3. nested loop\n",
    "4. loop control(break,continue,pass)\n"
   ]
  },
  {
   "cell_type": "code",
   "execution_count": 7,
   "id": "a4488c39-f590-42c0-aedb-de72f1e7e35a",
   "metadata": {},
   "outputs": [
    {
     "name": "stdout",
     "output_type": "stream",
     "text": [
      "26\n",
      "27\n",
      "28\n",
      "29\n",
      "30\n",
      "31\n",
      "32\n",
      "33\n",
      "34\n",
      "35\n",
      "36\n",
      "37\n",
      "38\n",
      "39\n",
      "40\n",
      "41\n",
      "42\n",
      "43\n",
      "44\n",
      "45\n",
      "46\n",
      "47\n",
      "48\n",
      "49\n",
      "50\n",
      "51\n",
      "52\n",
      "53\n",
      "54\n",
      "55\n",
      "56\n",
      "57\n",
      "58\n",
      "59\n",
      "60\n",
      "61\n"
     ]
    }
   ],
   "source": [
    "# while lo0p\n",
    "joining_age=25\n",
    "while joining_age<=60:\n",
    "    joining_age=joining_age+1\n",
    "    print(joining_age)"
   ]
  },
  {
   "cell_type": "raw",
   "id": "50d55ad6-ceb5-423a-be2e-87e3fff7041c",
   "metadata": {},
   "source": [
    "i need not to put \"\" in print joining_age"
   ]
  },
  {
   "cell_type": "code",
   "execution_count": 8,
   "id": "bbeff14a-f44a-4c9a-992a-3adabe3061a4",
   "metadata": {},
   "outputs": [
    {
     "name": "stdout",
     "output_type": "stream",
     "text": [
      "26\n",
      "27\n",
      "28\n",
      "29\n",
      "30\n",
      "31\n",
      "32\n",
      "33\n",
      "34\n",
      "35\n",
      "36\n",
      "37\n",
      "38\n",
      "39\n",
      "40\n",
      "41\n",
      "42\n",
      "43\n",
      "44\n",
      "45\n",
      "46\n",
      "47\n",
      "48\n",
      "49\n",
      "50\n",
      "51\n",
      "52\n",
      "53\n",
      "54\n",
      "55\n",
      "56\n",
      "57\n",
      "58\n",
      "59\n",
      "60\n",
      "61\n",
      "Its time to retirement\n"
     ]
    }
   ],
   "source": [
    "joining_age=25\n",
    "while joining_age<=60:\n",
    "    joining_age=joining_age+1\n",
    "    print(joining_age)\n",
    "else:\n",
    "    print(\"Its time to retirement\")"
   ]
  },
  {
   "cell_type": "code",
   "execution_count": 13,
   "id": "2ada6385-d6b5-4e15-90ee-5f10e64e5266",
   "metadata": {},
   "outputs": [
    {
     "name": "stdout",
     "output_type": "stream",
     "text": [
      "1000\n",
      "900\n",
      "800\n",
      "700\n",
      "600\n",
      "500\n",
      "400\n",
      "300\n",
      "200\n",
      "100\n"
     ]
    }
   ],
   "source": [
    "## Atm machine with 1000 rs\n",
    "total_amount=1000\n",
    "while total_amount!=0:\n",
    "    print(total_amount)\n",
    "    total_amount=total_amount-100"
   ]
  },
  {
   "cell_type": "code",
   "execution_count": 16,
   "id": "9ad090a7-764f-4b84-8dd5-0b9aebbe37db",
   "metadata": {},
   "outputs": [
    {
     "name": "stdout",
     "output_type": "stream",
     "text": [
      "1000\n",
      "900\n",
      "800\n",
      "700\n",
      "600\n",
      "500\n",
      "400\n",
      "300\n",
      "200\n",
      "100\n",
      "Put more money bank people\n"
     ]
    }
   ],
   "source": [
    "total_amount=1000\n",
    "while total_amount!=0:\n",
    "    print(total_amount)\n",
    "    total_amount=total_amount-100\n",
    "else:\n",
    "    print(\"Put more money bank people\")"
   ]
  },
  {
   "cell_type": "markdown",
   "id": "a31d8c11-60e1-44e0-b2e1-5ef88c6b76f4",
   "metadata": {},
   "source": [
    "## For loop"
   ]
  },
  {
   "cell_type": "code",
   "execution_count": 17,
   "id": "49517468-e4e4-4ff4-8ad4-470fc7893ba0",
   "metadata": {},
   "outputs": [],
   "source": [
    "lst=[\"sagar\",1,2,3,4,5,\"apple\",\"banana\"]"
   ]
  },
  {
   "cell_type": "code",
   "execution_count": 19,
   "id": "1294171d-ce7d-499f-8378-c0d5a1d04a98",
   "metadata": {},
   "outputs": [
    {
     "data": {
      "text/plain": [
       "list"
      ]
     },
     "execution_count": 19,
     "metadata": {},
     "output_type": "execute_result"
    }
   ],
   "source": [
    "type(lst)"
   ]
  },
  {
   "cell_type": "code",
   "execution_count": 23,
   "id": "c3b0bf57-f6b5-4bbe-9cf2-8b3035ce201f",
   "metadata": {},
   "outputs": [
    {
     "data": {
      "text/plain": [
       "['sagar', 1, 2, 3, 4, 5, 'apple', 'banana']"
      ]
     },
     "execution_count": 23,
     "metadata": {},
     "output_type": "execute_result"
    }
   ],
   "source": [
    "lst"
   ]
  },
  {
   "cell_type": "code",
   "execution_count": 25,
   "id": "88cc4c8b-3398-4fed-b13e-23f82756a6d5",
   "metadata": {},
   "outputs": [
    {
     "data": {
      "text/plain": [
       "'sagar'"
      ]
     },
     "execution_count": 25,
     "metadata": {},
     "output_type": "execute_result"
    }
   ],
   "source": [
    "lst[0]"
   ]
  },
  {
   "cell_type": "code",
   "execution_count": 27,
   "id": "ab75dc50-2958-45a2-85ee-119a1a36cab6",
   "metadata": {},
   "outputs": [
    {
     "data": {
      "text/plain": [
       "'apple'"
      ]
     },
     "execution_count": 27,
     "metadata": {},
     "output_type": "execute_result"
    }
   ],
   "source": [
    "lst[6]"
   ]
  },
  {
   "cell_type": "code",
   "execution_count": 28,
   "id": "c178ac49-f34e-4bbe-b496-67e4464af36e",
   "metadata": {},
   "outputs": [
    {
     "name": "stdout",
     "output_type": "stream",
     "text": [
      "sagar\n",
      "1\n",
      "2\n",
      "3\n",
      "4\n",
      "5\n",
      "apple\n",
      "banana\n"
     ]
    }
   ],
   "source": [
    "for x in lst:\n",
    "    print(x)"
   ]
  },
  {
   "cell_type": "code",
   "execution_count": 40,
   "id": "6c6567af-35c7-480d-8aec-c08d946d12ed",
   "metadata": {},
   "outputs": [],
   "source": [
    "fruits_list = [\"Mango\",\"Cherry\",\"Apple\",\"Pappaya\",\"Banana\"]"
   ]
  },
  {
   "cell_type": "code",
   "execution_count": 41,
   "id": "c642fab4-b746-43c8-828f-4745ccc2e1ff",
   "metadata": {},
   "outputs": [
    {
     "name": "stdout",
     "output_type": "stream",
     "text": [
      "Mango\n",
      "Cherry\n",
      "Apple\n",
      "Pappaya\n",
      "Banana\n"
     ]
    }
   ],
   "source": [
    "for a in fruits_list:\n",
    "    print(a)"
   ]
  },
  {
   "cell_type": "code",
   "execution_count": 45,
   "id": "9d33cc47-f7c3-4675-867d-58b42c48bb2f",
   "metadata": {},
   "outputs": [
    {
     "name": "stdout",
     "output_type": "stream",
     "text": [
      "Mango\n",
      "Cherry\n",
      "The fruit is cherry\n",
      "Apple\n",
      "Pappaya\n",
      "Banana\n"
     ]
    }
   ],
   "source": [
    "for a in fruits_list:\n",
    "    print(a)\n",
    "    if a==\"Cherry\":\n",
    "        print(\"The fruit is cherry\")"
   ]
  },
  {
   "cell_type": "code",
   "execution_count": 47,
   "id": "e7d3e53d-cbb7-4409-a049-5474b63a1b6c",
   "metadata": {},
   "outputs": [
    {
     "name": "stdout",
     "output_type": "stream",
     "text": [
      "m\n",
      "a\n",
      "n\n",
      "g\n",
      "o\n"
     ]
    }
   ],
   "source": [
    "fruit='mango'\n",
    "for x in fruit:\n",
    "    print(x)"
   ]
  },
  {
   "cell_type": "code",
   "execution_count": 48,
   "id": "6ec15c33-e2fe-42b3-ab84-30f8a146ce27",
   "metadata": {},
   "outputs": [
    {
     "data": {
      "text/plain": [
       "'g'"
      ]
     },
     "execution_count": 48,
     "metadata": {},
     "output_type": "execute_result"
    }
   ],
   "source": [
    "fruit[3]"
   ]
  },
  {
   "cell_type": "code",
   "execution_count": 49,
   "id": "1526cbfd-9a69-4dac-9541-970f1d76d8cf",
   "metadata": {},
   "outputs": [
    {
     "data": {
      "text/plain": [
       "'m'"
      ]
     },
     "execution_count": 49,
     "metadata": {},
     "output_type": "execute_result"
    }
   ],
   "source": [
    "fruit[0]"
   ]
  },
  {
   "cell_type": "code",
   "execution_count": 51,
   "id": "1a4df961-b691-49cc-a5ea-33c4279e7bbc",
   "metadata": {},
   "outputs": [
    {
     "name": "stdout",
     "output_type": "stream",
     "text": [
      "mango"
     ]
    }
   ],
   "source": [
    "fruit='mango'\n",
    "for x in fruit:\n",
    "    print(x,end='')"
   ]
  },
  {
   "cell_type": "code",
   "execution_count": 58,
   "id": "95e42d58-7352-4734-b89d-7add4d166f88",
   "metadata": {},
   "outputs": [
    {
     "name": "stdout",
     "output_type": "stream",
     "text": [
      "mango"
     ]
    }
   ],
   "source": [
    "fruit='mango'\n",
    "for x in fruit:\n",
    "    print(x,end='')"
   ]
  },
  {
   "cell_type": "code",
   "execution_count": 59,
   "id": "2095da6c-5297-4ae7-9674-c4b8a8025112",
   "metadata": {},
   "outputs": [],
   "source": [
    "## nested loop\n",
    "n=7"
   ]
  },
  {
   "cell_type": "code",
   "execution_count": 60,
   "id": "a3b28ab7-8edc-48cb-9824-3bcdea451da2",
   "metadata": {},
   "outputs": [
    {
     "data": {
      "text/plain": [
       "range(1, 6)"
      ]
     },
     "execution_count": 60,
     "metadata": {},
     "output_type": "execute_result"
    }
   ],
   "source": [
    "range(1,6)"
   ]
  },
  {
   "cell_type": "code",
   "execution_count": 62,
   "id": "e3c1cd82-c879-4605-8fd2-808d03c1c4be",
   "metadata": {},
   "outputs": [
    {
     "name": "stdout",
     "output_type": "stream",
     "text": [
      "1\n",
      "2\n",
      "3\n",
      "4\n",
      "5\n"
     ]
    }
   ],
   "source": [
    "for i in range(1,6):\n",
    "    print(i)"
   ]
  },
  {
   "cell_type": "code",
   "execution_count": 63,
   "id": "3f67cb0a-09a7-4623-b6e5-6b66523a3d8b",
   "metadata": {},
   "outputs": [
    {
     "name": "stdout",
     "output_type": "stream",
     "text": [
      "1\n",
      "3\n",
      "5\n"
     ]
    }
   ],
   "source": [
    "for i in range(1,6,2):\n",
    "    print(i)"
   ]
  },
  {
   "cell_type": "code",
   "execution_count": 66,
   "id": "effc1104-cab3-4ab8-90d9-561c8f6f8d9d",
   "metadata": {},
   "outputs": [
    {
     "name": "stdout",
     "output_type": "stream",
     "text": [
      "****************************"
     ]
    }
   ],
   "source": [
    "## neted loos\n",
    "n=7\n",
    "    \n",
    "for i in range(0,n):\n",
    "    for j in range(0,i+1):\n",
    "        print(\"*\",end=\"\")"
   ]
  },
  {
   "cell_type": "code",
   "execution_count": 67,
   "id": "eaa3bcf9-5b72-4a9c-a32c-e0ba708a43f0",
   "metadata": {},
   "outputs": [
    {
     "name": "stdout",
     "output_type": "stream",
     "text": [
      "*\n",
      "*\n",
      "*\n",
      "*\n",
      "*\n",
      "*\n",
      "*\n",
      "*\n",
      "*\n",
      "*\n",
      "*\n",
      "*\n",
      "*\n",
      "*\n",
      "*\n",
      "*\n",
      "*\n",
      "*\n",
      "*\n",
      "*\n",
      "*\n",
      "*\n",
      "*\n",
      "*\n",
      "*\n",
      "*\n",
      "*\n",
      "*\n"
     ]
    }
   ],
   "source": [
    "for i in range(0,n):\n",
    "    for j in range(0,i+1):\n",
    "        print(\"*\")"
   ]
  },
  {
   "cell_type": "code",
   "execution_count": 68,
   "id": "960c55c6-73e2-4fd0-9851-ce4a8f826943",
   "metadata": {},
   "outputs": [
    {
     "name": "stdout",
     "output_type": "stream",
     "text": [
      "*\n",
      "**\n",
      "***\n",
      "****\n",
      "*****\n",
      "******\n",
      "*******\n"
     ]
    }
   ],
   "source": [
    "for i in range(0,n):\n",
    "    for j in range(0,i+1):\n",
    "        print(\"*\",end=\"\")\n",
    "    print(\"\\r\")"
   ]
  },
  {
   "cell_type": "raw",
   "id": "9facb899-d54d-4499-a787-b3e877ae00f9",
   "metadata": {},
   "source": [
    "if i dont enter backspace in 2nd print statement\n",
    "then it works on only first condition"
   ]
  },
  {
   "cell_type": "code",
   "execution_count": 139,
   "id": "b5312984-2975-4a49-bdf3-8ae666a2b35c",
   "metadata": {},
   "outputs": [
    {
     "name": "stdout",
     "output_type": "stream",
     "text": [
      "**\n",
      "****\n",
      "******\n",
      "********\n",
      "**********\n",
      "************\n",
      "**************\n"
     ]
    }
   ],
   "source": [
    "for i in range(0,n):\n",
    "    for j in range(0,i+1):\n",
    "        print(\"*\",end=\"\")\n",
    "    print(\"*\"+\"*\"*i)"
   ]
  },
  {
   "cell_type": "raw",
   "id": "142e6075-8d8d-4898-9615-643a27a3eea8",
   "metadata": {},
   "source": [
    "## Assignment\n",
    "## required output is \n",
    "    *\n",
    "   ***\n",
    "  *****\n",
    " ********\n",
    "for i in range(0,n):\n",
    "    for j in range(0,i+1):\n",
    "        print(\"*\",end=\"\")\n",
    "    print(\"\\\")"
   ]
  },
  {
   "cell_type": "code",
   "execution_count": 110,
   "id": "564a4854-9fde-4e0a-86cb-732cf6c77f0d",
   "metadata": {},
   "outputs": [],
   "source": [
    "##loop cotrols\n",
    "##Break and continue\n",
    "fruits_list=[\"Mango\",\"Cherry\",\"Apple\",\"Papaya\",\"Banana\"]\n"
   ]
  },
  {
   "cell_type": "code",
   "execution_count": 114,
   "id": "6853d421-78aa-45d2-aa98-2c79b3d225ca",
   "metadata": {},
   "outputs": [
    {
     "name": "stdout",
     "output_type": "stream",
     "text": [
      "Mango\n",
      "Cherry\n",
      "the fruit is apple\n"
     ]
    }
   ],
   "source": [
    "## Break\n",
    "for i in fruits_list:\n",
    "    if i==\"Apple\":\n",
    "        print(\"the fruit is apple\")\n",
    "        break\n",
    "    print(i)"
   ]
  },
  {
   "cell_type": "raw",
   "id": "f5361767-7c8a-42cf-9cf6-1184e7469011",
   "metadata": {},
   "source": [
    "here it pause the list what we have given \n",
    "by using condition"
   ]
  },
  {
   "cell_type": "code",
   "execution_count": 115,
   "id": "43d308a3-651d-4c62-9e12-887f1ed9a1c4",
   "metadata": {},
   "outputs": [
    {
     "name": "stdout",
     "output_type": "stream",
     "text": [
      "Mango\n",
      "Cherry\n",
      "the fruit is apple\n",
      "Apple\n",
      "Papaya\n",
      "Banana\n"
     ]
    }
   ],
   "source": [
    "## Pass\n",
    "for i in fruits_list:\n",
    "    if i==\"Apple\":\n",
    "        print(\"the fruit is apple\")\n",
    "        pass\n",
    "    print(i)"
   ]
  },
  {
   "cell_type": "raw",
   "id": "66cf7c0d-7d4f-44fc-ad0c-a63927c09d47",
   "metadata": {},
   "source": [
    "here it simply pass the list by entering the condition "
   ]
  },
  {
   "cell_type": "code",
   "execution_count": 116,
   "id": "db49f8bd-9f1a-4db2-bcd4-bce0c840b397",
   "metadata": {},
   "outputs": [
    {
     "name": "stdout",
     "output_type": "stream",
     "text": [
      "Mango\n",
      "Cherry\n",
      "the fruit is apple\n",
      "Papaya\n",
      "Banana\n"
     ]
    }
   ],
   "source": [
    "## Continue\n",
    "for i in fruits_list:\n",
    "    if i==\"Apple\":\n",
    "        print(\"the fruit is apple\")\n",
    "        continue\n",
    "    print(i)"
   ]
  },
  {
   "cell_type": "raw",
   "id": "c2874903-4e28-4453-9679-df4c9d24679c",
   "metadata": {},
   "source": [
    "here it skip the given data which we have given it to the condition "
   ]
  },
  {
   "cell_type": "code",
   "execution_count": null,
   "id": "ea6c7fd1-3a6d-47d7-b996-a378938b33ad",
   "metadata": {},
   "outputs": [],
   "source": []
  }
 ],
 "metadata": {
  "kernelspec": {
   "display_name": "Python 3 (ipykernel)",
   "language": "python",
   "name": "python3"
  },
  "language_info": {
   "codemirror_mode": {
    "name": "ipython",
    "version": 3
   },
   "file_extension": ".py",
   "mimetype": "text/x-python",
   "name": "python",
   "nbconvert_exporter": "python",
   "pygments_lexer": "ipython3",
   "version": "3.10.8"
  }
 },
 "nbformat": 4,
 "nbformat_minor": 5
}
