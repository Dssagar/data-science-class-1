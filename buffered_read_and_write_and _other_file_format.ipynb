{
 "cells": [
  {
   "cell_type": "code",
   "execution_count": 1,
   "id": "5b8777e6-abe1-4f18-8596-6e77e03ddaca",
   "metadata": {},
   "outputs": [],
   "source": [
    "import io"
   ]
  },
  {
   "cell_type": "code",
   "execution_count": 8,
   "id": "8e6b2784-8eba-46a0-94de-893826cc7af9",
   "metadata": {},
   "outputs": [],
   "source": [
    "with open(\"test.txt\",\"wb\")as f:\n",
    "    file=io.BufferedWriter(f)\n",
    "    file.write(b\"Web Development > Full Stack Web Development\\n Full stack Web Development Job Assurance Program Master\\n Full Stack Web Development with our MERN stack course.\\n Learn MongoDB, Express.js, React.js, and Node.js to create dynamic web applications.\\n Gain hands-on experience and build a strong foundation in full-stack development.\\n language-icon Language: English clock-icon Duration: 1 year\\n\")\n",
    "    file.write(b\"this is my second line that i am trying to write\") \n",
    "    file.flush() ## \\n to jump in to next line"
   ]
  },
  {
   "cell_type": "code",
   "execution_count": 13,
   "id": "20ca648e-aed9-4fb6-8853-2809ab44df45",
   "metadata": {},
   "outputs": [
    {
     "name": "stdout",
     "output_type": "stream",
     "text": [
      "b'Web Development > Full Stack Web Development\\n Full stack Web Development Job Assurance Program Master\\n Full Stack Web Development with our MERN stack course.\\n Learn MongoDB, Express.js, React.js, and Node.js to create dynamic web applications.\\n Gain hands-on experience and build a strong foundation in full-stack development.\\n language-icon Language: English clock-icon Duration: 1 year\\nthis is my second line that i am trying to write'\n"
     ]
    }
   ],
   "source": [
    "with open (\"test.txt\",\"rb\") as f :\n",
    "    file =io.BufferedReader(f)\n",
    "    data =file.read()\n",
    "    print(data)"
   ]
  },
  {
   "cell_type": "code",
   "execution_count": 14,
   "id": "070b9a05-1721-4994-bb93-f899ef6141e7",
   "metadata": {},
   "outputs": [
    {
     "name": "stdout",
     "output_type": "stream",
     "text": [
      "b'Web Develo'\n"
     ]
    }
   ],
   "source": [
    "with open (\"test.txt\",\"rb\") as f :\n",
    "    file =io.BufferedReader(f)\n",
    "    data =file.read(10)\n",
    "    print(data)"
   ]
  },
  {
   "cell_type": "code",
   "execution_count": null,
   "id": "9c2b38a6-e6be-4e80-8740-dd35f9f0e2cf",
   "metadata": {},
   "outputs": [],
   "source": []
  }
 ],
 "metadata": {
  "kernelspec": {
   "display_name": "Python 3 (ipykernel)",
   "language": "python",
   "name": "python3"
  },
  "language_info": {
   "codemirror_mode": {
    "name": "ipython",
    "version": 3
   },
   "file_extension": ".py",
   "mimetype": "text/x-python",
   "name": "python",
   "nbconvert_exporter": "python",
   "pygments_lexer": "ipython3",
   "version": "3.10.8"
  }
 },
 "nbformat": 4,
 "nbformat_minor": 5
}
