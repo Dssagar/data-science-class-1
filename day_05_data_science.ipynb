{
 "cells": [
  {
   "cell_type": "markdown",
   "id": "a34b1b93-7293-4c93-91c8-27a13e0a9a97",
   "metadata": {},
   "source": [
    "# tuple"
   ]
  },
  {
   "cell_type": "markdown",
   "id": "3710c38c-44b1-449d-922b-930e6ed0247b",
   "metadata": {},
   "source": [
    "### tuples are basically folllows immutability concepts where it is not going to allow to change any element at a perticular index"
   ]
  },
  {
   "cell_type": "code",
   "execution_count": 2,
   "id": "8880f14b-cbf8-4975-a09e-53eabbf84823",
   "metadata": {},
   "outputs": [],
   "source": [
    "t=()"
   ]
  },
  {
   "cell_type": "code",
   "execution_count": 3,
   "id": "8654e170-eb17-4bd5-b716-f1f5272421e5",
   "metadata": {},
   "outputs": [
    {
     "data": {
      "text/plain": [
       "tuple"
      ]
     },
     "execution_count": 3,
     "metadata": {},
     "output_type": "execute_result"
    }
   ],
   "source": [
    "type(t)"
   ]
  },
  {
   "cell_type": "code",
   "execution_count": 4,
   "id": "21df5d58-dc16-4529-a2bf-eac430e66854",
   "metadata": {},
   "outputs": [],
   "source": [
    "t1=(1,2,3,4,5,45.45,\"Sagar\",True)"
   ]
  },
  {
   "cell_type": "code",
   "execution_count": 5,
   "id": "21ac329e-8baa-4fc7-98df-a207fab8968d",
   "metadata": {},
   "outputs": [
    {
     "data": {
      "text/plain": [
       "tuple"
      ]
     },
     "execution_count": 5,
     "metadata": {},
     "output_type": "execute_result"
    }
   ],
   "source": [
    "type(t1)"
   ]
  },
  {
   "cell_type": "code",
   "execution_count": 6,
   "id": "05a2d70d-8f55-42fe-86c9-0a4e89e0aa67",
   "metadata": {},
   "outputs": [
    {
     "data": {
      "text/plain": [
       "(1, 2, 3, 4, 5, 45.45, 'Sagar', True)"
      ]
     },
     "execution_count": 6,
     "metadata": {},
     "output_type": "execute_result"
    }
   ],
   "source": [
    "t1"
   ]
  },
  {
   "cell_type": "code",
   "execution_count": 8,
   "id": "5e1d20ed-66c6-4337-b7cb-ff10f2d0599b",
   "metadata": {},
   "outputs": [],
   "source": [
    "l =[1,2,3,4,5]"
   ]
  },
  {
   "cell_type": "code",
   "execution_count": 9,
   "id": "43fe7cf8-0bb9-4b36-bfc3-a0a17dbf003c",
   "metadata": {},
   "outputs": [
    {
     "data": {
      "text/plain": [
       "[1, 2, 3, 4, 5]"
      ]
     },
     "execution_count": 9,
     "metadata": {},
     "output_type": "execute_result"
    }
   ],
   "source": [
    "l"
   ]
  },
  {
   "cell_type": "code",
   "execution_count": 10,
   "id": "9ccc7753-6e8c-436d-be46-c29c68d31a85",
   "metadata": {},
   "outputs": [
    {
     "data": {
      "text/plain": [
       "list"
      ]
     },
     "execution_count": 10,
     "metadata": {},
     "output_type": "execute_result"
    }
   ],
   "source": [
    "type(l)"
   ]
  },
  {
   "cell_type": "code",
   "execution_count": 11,
   "id": "d3471d30-aff0-4d23-9434-af8fcba40f5f",
   "metadata": {},
   "outputs": [
    {
     "data": {
      "text/plain": [
       "2"
      ]
     },
     "execution_count": 11,
     "metadata": {},
     "output_type": "execute_result"
    }
   ],
   "source": [
    "t1[1]"
   ]
  },
  {
   "cell_type": "code",
   "execution_count": 12,
   "id": "2436eeac-5a8c-4b75-bf8f-fadf20fff408",
   "metadata": {},
   "outputs": [
    {
     "data": {
      "text/plain": [
       "1"
      ]
     },
     "execution_count": 12,
     "metadata": {},
     "output_type": "execute_result"
    }
   ],
   "source": [
    "t1[0]"
   ]
  },
  {
   "cell_type": "code",
   "execution_count": 13,
   "id": "0a5d4aeb-5e00-49c2-a149-f6538a8d74fe",
   "metadata": {},
   "outputs": [
    {
     "ename": "IndexError",
     "evalue": "tuple index out of range",
     "output_type": "error",
     "traceback": [
      "\u001b[0;31m---------------------------------------------------------------------------\u001b[0m",
      "\u001b[0;31mIndexError\u001b[0m                                Traceback (most recent call last)",
      "Cell \u001b[0;32mIn[13], line 1\u001b[0m\n\u001b[0;32m----> 1\u001b[0m \u001b[43mt1\u001b[49m\u001b[43m[\u001b[49m\u001b[38;5;241;43m20\u001b[39;49m\u001b[43m]\u001b[49m\n",
      "\u001b[0;31mIndexError\u001b[0m: tuple index out of range"
     ]
    }
   ],
   "source": [
    "t1[20]"
   ]
  },
  {
   "cell_type": "code",
   "execution_count": 15,
   "id": "f8841e54-53d0-4983-90ef-f2366b56634c",
   "metadata": {},
   "outputs": [
    {
     "data": {
      "text/plain": [
       "True"
      ]
     },
     "execution_count": 15,
     "metadata": {},
     "output_type": "execute_result"
    }
   ],
   "source": [
    "t1[7]"
   ]
  },
  {
   "cell_type": "code",
   "execution_count": 18,
   "id": "987e3b6e-382e-4f9f-9c9a-a2b5377d6fe3",
   "metadata": {},
   "outputs": [
    {
     "data": {
      "text/plain": [
       "(True, 'Sagar', 45.45, 5, 4, 3, 2, 1)"
      ]
     },
     "execution_count": 18,
     "metadata": {},
     "output_type": "execute_result"
    }
   ],
   "source": [
    "t1[::-1] #reverse order"
   ]
  },
  {
   "cell_type": "code",
   "execution_count": 25,
   "id": "207511cf-1617-4dc8-b0ef-5fba80d2aa45",
   "metadata": {},
   "outputs": [],
   "source": [
    "t1=t1[::-1] #if I execute this then it will continue as a t1 "
   ]
  },
  {
   "cell_type": "code",
   "execution_count": 26,
   "id": "c41bafc6-67d1-4c68-ad2f-2f862eae7141",
   "metadata": {},
   "outputs": [
    {
     "data": {
      "text/plain": [
       "(True, 'Sagar', 45.45, 5, 4, 3, 2, 1)"
      ]
     },
     "execution_count": 26,
     "metadata": {},
     "output_type": "execute_result"
    }
   ],
   "source": [
    "t1"
   ]
  },
  {
   "cell_type": "code",
   "execution_count": 28,
   "id": "2020a8ca-e661-4530-9c00-1745a2f27c40",
   "metadata": {},
   "outputs": [
    {
     "data": {
      "text/plain": [
       "(True, 'Sagar', 45.45)"
      ]
     },
     "execution_count": 28,
     "metadata": {},
     "output_type": "execute_result"
    }
   ],
   "source": [
    "t1[0:3] #0 to 3 will extract from the tuple"
   ]
  },
  {
   "cell_type": "code",
   "execution_count": 30,
   "id": "66923105-8152-42e6-9538-df82d926ef74",
   "metadata": {},
   "outputs": [
    {
     "data": {
      "text/plain": [
       "(True, 'Sagar', 45.45, 5, 4)"
      ]
     },
     "execution_count": 30,
     "metadata": {},
     "output_type": "execute_result"
    }
   ],
   "source": [
    "t1[0:-3]"
   ]
  },
  {
   "cell_type": "code",
   "execution_count": 43,
   "id": "c8ebcb35-af82-4ef3-b3cf-1bc39980a13e",
   "metadata": {},
   "outputs": [
    {
     "data": {
      "text/plain": [
       "(True, 'Sagar', 45.45, 5, 4, 3, 2, 1)"
      ]
     },
     "execution_count": 43,
     "metadata": {},
     "output_type": "execute_result"
    }
   ],
   "source": [
    "t1"
   ]
  },
  {
   "cell_type": "code",
   "execution_count": 45,
   "id": "5b6f585a-877a-4ff4-aa52-5d87a9b66faa",
   "metadata": {},
   "outputs": [
    {
     "data": {
      "text/plain": [
       "1"
      ]
     },
     "execution_count": 45,
     "metadata": {},
     "output_type": "execute_result"
    }
   ],
   "source": [
    "t1.count(4)"
   ]
  },
  {
   "cell_type": "code",
   "execution_count": 50,
   "id": "8b8e7dc7-e38c-479f-b595-dc308ca9ec9d",
   "metadata": {},
   "outputs": [
    {
     "data": {
      "text/plain": [
       "1"
      ]
     },
     "execution_count": 50,
     "metadata": {},
     "output_type": "execute_result"
    }
   ],
   "source": [
    "t1.count(\"Sagar\")"
   ]
  },
  {
   "cell_type": "code",
   "execution_count": 51,
   "id": "d7d294fc-14f7-444c-9ad3-b178768d83e6",
   "metadata": {},
   "outputs": [
    {
     "data": {
      "text/plain": [
       "0"
      ]
     },
     "execution_count": 51,
     "metadata": {},
     "output_type": "execute_result"
    }
   ],
   "source": [
    "t1.index(1)"
   ]
  },
  {
   "cell_type": "code",
   "execution_count": 52,
   "id": "17a15a95-6fa5-4842-b260-148a988a2e64",
   "metadata": {},
   "outputs": [
    {
     "data": {
      "text/plain": [
       "1"
      ]
     },
     "execution_count": 52,
     "metadata": {},
     "output_type": "execute_result"
    }
   ],
   "source": [
    "t1.index(\"Sagar\")"
   ]
  },
  {
   "cell_type": "code",
   "execution_count": 53,
   "id": "3ec9d98d-fcaf-48dc-b60a-88dda6fbe145",
   "metadata": {},
   "outputs": [
    {
     "data": {
      "text/plain": [
       "2"
      ]
     },
     "execution_count": 53,
     "metadata": {},
     "output_type": "execute_result"
    }
   ],
   "source": [
    "t1.index(45.45)"
   ]
  },
  {
   "cell_type": "code",
   "execution_count": 54,
   "id": "1d1fcd4a-dd56-4a11-9dca-2ebce33d4a58",
   "metadata": {},
   "outputs": [
    {
     "data": {
      "text/plain": [
       "(True, 'Sagar', 45.45, 5, 4, 3, 2, 1)"
      ]
     },
     "execution_count": 54,
     "metadata": {},
     "output_type": "execute_result"
    }
   ],
   "source": [
    "t1"
   ]
  },
  {
   "cell_type": "code",
   "execution_count": 55,
   "id": "37a81496-2191-4bf7-93a6-1c8cd0dc5b26",
   "metadata": {},
   "outputs": [
    {
     "data": {
      "text/plain": [
       "[1, 2, 3, 4, 5]"
      ]
     },
     "execution_count": 55,
     "metadata": {},
     "output_type": "execute_result"
    }
   ],
   "source": [
    "l"
   ]
  },
  {
   "cell_type": "code",
   "execution_count": 57,
   "id": "6620b469-c343-4fdb-8ac3-d9beedda653f",
   "metadata": {},
   "outputs": [
    {
     "data": {
      "text/plain": [
       "1"
      ]
     },
     "execution_count": 57,
     "metadata": {},
     "output_type": "execute_result"
    }
   ],
   "source": [
    "l[0] # extracting from the ;ist"
   ]
  },
  {
   "cell_type": "code",
   "execution_count": 58,
   "id": "3f107f3e-d704-4b88-b174-45ae5eb00a70",
   "metadata": {},
   "outputs": [
    {
     "data": {
      "text/plain": [
       "45.45"
      ]
     },
     "execution_count": 58,
     "metadata": {},
     "output_type": "execute_result"
    }
   ],
   "source": [
    "t1[2]"
   ]
  },
  {
   "cell_type": "code",
   "execution_count": 59,
   "id": "01c2d145-3c6b-43a4-a1db-499be5ca6563",
   "metadata": {},
   "outputs": [
    {
     "data": {
      "text/plain": [
       "5"
      ]
     },
     "execution_count": 59,
     "metadata": {},
     "output_type": "execute_result"
    }
   ],
   "source": [
    "l[4]"
   ]
  },
  {
   "cell_type": "code",
   "execution_count": 63,
   "id": "c97edb48-4d51-4965-9de2-abc55c78532c",
   "metadata": {},
   "outputs": [
    {
     "name": "stdout",
     "output_type": "stream",
     "text": [
      "True\n",
      "Sagar\n",
      "45.45\n",
      "5\n",
      "4\n",
      "3\n",
      "2\n",
      "1\n"
     ]
    }
   ],
   "source": [
    "for i in t1:\n",
    "    print(i)"
   ]
  },
  {
   "cell_type": "code",
   "execution_count": 65,
   "id": "b4a8952f-5815-4b11-a7c7-b47d853a30e0",
   "metadata": {},
   "outputs": [
    {
     "name": "stdout",
     "output_type": "stream",
     "text": [
      "True <class 'bool'>\n",
      "Sagar <class 'str'>\n",
      "45.45 <class 'float'>\n",
      "5 <class 'int'>\n",
      "4 <class 'int'>\n",
      "3 <class 'int'>\n",
      "2 <class 'int'>\n",
      "1 <class 'int'>\n"
     ]
    }
   ],
   "source": [
    "for i in t1:\n",
    "    print(i ,type(i))  # to know the type of function"
   ]
  },
  {
   "cell_type": "code",
   "execution_count": 69,
   "id": "762d62b6-2561-402a-acb2-a9b221090fbd",
   "metadata": {},
   "outputs": [],
   "source": [
    "t2=(1,2,3,4,5)"
   ]
  },
  {
   "cell_type": "code",
   "execution_count": 70,
   "id": "eadfe0a7-2130-485f-93d6-d265ed6b606a",
   "metadata": {},
   "outputs": [
    {
     "data": {
      "text/plain": [
       "(1, 2, 3, 4, 5)"
      ]
     },
     "execution_count": 70,
     "metadata": {},
     "output_type": "execute_result"
    }
   ],
   "source": [
    "t2"
   ]
  },
  {
   "cell_type": "code",
   "execution_count": 71,
   "id": "acd40bea-b3f9-45ef-a115-8c094dd5db0e",
   "metadata": {},
   "outputs": [
    {
     "data": {
      "text/plain": [
       "(1, 2, 3, 4, 5, 1, 2, 3, 4, 5)"
      ]
     },
     "execution_count": 71,
     "metadata": {},
     "output_type": "execute_result"
    }
   ],
   "source": [
    "t2*2"
   ]
  },
  {
   "cell_type": "code",
   "execution_count": 73,
   "id": "a51421c0-f461-46a6-bc00-d757bec8fbdd",
   "metadata": {},
   "outputs": [
    {
     "data": {
      "text/plain": [
       "1"
      ]
     },
     "execution_count": 73,
     "metadata": {},
     "output_type": "execute_result"
    }
   ],
   "source": [
    "min(t2)"
   ]
  },
  {
   "cell_type": "code",
   "execution_count": 74,
   "id": "6f2eb512-1661-426e-8cec-83d0b893bd2e",
   "metadata": {},
   "outputs": [
    {
     "data": {
      "text/plain": [
       "5"
      ]
     },
     "execution_count": 74,
     "metadata": {},
     "output_type": "execute_result"
    }
   ],
   "source": [
    "max(t2)"
   ]
  },
  {
   "cell_type": "code",
   "execution_count": 75,
   "id": "dde0f3fb-6f18-422f-9790-e08d027d59f9",
   "metadata": {},
   "outputs": [
    {
     "data": {
      "text/plain": [
       "(True, 'Sagar', 45.45, 5, 4, 3, 2, 1)"
      ]
     },
     "execution_count": 75,
     "metadata": {},
     "output_type": "execute_result"
    }
   ],
   "source": [
    "t1"
   ]
  },
  {
   "cell_type": "code",
   "execution_count": 77,
   "id": "e59e458a-58fa-4935-b07b-d0be50c708ad",
   "metadata": {},
   "outputs": [
    {
     "ename": "TypeError",
     "evalue": "'<' not supported between instances of 'str' and 'bool'",
     "output_type": "error",
     "traceback": [
      "\u001b[0;31m---------------------------------------------------------------------------\u001b[0m",
      "\u001b[0;31mTypeError\u001b[0m                                 Traceback (most recent call last)",
      "Cell \u001b[0;32mIn[77], line 1\u001b[0m\n\u001b[0;32m----> 1\u001b[0m \u001b[38;5;28;43mmin\u001b[39;49m\u001b[43m(\u001b[49m\u001b[43mt1\u001b[49m\u001b[43m)\u001b[49m \u001b[38;5;66;03m# because it had strings and booleans\u001b[39;00m\n",
      "\u001b[0;31mTypeError\u001b[0m: '<' not supported between instances of 'str' and 'bool'"
     ]
    }
   ],
   "source": [
    "min(t1) # because it had strings and booleans"
   ]
  },
  {
   "cell_type": "code",
   "execution_count": 84,
   "id": "2ee2ad30-c8c6-44ad-8610-6fa534f64886",
   "metadata": {},
   "outputs": [],
   "source": [
    "t1=(1,23,4,5,6,7)\n",
    "t2=(8,9,0,32)"
   ]
  },
  {
   "cell_type": "code",
   "execution_count": 89,
   "id": "0aebd45b-0626-41c2-95bc-9f026a54de4f",
   "metadata": {},
   "outputs": [],
   "source": [
    "t3=(t1,t2)  # if i add coma in between t1 and t2 then it will adjoin both the elements"
   ]
  },
  {
   "cell_type": "code",
   "execution_count": 90,
   "id": "d35ca676-b03c-44b3-9dc4-ba74b50c0fd6",
   "metadata": {},
   "outputs": [
    {
     "data": {
      "text/plain": [
       "((1, 23, 4, 5, 6, 7), (8, 9, 0, 32))"
      ]
     },
     "execution_count": 90,
     "metadata": {},
     "output_type": "execute_result"
    }
   ],
   "source": [
    "t3"
   ]
  },
  {
   "cell_type": "code",
   "execution_count": 91,
   "id": "a90f5c87-1347-4e74-861e-f2f66f052aed",
   "metadata": {},
   "outputs": [],
   "source": [
    "t3=(t1+t2) #if i add plus sign in between t1 and t2 it will eliminate paranthisis"
   ]
  },
  {
   "cell_type": "code",
   "execution_count": 92,
   "id": "75f09248-4037-4ae5-b62d-09b7a31907ca",
   "metadata": {},
   "outputs": [
    {
     "data": {
      "text/plain": [
       "(1, 23, 4, 5, 6, 7, 8, 9, 0, 32)"
      ]
     },
     "execution_count": 92,
     "metadata": {},
     "output_type": "execute_result"
    }
   ],
   "source": [
    "t3"
   ]
  },
  {
   "cell_type": "code",
   "execution_count": 100,
   "id": "9ed77ba5-37ba-4dd5-b005-2e90c13ec7bc",
   "metadata": {},
   "outputs": [],
   "source": [
    "t4=((1,2,3,4,5),[1,2,3,4,5,6,7,8])"
   ]
  },
  {
   "cell_type": "code",
   "execution_count": 101,
   "id": "9ddb271a-6c91-4a2d-a672-44b586f6684e",
   "metadata": {},
   "outputs": [
    {
     "data": {
      "text/plain": [
       "((1, 2, 3, 4, 5), [1, 2, 3, 4, 5, 6, 7, 8])"
      ]
     },
     "execution_count": 101,
     "metadata": {},
     "output_type": "execute_result"
    }
   ],
   "source": [
    "t4"
   ]
  },
  {
   "cell_type": "code",
   "execution_count": 102,
   "id": "f221b2b4-2ac3-428c-ad56-070bde43f593",
   "metadata": {},
   "outputs": [],
   "source": [
    "del t4 # it will delete that perticular data which was previously executed"
   ]
  },
  {
   "cell_type": "code",
   "execution_count": 103,
   "id": "b709bd30-3e6b-4046-8df8-e7f184d6298a",
   "metadata": {},
   "outputs": [
    {
     "ename": "NameError",
     "evalue": "name 't4' is not defined",
     "output_type": "error",
     "traceback": [
      "\u001b[0;31m---------------------------------------------------------------------------\u001b[0m",
      "\u001b[0;31mNameError\u001b[0m                                 Traceback (most recent call last)",
      "Cell \u001b[0;32mIn[103], line 1\u001b[0m\n\u001b[0;32m----> 1\u001b[0m \u001b[43mt4\u001b[49m\n",
      "\u001b[0;31mNameError\u001b[0m: name 't4' is not defined"
     ]
    }
   ],
   "source": [
    "t4"
   ]
  },
  {
   "cell_type": "code",
   "execution_count": 104,
   "id": "206c8529-f1f8-4440-8d27-4adf6c74f971",
   "metadata": {},
   "outputs": [
    {
     "data": {
      "text/plain": [
       "(1, 23, 4, 5, 6, 7)"
      ]
     },
     "execution_count": 104,
     "metadata": {},
     "output_type": "execute_result"
    }
   ],
   "source": [
    "t1"
   ]
  },
  {
   "cell_type": "code",
   "execution_count": 105,
   "id": "0835ef76-e339-4ae1-b109-d69f42eac899",
   "metadata": {},
   "outputs": [
    {
     "data": {
      "text/plain": [
       "6"
      ]
     },
     "execution_count": 105,
     "metadata": {},
     "output_type": "execute_result"
    }
   ],
   "source": [
    "len(t1)"
   ]
  },
  {
   "cell_type": "code",
   "execution_count": 110,
   "id": "1e0603d1-6aca-4aa7-b736-c2c664d7110a",
   "metadata": {},
   "outputs": [
    {
     "data": {
      "text/plain": [
       "False"
      ]
     },
     "execution_count": 110,
     "metadata": {},
     "output_type": "execute_result"
    }
   ],
   "source": [
    "\"Sagar\" in t1"
   ]
  },
  {
   "cell_type": "code",
   "execution_count": 107,
   "id": "157b9907-176c-4a4e-8b29-07790865263f",
   "metadata": {},
   "outputs": [
    {
     "data": {
      "text/plain": [
       "False"
      ]
     },
     "execution_count": 107,
     "metadata": {},
     "output_type": "execute_result"
    }
   ],
   "source": [
    "2 in t1"
   ]
  },
  {
   "cell_type": "code",
   "execution_count": 108,
   "id": "b3f9291e-890f-42f8-8f01-a1877b9c5601",
   "metadata": {},
   "outputs": [
    {
     "data": {
      "text/plain": [
       "True"
      ]
     },
     "execution_count": 108,
     "metadata": {},
     "output_type": "execute_result"
    }
   ],
   "source": [
    "23 in t1"
   ]
  },
  {
   "cell_type": "code",
   "execution_count": 109,
   "id": "064c6e3a-f63f-4f0f-9aeb-220aa0b622f6",
   "metadata": {},
   "outputs": [
    {
     "data": {
      "text/plain": [
       "False"
      ]
     },
     "execution_count": 109,
     "metadata": {},
     "output_type": "execute_result"
    }
   ],
   "source": [
    "\"Sagar\" in l"
   ]
  },
  {
   "cell_type": "code",
   "execution_count": 111,
   "id": "2bbedf74-d467-4062-8673-72988e573d22",
   "metadata": {},
   "outputs": [
    {
     "data": {
      "text/plain": [
       "(1, 23, 4, 5, 6, 7)"
      ]
     },
     "execution_count": 111,
     "metadata": {},
     "output_type": "execute_result"
    }
   ],
   "source": [
    "t1"
   ]
  },
  {
   "cell_type": "code",
   "execution_count": 112,
   "id": "2c2f7727-14fa-4142-bb37-1a965ceb673e",
   "metadata": {},
   "outputs": [
    {
     "data": {
      "text/plain": [
       "[1, 2, 3, 4, 5]"
      ]
     },
     "execution_count": 112,
     "metadata": {},
     "output_type": "execute_result"
    }
   ],
   "source": [
    "l"
   ]
  },
  {
   "cell_type": "code",
   "execution_count": 113,
   "id": "b4bcbb7d-df4d-4bfb-9f75-a89575a8cd9c",
   "metadata": {},
   "outputs": [],
   "source": [
    "t5=(\"sagar\",\"IPS\",\"Rageloner\",\"Sigmastoic\")"
   ]
  },
  {
   "cell_type": "code",
   "execution_count": 114,
   "id": "713a0472-4c52-4ffe-bb1c-6922c785519e",
   "metadata": {},
   "outputs": [
    {
     "data": {
      "text/plain": [
       "('sagar', 'IPS', 'Rageloner', 'Sigmastoic')"
      ]
     },
     "execution_count": 114,
     "metadata": {},
     "output_type": "execute_result"
    }
   ],
   "source": [
    "t5"
   ]
  },
  {
   "cell_type": "code",
   "execution_count": 115,
   "id": "22bfb736-819b-4dc5-99a7-83ed2b8427aa",
   "metadata": {},
   "outputs": [
    {
     "data": {
      "text/plain": [
       "4"
      ]
     },
     "execution_count": 115,
     "metadata": {},
     "output_type": "execute_result"
    }
   ],
   "source": [
    "len(t5)"
   ]
  },
  {
   "cell_type": "code",
   "execution_count": 116,
   "id": "f6df730d-8618-45ed-bb22-655ba6859f4e",
   "metadata": {},
   "outputs": [
    {
     "data": {
      "text/plain": [
       "True"
      ]
     },
     "execution_count": 116,
     "metadata": {},
     "output_type": "execute_result"
    }
   ],
   "source": [
    "\"sagar\" in t5"
   ]
  },
  {
   "cell_type": "code",
   "execution_count": 118,
   "id": "55f25149-681f-4091-83b9-4b239545b609",
   "metadata": {},
   "outputs": [
    {
     "data": {
      "text/plain": [
       "False"
      ]
     },
     "execution_count": 118,
     "metadata": {},
     "output_type": "execute_result"
    }
   ],
   "source": [
    "\"sigmastoic\" in t5 ## even small and capital letters will be matter "
   ]
  },
  {
   "cell_type": "markdown",
   "id": "d959ea07-9e90-48a5-9ff6-278f563020bd",
   "metadata": {},
   "source": [
    "# Sets"
   ]
  },
  {
   "cell_type": "code",
   "execution_count": 120,
   "id": "fa20a58b-23f8-4b0b-ae4c-5385811777fc",
   "metadata": {},
   "outputs": [],
   "source": [
    "s={}"
   ]
  },
  {
   "cell_type": "code",
   "execution_count": 121,
   "id": "43951251-749d-42ec-be26-73a7135e24de",
   "metadata": {},
   "outputs": [
    {
     "data": {
      "text/plain": [
       "dict"
      ]
     },
     "execution_count": 121,
     "metadata": {},
     "output_type": "execute_result"
    }
   ],
   "source": [
    "type(s)"
   ]
  },
  {
   "cell_type": "code",
   "execution_count": 122,
   "id": "74d2a0d2-71d7-46ae-852e-87c0f3fb4eeb",
   "metadata": {},
   "outputs": [],
   "source": [
    "s1={1,2,3,4}"
   ]
  },
  {
   "cell_type": "code",
   "execution_count": 123,
   "id": "9a0c3e65-ba35-4a4c-8d24-cb96ab40ea1b",
   "metadata": {},
   "outputs": [
    {
     "data": {
      "text/plain": [
       "{1, 2, 3, 4}"
      ]
     },
     "execution_count": 123,
     "metadata": {},
     "output_type": "execute_result"
    }
   ],
   "source": [
    "s1"
   ]
  },
  {
   "cell_type": "code",
   "execution_count": 124,
   "id": "383469d2-7490-4366-88f5-889b0c75f8ef",
   "metadata": {},
   "outputs": [
    {
     "data": {
      "text/plain": [
       "set"
      ]
     },
     "execution_count": 124,
     "metadata": {},
     "output_type": "execute_result"
    }
   ],
   "source": [
    "type(s1)"
   ]
  },
  {
   "cell_type": "code",
   "execution_count": 132,
   "id": "e7790f2d-a7a7-4bda-9681-11dbc456f8cf",
   "metadata": {},
   "outputs": [],
   "source": [
    "s2={1,1,2,12,3,5,57,543,6,3}"
   ]
  },
  {
   "cell_type": "code",
   "execution_count": 134,
   "id": "818d74ab-2d7a-411b-a762-2d68982eb6dc",
   "metadata": {},
   "outputs": [
    {
     "data": {
      "text/plain": [
       "{1, 2, 3, 5, 6, 12, 57, 543}"
      ]
     },
     "execution_count": 134,
     "metadata": {},
     "output_type": "execute_result"
    }
   ],
   "source": [
    "s2 ## it will eleminate all repetative numbers"
   ]
  },
  {
   "cell_type": "code",
   "execution_count": 135,
   "id": "feec7619-abdc-4cc4-8d8d-fae5134f53ae",
   "metadata": {},
   "outputs": [
    {
     "data": {
      "text/plain": [
       "[1, 2, 3, 5, 6, 12, 57, 543]"
      ]
     },
     "execution_count": 135,
     "metadata": {},
     "output_type": "execute_result"
    }
   ],
   "source": [
    "list(s2)"
   ]
  },
  {
   "cell_type": "code",
   "execution_count": 136,
   "id": "e47e2555-4353-46a5-a3e2-72bb88c1a231",
   "metadata": {},
   "outputs": [],
   "source": [
    "l=list(s2)"
   ]
  },
  {
   "cell_type": "code",
   "execution_count": 137,
   "id": "1edd87c5-80e5-416f-9d50-dc5286af82ce",
   "metadata": {},
   "outputs": [
    {
     "data": {
      "text/plain": [
       "[1, 2, 3, 5, 6, 12, 57, 543]"
      ]
     },
     "execution_count": 137,
     "metadata": {},
     "output_type": "execute_result"
    }
   ],
   "source": [
    "l"
   ]
  },
  {
   "cell_type": "code",
   "execution_count": 138,
   "id": "9e2e086b-6afa-4bbc-98ee-03a2b5a15ca6",
   "metadata": {},
   "outputs": [
    {
     "data": {
      "text/plain": [
       "(1, 2, 3, 5, 6, 12, 57, 543)"
      ]
     },
     "execution_count": 138,
     "metadata": {},
     "output_type": "execute_result"
    }
   ],
   "source": [
    "tuple(s2)"
   ]
  },
  {
   "cell_type": "code",
   "execution_count": 140,
   "id": "9e4ca011-1534-47b5-90f7-06f865d79259",
   "metadata": {},
   "outputs": [
    {
     "data": {
      "text/plain": [
       "{1, 2, 3, 5, 6, 12, 57, 543}"
      ]
     },
     "execution_count": 140,
     "metadata": {},
     "output_type": "execute_result"
    }
   ],
   "source": [
    "set(l)"
   ]
  },
  {
   "cell_type": "code",
   "execution_count": 146,
   "id": "26168c8e-ffd0-40e8-9041-4d08cfe4b5b7",
   "metadata": {},
   "outputs": [
    {
     "ename": "TypeError",
     "evalue": "unhashable type: 'list'",
     "output_type": "error",
     "traceback": [
      "\u001b[0;31m---------------------------------------------------------------------------\u001b[0m",
      "\u001b[0;31mTypeError\u001b[0m                                 Traceback (most recent call last)",
      "Cell \u001b[0;32mIn[146], line 1\u001b[0m\n\u001b[0;32m----> 1\u001b[0m s4\u001b[38;5;241m=\u001b[39m{\u001b[38;5;241m1\u001b[39m,\u001b[38;5;241m2\u001b[39m,\u001b[38;5;241m3\u001b[39m,\u001b[38;5;241m4\u001b[39m,[\u001b[38;5;241m5\u001b[39m,\u001b[38;5;241m6\u001b[39m,\u001b[38;5;241m7\u001b[39m,\u001b[38;5;241m8\u001b[39m]} \u001b[38;5;66;03m# it wont allow to add any list inside the sets[5,6,7,8]\u001b[39;00m\n",
      "\u001b[0;31mTypeError\u001b[0m: unhashable type: 'list'"
     ]
    }
   ],
   "source": [
    "s4={1,2,3,4,[5,6,7,8]} # it wont allow to add any list inside the sets[5,6,7,8]"
   ]
  },
  {
   "cell_type": "code",
   "execution_count": 147,
   "id": "e8344661-be2b-48e7-a15d-1ede2a68bbc1",
   "metadata": {},
   "outputs": [],
   "source": [
    "s5={1,2,3,4,(5,6,7,8)}"
   ]
  },
  {
   "cell_type": "code",
   "execution_count": 149,
   "id": "1d551bab-427c-4ed5-bc60-3bf25568e8ce",
   "metadata": {},
   "outputs": [
    {
     "data": {
      "text/plain": [
       "{(5, 6, 7, 8), 1, 2, 3, 4}"
      ]
     },
     "execution_count": 149,
     "metadata": {},
     "output_type": "execute_result"
    }
   ],
   "source": [
    "s5 # sets can allow both set factor and the tuple value "
   ]
  },
  {
   "cell_type": "code",
   "execution_count": 150,
   "id": "bfae2c9c-c017-47f8-9b98-d9bdfa358761",
   "metadata": {},
   "outputs": [],
   "source": [
    "s6={ \"sagar\",\"Rageloner\",1,23,4,5}"
   ]
  },
  {
   "cell_type": "code",
   "execution_count": 151,
   "id": "ad05b8a5-c094-4576-9f44-90f52e71935e",
   "metadata": {},
   "outputs": [
    {
     "data": {
      "text/plain": [
       "{1, 23, 4, 5, 'Rageloner', 'sagar'}"
      ]
     },
     "execution_count": 151,
     "metadata": {},
     "output_type": "execute_result"
    }
   ],
   "source": [
    "s6"
   ]
  },
  {
   "cell_type": "code",
   "execution_count": 152,
   "id": "5dde3ee9-05ae-477a-8721-662cf6da5484",
   "metadata": {},
   "outputs": [],
   "source": [
    "s7={\"sagar\",\"Rageloner\",1,23,4,5,\"sagar\"}"
   ]
  },
  {
   "cell_type": "code",
   "execution_count": 153,
   "id": "d3ee3fa3-aa89-4af8-840c-668f3145d2ed",
   "metadata": {},
   "outputs": [
    {
     "data": {
      "text/plain": [
       "{1, 23, 4, 5, 'Rageloner', 'sagar'}"
      ]
     },
     "execution_count": 153,
     "metadata": {},
     "output_type": "execute_result"
    }
   ],
   "source": [
    "s7"
   ]
  },
  {
   "cell_type": "code",
   "execution_count": 157,
   "id": "36902531-182e-495a-8059-3a41ae300eec",
   "metadata": {},
   "outputs": [
    {
     "ename": "TypeError",
     "evalue": "'set' object is not callable",
     "output_type": "error",
     "traceback": [
      "\u001b[0;31m---------------------------------------------------------------------------\u001b[0m",
      "\u001b[0;31mTypeError\u001b[0m                                 Traceback (most recent call last)",
      "Cell \u001b[0;32mIn[157], line 1\u001b[0m\n\u001b[0;32m----> 1\u001b[0m \u001b[43ms7\u001b[49m\u001b[43m(\u001b[49m\u001b[38;5;241;43m0\u001b[39;49m\u001b[43m)\u001b[49m\n",
      "\u001b[0;31mTypeError\u001b[0m: 'set' object is not callable"
     ]
    }
   ],
   "source": [
    "s7(0)"
   ]
  },
  {
   "cell_type": "code",
   "execution_count": 158,
   "id": "d59c0684-2d5a-404b-8bb0-1c91bc0a799c",
   "metadata": {},
   "outputs": [
    {
     "ename": "TypeError",
     "evalue": "'set' object is not subscriptable",
     "output_type": "error",
     "traceback": [
      "\u001b[0;31m---------------------------------------------------------------------------\u001b[0m",
      "\u001b[0;31mTypeError\u001b[0m                                 Traceback (most recent call last)",
      "Cell \u001b[0;32mIn[158], line 1\u001b[0m\n\u001b[0;32m----> 1\u001b[0m \u001b[43ms7\u001b[49m\u001b[43m[\u001b[49m\u001b[38;5;241;43m0\u001b[39;49m\u001b[43m]\u001b[49m\n",
      "\u001b[0;31mTypeError\u001b[0m: 'set' object is not subscriptable"
     ]
    }
   ],
   "source": [
    "s7[0]"
   ]
  },
  {
   "cell_type": "code",
   "execution_count": 161,
   "id": "9dd50a46-2447-4389-8ed0-d4f918ee65bf",
   "metadata": {},
   "outputs": [
    {
     "ename": "TypeError",
     "evalue": "'set' object is not subscriptable",
     "output_type": "error",
     "traceback": [
      "\u001b[0;31m---------------------------------------------------------------------------\u001b[0m",
      "\u001b[0;31mTypeError\u001b[0m                                 Traceback (most recent call last)",
      "Cell \u001b[0;32mIn[161], line 1\u001b[0m\n\u001b[0;32m----> 1\u001b[0m \u001b[43ms7\u001b[49m\u001b[43m[\u001b[49m\u001b[43m:\u001b[49m\u001b[43m:\u001b[49m\u001b[38;5;241;43m-\u001b[39;49m\u001b[38;5;241;43m1\u001b[39;49m\u001b[43m]\u001b[49m\n",
      "\u001b[0;31mTypeError\u001b[0m: 'set' object is not subscriptable"
     ]
    }
   ],
   "source": [
    "s7[::-1]"
   ]
  },
  {
   "cell_type": "code",
   "execution_count": 162,
   "id": "c544aab3-df19-4759-b883-25b8a1008409",
   "metadata": {},
   "outputs": [
    {
     "data": {
      "text/plain": [
       "{1, 23, 4, 5, 'Rageloner', 'sagar'}"
      ]
     },
     "execution_count": 162,
     "metadata": {},
     "output_type": "execute_result"
    }
   ],
   "source": [
    "s7"
   ]
  },
  {
   "cell_type": "code",
   "execution_count": 163,
   "id": "5fba9979-d9a0-47d0-a75e-8e723b10d062",
   "metadata": {},
   "outputs": [
    {
     "name": "stdout",
     "output_type": "stream",
     "text": [
      "1\n",
      "4\n",
      "5\n",
      "23\n",
      "Rageloner\n",
      "sagar\n"
     ]
    }
   ],
   "source": [
    "for i in s7:\n",
    "    print (i)"
   ]
  },
  {
   "cell_type": "code",
   "execution_count": 165,
   "id": "42c0bbce-fb73-467b-9d08-51b505b56333",
   "metadata": {},
   "outputs": [],
   "source": [
    "s7.add(37)"
   ]
  },
  {
   "cell_type": "code",
   "execution_count": 166,
   "id": "a35ab49c-4115-49fd-9479-9de5532eb4a4",
   "metadata": {},
   "outputs": [
    {
     "data": {
      "text/plain": [
       "{1, 23, 37, 4, 5, 'Rageloner', 'sagar'}"
      ]
     },
     "execution_count": 166,
     "metadata": {},
     "output_type": "execute_result"
    }
   ],
   "source": [
    "s7"
   ]
  },
  {
   "cell_type": "code",
   "execution_count": 167,
   "id": "714ac3bf-db48-492b-bd0d-f3012b7e1401",
   "metadata": {},
   "outputs": [],
   "source": [
    "s7.add(5)"
   ]
  },
  {
   "cell_type": "code",
   "execution_count": 168,
   "id": "5d63f756-a01f-4599-9d2a-57f53173c3c5",
   "metadata": {},
   "outputs": [
    {
     "data": {
      "text/plain": [
       "{1, 23, 37, 4, 5, 'Rageloner', 'sagar'}"
      ]
     },
     "execution_count": 168,
     "metadata": {},
     "output_type": "execute_result"
    }
   ],
   "source": [
    "s7"
   ]
  },
  {
   "cell_type": "code",
   "execution_count": 170,
   "id": "6d16138e-f623-4036-949c-5ee3d07a42c4",
   "metadata": {},
   "outputs": [],
   "source": [
    "s7.add(\"Sigmastoic\")"
   ]
  },
  {
   "cell_type": "code",
   "execution_count": 171,
   "id": "b3bb2b1e-1d31-465b-90cb-cff0cddf0b4a",
   "metadata": {},
   "outputs": [
    {
     "data": {
      "text/plain": [
       "{1, 23, 37, 4, 5, 'Rageloner', 'Sigmastoic', 'sagar'}"
      ]
     },
     "execution_count": 171,
     "metadata": {},
     "output_type": "execute_result"
    }
   ],
   "source": [
    "s7"
   ]
  },
  {
   "cell_type": "code",
   "execution_count": 172,
   "id": "c443ea15-868c-41e7-8da4-cfbee9638053",
   "metadata": {},
   "outputs": [
    {
     "data": {
      "text/plain": [
       "'Sigmastoic'"
      ]
     },
     "execution_count": 172,
     "metadata": {},
     "output_type": "execute_result"
    }
   ],
   "source": [
    "s7.pop()"
   ]
  },
  {
   "cell_type": "code",
   "execution_count": 173,
   "id": "29307a8d-c21a-455a-8db6-a956544a8b74",
   "metadata": {},
   "outputs": [
    {
     "data": {
      "text/plain": [
       "1"
      ]
     },
     "execution_count": 173,
     "metadata": {},
     "output_type": "execute_result"
    }
   ],
   "source": [
    "s7.pop()"
   ]
  },
  {
   "cell_type": "code",
   "execution_count": 174,
   "id": "e9adbb36-47f3-4d9b-ab5b-3b5d8b1e5886",
   "metadata": {},
   "outputs": [
    {
     "data": {
      "text/plain": [
       "4"
      ]
     },
     "execution_count": 174,
     "metadata": {},
     "output_type": "execute_result"
    }
   ],
   "source": [
    "s7.pop()"
   ]
  },
  {
   "cell_type": "code",
   "execution_count": 175,
   "id": "4bc0648d-41b4-439d-ae88-37a8b1646f91",
   "metadata": {},
   "outputs": [
    {
     "data": {
      "text/plain": [
       "5"
      ]
     },
     "execution_count": 175,
     "metadata": {},
     "output_type": "execute_result"
    }
   ],
   "source": [
    "s7.pop()"
   ]
  },
  {
   "cell_type": "code",
   "execution_count": 178,
   "id": "0aa08d1a-22a5-4778-a088-83319dc68629",
   "metadata": {},
   "outputs": [
    {
     "data": {
      "text/plain": [
       "23"
      ]
     },
     "execution_count": 178,
     "metadata": {},
     "output_type": "execute_result"
    }
   ],
   "source": [
    "s7.pop()"
   ]
  },
  {
   "cell_type": "code",
   "execution_count": 179,
   "id": "07384274-fe0a-4eff-8bb6-84a736780682",
   "metadata": {},
   "outputs": [
    {
     "data": {
      "text/plain": [
       "{'Rageloner', 'sagar'}"
      ]
     },
     "execution_count": 179,
     "metadata": {},
     "output_type": "execute_result"
    }
   ],
   "source": [
    "s7"
   ]
  },
  {
   "cell_type": "code",
   "execution_count": 181,
   "id": "634cc8d9-1eb7-49bd-8e16-a0ed078e3de7",
   "metadata": {},
   "outputs": [],
   "source": [
    "s7.clear()"
   ]
  },
  {
   "cell_type": "code",
   "execution_count": 182,
   "id": "75c8165a-e5c8-4363-85b9-daf77c382a50",
   "metadata": {},
   "outputs": [
    {
     "data": {
      "text/plain": [
       "set()"
      ]
     },
     "execution_count": 182,
     "metadata": {},
     "output_type": "execute_result"
    }
   ],
   "source": [
    "s7"
   ]
  },
  {
   "cell_type": "code",
   "execution_count": 183,
   "id": "7c54bf62-6acc-4133-a0cd-7892bfd70211",
   "metadata": {},
   "outputs": [],
   "source": [
    "s8={1,2,3,4,5}\n",
    "s9={1,2,3,5,6}"
   ]
  },
  {
   "cell_type": "code",
   "execution_count": 184,
   "id": "ee1753f2-29ff-4bca-9758-809d0dc6701c",
   "metadata": {},
   "outputs": [
    {
     "data": {
      "text/plain": [
       "{4}"
      ]
     },
     "execution_count": 184,
     "metadata": {},
     "output_type": "execute_result"
    }
   ],
   "source": [
    "s8.difference(s9)"
   ]
  },
  {
   "cell_type": "code",
   "execution_count": 185,
   "id": "5bbb45bc-fb3b-44ff-9e86-f7a08e9b10b1",
   "metadata": {},
   "outputs": [
    {
     "data": {
      "text/plain": [
       "{6}"
      ]
     },
     "execution_count": 185,
     "metadata": {},
     "output_type": "execute_result"
    }
   ],
   "source": [
    "s9.difference(s8)"
   ]
  },
  {
   "cell_type": "markdown",
   "id": "27a7a32b-343d-4c4b-9928-6bad7bacc4af",
   "metadata": {},
   "source": [
    "# dictionary (dict)"
   ]
  },
  {
   "cell_type": "code",
   "execution_count": 186,
   "id": "5feba1a9-3a30-412c-9ec8-6de8b391171f",
   "metadata": {},
   "outputs": [],
   "source": [
    "d={}"
   ]
  },
  {
   "cell_type": "code",
   "execution_count": 187,
   "id": "f367c7c5-0a60-428a-89af-1d1ea46116aa",
   "metadata": {},
   "outputs": [
    {
     "data": {
      "text/plain": [
       "{}"
      ]
     },
     "execution_count": 187,
     "metadata": {},
     "output_type": "execute_result"
    }
   ],
   "source": [
    "d"
   ]
  },
  {
   "cell_type": "code",
   "execution_count": 188,
   "id": "a03d4988-cb83-4be7-a84b-b604b2a3b3aa",
   "metadata": {},
   "outputs": [
    {
     "data": {
      "text/plain": [
       "dict"
      ]
     },
     "execution_count": 188,
     "metadata": {},
     "output_type": "execute_result"
    }
   ],
   "source": [
    "type(d)"
   ]
  },
  {
   "cell_type": "code",
   "execution_count": 190,
   "id": "4e1545f0-9eae-4ff9-8d75-6cd7205aedfd",
   "metadata": {},
   "outputs": [],
   "source": [
    "d1={\"name\":\"sagar\",\"email id\":\"sagards318@gmail.com\",\"number\":1234567890}"
   ]
  },
  {
   "cell_type": "code",
   "execution_count": 192,
   "id": "6bb69a05-bb25-499a-aeb2-a77dc9a5dd29",
   "metadata": {},
   "outputs": [
    {
     "data": {
      "text/plain": [
       "dict"
      ]
     },
     "execution_count": 192,
     "metadata": {},
     "output_type": "execute_result"
    }
   ],
   "source": [
    "type(d1)"
   ]
  },
  {
   "cell_type": "code",
   "execution_count": 193,
   "id": "065c22d9-58ff-4b6c-870a-e89fed8e7b40",
   "metadata": {},
   "outputs": [
    {
     "data": {
      "text/plain": [
       "{'name': 'sagar', 'email id': 'sagards318@gmail.com', 'number': 1234567890}"
      ]
     },
     "execution_count": 193,
     "metadata": {},
     "output_type": "execute_result"
    }
   ],
   "source": [
    "d1"
   ]
  },
  {
   "cell_type": "code",
   "execution_count": 196,
   "id": "1f7c4dc7-a801-44f6-8c39-71bcc4712a0c",
   "metadata": {},
   "outputs": [],
   "source": [
    "d2={\"name\":\"sagar\",\"name\":\"sagards\"} ## here it will update the name "
   ]
  },
  {
   "cell_type": "code",
   "execution_count": 197,
   "id": "92f27d42-c358-43b9-b637-a6eee9b6edaa",
   "metadata": {},
   "outputs": [
    {
     "data": {
      "text/plain": [
       "{'name': 'sagards'}"
      ]
     },
     "execution_count": 197,
     "metadata": {},
     "output_type": "execute_result"
    }
   ],
   "source": [
    "d2"
   ]
  },
  {
   "cell_type": "code",
   "execution_count": 198,
   "id": "979b43c3-18e1-4855-895a-90f01571192e",
   "metadata": {},
   "outputs": [],
   "source": [
    "d3={23456:\"asd\"}"
   ]
  },
  {
   "cell_type": "code",
   "execution_count": 199,
   "id": "e8f2a3aa-c0f4-4f1e-a481-3e234011790a",
   "metadata": {},
   "outputs": [
    {
     "data": {
      "text/plain": [
       "{23456: 'asd'}"
      ]
     },
     "execution_count": 199,
     "metadata": {},
     "output_type": "execute_result"
    }
   ],
   "source": [
    "d3"
   ]
  },
  {
   "cell_type": "code",
   "execution_count": 200,
   "id": "8ad95a4b-de17-4b0a-9dee-5084f15eb67d",
   "metadata": {},
   "outputs": [],
   "source": [
    "d4={234.456:\"adg\"}"
   ]
  },
  {
   "cell_type": "code",
   "execution_count": 201,
   "id": "c339b830-b52c-4602-adef-954cf688b1c0",
   "metadata": {},
   "outputs": [
    {
     "data": {
      "text/plain": [
       "{234.456: 'adg'}"
      ]
     },
     "execution_count": 201,
     "metadata": {},
     "output_type": "execute_result"
    }
   ],
   "source": [
    "d4"
   ]
  },
  {
   "cell_type": "code",
   "execution_count": 205,
   "id": "1f75e54a-fc45-4c1f-8ba8-e944374e636f",
   "metadata": {},
   "outputs": [],
   "source": [
    "d5={True :\"abc\"}"
   ]
  },
  {
   "cell_type": "code",
   "execution_count": 206,
   "id": "570a2ce4-618b-4656-8e09-c8cce8d39b90",
   "metadata": {},
   "outputs": [
    {
     "data": {
      "text/plain": [
       "{True: 'abc'}"
      ]
     },
     "execution_count": 206,
     "metadata": {},
     "output_type": "execute_result"
    }
   ],
   "source": [
    "d5"
   ]
  },
  {
   "cell_type": "code",
   "execution_count": 207,
   "id": "f9aff8a0-2cb7-4616-b86f-d622ac83acf3",
   "metadata": {},
   "outputs": [
    {
     "ename": "SyntaxError",
     "evalue": "invalid syntax (1422850606.py, line 1)",
     "output_type": "error",
     "traceback": [
      "\u001b[0;36m  Cell \u001b[0;32mIn[207], line 1\u001b[0;36m\u001b[0m\n\u001b[0;31m    d6={!@#<$%^,5,4,3}\u001b[0m\n\u001b[0m        ^\u001b[0m\n\u001b[0;31mSyntaxError\u001b[0m\u001b[0;31m:\u001b[0m invalid syntax\n"
     ]
    }
   ],
   "source": [
    "d6={!@#<$%^,5,4,3}"
   ]
  },
  {
   "cell_type": "code",
   "execution_count": 209,
   "id": "aded7af9-b2b5-4711-87d4-8f3746eaf78c",
   "metadata": {},
   "outputs": [
    {
     "ename": "TypeError",
     "evalue": "unhashable type: 'list'",
     "output_type": "error",
     "traceback": [
      "\u001b[0;31m---------------------------------------------------------------------------\u001b[0m",
      "\u001b[0;31mTypeError\u001b[0m                                 Traceback (most recent call last)",
      "Cell \u001b[0;32mIn[209], line 1\u001b[0m\n\u001b[0;32m----> 1\u001b[0m d8\u001b[38;5;241m=\u001b[39m{[\u001b[38;5;241m1\u001b[39m,\u001b[38;5;241m2\u001b[39m,\u001b[38;5;241m3\u001b[39m,\u001b[38;5;241m4\u001b[39m]:\u001b[38;5;124m\"\u001b[39m\u001b[38;5;124mabc\u001b[39m\u001b[38;5;124m\"\u001b[39m} \u001b[38;5;66;03m#dict wont take list also\u001b[39;00m\n",
      "\u001b[0;31mTypeError\u001b[0m: unhashable type: 'list'"
     ]
    }
   ],
   "source": [
    "d8={[1,2,3,4]:\"abc\"} #dict wont take list also\n"
   ]
  },
  {
   "cell_type": "code",
   "execution_count": 210,
   "id": "6a63ea79-47b1-4081-9e99-3fdd48e3dfbf",
   "metadata": {},
   "outputs": [],
   "source": [
    " d9={(1,2,3,4):\"abc\"}"
   ]
  },
  {
   "cell_type": "code",
   "execution_count": 211,
   "id": "c74c4f2e-556a-4a70-b2d9-a9a098643148",
   "metadata": {},
   "outputs": [
    {
     "data": {
      "text/plain": [
       "{(1, 2, 3, 4): 'abc'}"
      ]
     },
     "execution_count": 211,
     "metadata": {},
     "output_type": "execute_result"
    }
   ],
   "source": [
    "d9"
   ]
  },
  {
   "cell_type": "code",
   "execution_count": 212,
   "id": "14d40505-dc25-4359-ad8e-80d55575f97b",
   "metadata": {},
   "outputs": [
    {
     "ename": "TypeError",
     "evalue": "unhashable type: 'set'",
     "output_type": "error",
     "traceback": [
      "\u001b[0;31m---------------------------------------------------------------------------\u001b[0m",
      "\u001b[0;31mTypeError\u001b[0m                                 Traceback (most recent call last)",
      "Cell \u001b[0;32mIn[212], line 1\u001b[0m\n\u001b[0;32m----> 1\u001b[0m d10\u001b[38;5;241m=\u001b[39m{{\u001b[38;5;241m1\u001b[39m,\u001b[38;5;241m2\u001b[39m,\u001b[38;5;241m3\u001b[39m}:\u001b[38;5;124m\"\u001b[39m\u001b[38;5;124mabc\u001b[39m\u001b[38;5;124m\"\u001b[39m}\n",
      "\u001b[0;31mTypeError\u001b[0m: unhashable type: 'set'"
     ]
    }
   ],
   "source": [
    "d10={{1,2,3}:\"abc\"}"
   ]
  },
  {
   "cell_type": "code",
   "execution_count": 214,
   "id": "ffe0297e-1df0-4691-9942-6651599f6a97",
   "metadata": {},
   "outputs": [
    {
     "ename": "TypeError",
     "evalue": "unhashable type: 'dict'",
     "output_type": "error",
     "traceback": [
      "\u001b[0;31m---------------------------------------------------------------------------\u001b[0m",
      "\u001b[0;31mTypeError\u001b[0m                                 Traceback (most recent call last)",
      "Cell \u001b[0;32mIn[214], line 1\u001b[0m\n\u001b[0;32m----> 1\u001b[0m d11\u001b[38;5;241m=\u001b[39m{{\u001b[38;5;124m\"\u001b[39m\u001b[38;5;124mkey\u001b[39m\u001b[38;5;124m\"\u001b[39m:\u001b[38;5;241m234\u001b[39m}:\u001b[38;5;124m\"\u001b[39m\u001b[38;5;124mabc\u001b[39m\u001b[38;5;124m\"\u001b[39m} \u001b[38;5;66;03m# dict wont accept the key factors\u001b[39;00m\n",
      "\u001b[0;31mTypeError\u001b[0m: unhashable type: 'dict'"
     ]
    }
   ],
   "source": [
    "d11={{\"key\":234}:\"abc\"} # dict wont accept the key factors"
   ]
  },
  {
   "cell_type": "code",
   "execution_count": 215,
   "id": "432a6daf-8b6c-4888-94ea-178499f610be",
   "metadata": {},
   "outputs": [],
   "source": [
    "d12={\"course_name\": [\"Data science master\" , \"web developer\" ,\"java with dsa and system design\"]}"
   ]
  },
  {
   "cell_type": "code",
   "execution_count": 216,
   "id": "cf1cfc09-ba78-4236-acc8-981b7f9f1de9",
   "metadata": {},
   "outputs": [
    {
     "data": {
      "text/plain": [
       "{'course_name': ['Data science master',\n",
       "  'web developer',\n",
       "  'java with dsa and system design']}"
      ]
     },
     "execution_count": 216,
     "metadata": {},
     "output_type": "execute_result"
    }
   ],
   "source": [
    "d12"
   ]
  },
  {
   "cell_type": "code",
   "execution_count": 220,
   "id": "cc43ea37-822d-4da1-a911-d0f434c51e79",
   "metadata": {},
   "outputs": [],
   "source": [
    "d13={\"key\":(1,2,3,4)}"
   ]
  },
  {
   "cell_type": "code",
   "execution_count": 221,
   "id": "a64f54a3-f998-4814-aa2b-da10c17711e0",
   "metadata": {},
   "outputs": [],
   "source": [
    "d14={\"key\":{1,2,3,4,5,6}}"
   ]
  },
  {
   "cell_type": "code",
   "execution_count": 260,
   "id": "0344c410-e4d2-47ac-a302-f0d6d8fbf2ec",
   "metadata": {},
   "outputs": [],
   "source": [
    "d15={\"key\":{\"name\":\"sagar\",\"class\":\"Rageloner\"}}"
   ]
  },
  {
   "cell_type": "code",
   "execution_count": 261,
   "id": "0ef2bfe6-59a0-4833-8e29-a92f9efce3e6",
   "metadata": {},
   "outputs": [
    {
     "data": {
      "text/plain": [
       "{'key': {'name': 'sagar', 'class': 'Rageloner'}}"
      ]
     },
     "execution_count": 261,
     "metadata": {},
     "output_type": "execute_result"
    }
   ],
   "source": [
    "d15"
   ]
  },
  {
   "cell_type": "code",
   "execution_count": 226,
   "id": "db438042-2139-466b-a1b5-59d1921006af",
   "metadata": {},
   "outputs": [
    {
     "data": {
      "text/plain": [
       "{'key': (1, 2, 3, 4)}"
      ]
     },
     "execution_count": 226,
     "metadata": {},
     "output_type": "execute_result"
    }
   ],
   "source": [
    "d13"
   ]
  },
  {
   "cell_type": "code",
   "execution_count": 227,
   "id": "2f6b5c9b-a1f2-4cde-987d-7053b3221fc6",
   "metadata": {},
   "outputs": [
    {
     "data": {
      "text/plain": [
       "{'key': {1, 2, 3, 4, 5, 6}}"
      ]
     },
     "execution_count": 227,
     "metadata": {},
     "output_type": "execute_result"
    }
   ],
   "source": [
    "d14"
   ]
  },
  {
   "cell_type": "code",
   "execution_count": 229,
   "id": "59f77a12-f5ae-4072-94b4-33d104af8d0d",
   "metadata": {},
   "outputs": [],
   "source": [
    "d16={\"batch_name\" : [\"data science master\" ,\"wed developer\",\"jds\"], \"start_date\" :(1,2,3), \"mentor_name\" : {\" sagar\",\"sudhanshu\",\"hitesh\"}}"
   ]
  },
  {
   "cell_type": "code",
   "execution_count": 230,
   "id": "afb1c5ba-ce89-4a49-a1db-afdcdf8f8ffe",
   "metadata": {},
   "outputs": [
    {
     "data": {
      "text/plain": [
       "{'batch_name': ['data science master', 'wed developer', 'jds'],\n",
       " 'start_date': (1, 2, 3),\n",
       " 'mentor_name': {' sagar', 'hitesh', 'sudhanshu'}}"
      ]
     },
     "execution_count": 230,
     "metadata": {},
     "output_type": "execute_result"
    }
   ],
   "source": [
    "d16"
   ]
  },
  {
   "cell_type": "code",
   "execution_count": 231,
   "id": "dcffc0aa-2f57-45eb-b891-4b913f745b20",
   "metadata": {},
   "outputs": [],
   "source": [
    "d16[\"timing\"]=(8,8,8)"
   ]
  },
  {
   "cell_type": "code",
   "execution_count": 232,
   "id": "29623083-2a87-47ea-8ab7-55b920848a45",
   "metadata": {},
   "outputs": [
    {
     "data": {
      "text/plain": [
       "{'batch_name': ['data science master', 'wed developer', 'jds'],\n",
       " 'start_date': (1, 2, 3),\n",
       " 'mentor_name': {' sagar', 'hitesh', 'sudhanshu'},\n",
       " 'timing': (8, 8, 8)}"
      ]
     },
     "execution_count": 232,
     "metadata": {},
     "output_type": "execute_result"
    }
   ],
   "source": [
    "d16"
   ]
  },
  {
   "cell_type": "code",
   "execution_count": 233,
   "id": "7d51c581-415c-416b-ab2f-eb6a54314e8a",
   "metadata": {},
   "outputs": [],
   "source": [
    "d16[\"Name\"]=(\"Sagar IPS\")"
   ]
  },
  {
   "cell_type": "code",
   "execution_count": 234,
   "id": "23e7708d-42bc-461c-a45c-9f8c5de78213",
   "metadata": {},
   "outputs": [
    {
     "data": {
      "text/plain": [
       "{'batch_name': ['data science master', 'wed developer', 'jds'],\n",
       " 'start_date': (1, 2, 3),\n",
       " 'mentor_name': {' sagar', 'hitesh', 'sudhanshu'},\n",
       " 'timing': (8, 8, 8),\n",
       " 'Name': 'Sagar IPS'}"
      ]
     },
     "execution_count": 234,
     "metadata": {},
     "output_type": "execute_result"
    }
   ],
   "source": [
    "d16"
   ]
  },
  {
   "cell_type": "code",
   "execution_count": 236,
   "id": "6dade0d1-09e3-4599-945b-18db86f8eb3a",
   "metadata": {},
   "outputs": [
    {
     "data": {
      "text/plain": [
       "'Sagar IPS'"
      ]
     },
     "execution_count": 236,
     "metadata": {},
     "output_type": "execute_result"
    }
   ],
   "source": [
    "d16[\"Name\"]"
   ]
  },
  {
   "cell_type": "code",
   "execution_count": 237,
   "id": "fb9d53f5-337b-4898-8806-4a1b077ffb9c",
   "metadata": {},
   "outputs": [
    {
     "data": {
      "text/plain": [
       "dict"
      ]
     },
     "execution_count": 237,
     "metadata": {},
     "output_type": "execute_result"
    }
   ],
   "source": [
    "type(d16)"
   ]
  },
  {
   "cell_type": "code",
   "execution_count": 238,
   "id": "262720e6-da7f-4b23-87bf-54114ed02fdb",
   "metadata": {},
   "outputs": [
    {
     "data": {
      "text/plain": [
       "str"
      ]
     },
     "execution_count": 238,
     "metadata": {},
     "output_type": "execute_result"
    }
   ],
   "source": [
    "type(d16[\"Name\"])"
   ]
  },
  {
   "cell_type": "code",
   "execution_count": 240,
   "id": "df78420a-385d-44f0-871f-ac897681e5be",
   "metadata": {},
   "outputs": [
    {
     "data": {
      "text/plain": [
       "tuple"
      ]
     },
     "execution_count": 240,
     "metadata": {},
     "output_type": "execute_result"
    }
   ],
   "source": [
    "type(d16[\"start_date\"])"
   ]
  },
  {
   "cell_type": "code",
   "execution_count": 241,
   "id": "f421e150-4c1e-48bf-828a-13096c30f7d3",
   "metadata": {},
   "outputs": [
    {
     "data": {
      "text/plain": [
       "set"
      ]
     },
     "execution_count": 241,
     "metadata": {},
     "output_type": "execute_result"
    }
   ],
   "source": [
    "type(d16[\"mentor_name\"])"
   ]
  },
  {
   "cell_type": "code",
   "execution_count": 244,
   "id": "3d2ef885-04ec-44e4-b1ef-685f27263d85",
   "metadata": {},
   "outputs": [
    {
     "data": {
      "text/plain": [
       "'SAGAR IPS'"
      ]
     },
     "execution_count": 244,
     "metadata": {},
     "output_type": "execute_result"
    }
   ],
   "source": [
    "d16[\"Name\"].upper()"
   ]
  },
  {
   "cell_type": "code",
   "execution_count": 262,
   "id": "15470e05-3f9b-4edb-a1d6-919d8da5fe83",
   "metadata": {},
   "outputs": [
    {
     "data": {
      "text/plain": [
       "{'key': {'name': 'sagar', 'class': 'Rageloner'}}"
      ]
     },
     "execution_count": 262,
     "metadata": {},
     "output_type": "execute_result"
    }
   ],
   "source": [
    "d15"
   ]
  },
  {
   "cell_type": "code",
   "execution_count": 263,
   "id": "a7f0a079-f0a9-43a6-b93d-a55d398fcb0b",
   "metadata": {},
   "outputs": [
    {
     "data": {
      "text/plain": [
       "{'name': 'sagar', 'class': 'Rageloner'}"
      ]
     },
     "execution_count": 263,
     "metadata": {},
     "output_type": "execute_result"
    }
   ],
   "source": [
    "d15[\"key\"]"
   ]
  },
  {
   "cell_type": "code",
   "execution_count": 264,
   "id": "08b0b292-f12a-4857-ad33-d52ae328d3d5",
   "metadata": {},
   "outputs": [
    {
     "data": {
      "text/plain": [
       "dict"
      ]
     },
     "execution_count": 264,
     "metadata": {},
     "output_type": "execute_result"
    }
   ],
   "source": [
    "type(d15[\"key\"])"
   ]
  },
  {
   "cell_type": "code",
   "execution_count": 265,
   "id": "118573cb-0cda-4dc0-9cfa-307b57bb0109",
   "metadata": {},
   "outputs": [
    {
     "data": {
      "text/plain": [
       "'Rageloner'"
      ]
     },
     "execution_count": 265,
     "metadata": {},
     "output_type": "execute_result"
    }
   ],
   "source": [
    "d15[\"key\"][\"class\"]"
   ]
  },
  {
   "cell_type": "code",
   "execution_count": 266,
   "id": "45e19219-0802-4dd5-ba15-966f1810f805",
   "metadata": {},
   "outputs": [
    {
     "data": {
      "text/plain": [
       "{'key': {'name': 'sagar', 'class': 'Rageloner'}}"
      ]
     },
     "execution_count": 266,
     "metadata": {},
     "output_type": "execute_result"
    }
   ],
   "source": [
    "d15"
   ]
  },
  {
   "cell_type": "code",
   "execution_count": 267,
   "id": "f873cd59-df23-42c9-876b-285d48f0ef76",
   "metadata": {},
   "outputs": [],
   "source": [
    "d15[\"key1\"]=(\"abc\")"
   ]
  },
  {
   "cell_type": "code",
   "execution_count": 268,
   "id": "2701da6c-74bf-4a62-b3fd-ebfc53111778",
   "metadata": {},
   "outputs": [
    {
     "data": {
      "text/plain": [
       "{'key': {'name': 'sagar', 'class': 'Rageloner'}, 'key1': 'abc'}"
      ]
     },
     "execution_count": 268,
     "metadata": {},
     "output_type": "execute_result"
    }
   ],
   "source": [
    "d15"
   ]
  },
  {
   "cell_type": "code",
   "execution_count": 272,
   "id": "adfd5f1e-1adb-47e5-9b44-a91e922d8000",
   "metadata": {},
   "outputs": [],
   "source": [
    "del d15[\"key1\"]"
   ]
  },
  {
   "cell_type": "code",
   "execution_count": 273,
   "id": "8522a112-0d88-460a-adbb-fd679ef9fe6a",
   "metadata": {},
   "outputs": [
    {
     "data": {
      "text/plain": [
       "{'key': {'name': 'sagar', 'class': 'Rageloner'}}"
      ]
     },
     "execution_count": 273,
     "metadata": {},
     "output_type": "execute_result"
    }
   ],
   "source": [
    "d15"
   ]
  },
  {
   "cell_type": "code",
   "execution_count": 274,
   "id": "f23b75f5-e2de-420d-bf40-857015cc7e5c",
   "metadata": {},
   "outputs": [],
   "source": [
    "d15.clear()"
   ]
  },
  {
   "cell_type": "code",
   "execution_count": 275,
   "id": "083303be-7e5a-4af6-ba52-735f3c2b65ef",
   "metadata": {},
   "outputs": [
    {
     "data": {
      "text/plain": [
       "{}"
      ]
     },
     "execution_count": 275,
     "metadata": {},
     "output_type": "execute_result"
    }
   ],
   "source": [
    "d15"
   ]
  },
  {
   "cell_type": "code",
   "execution_count": 276,
   "id": "8d7ac14d-5422-42b7-b02e-f77ff6662ee9",
   "metadata": {},
   "outputs": [
    {
     "data": {
      "text/plain": [
       "0"
      ]
     },
     "execution_count": 276,
     "metadata": {},
     "output_type": "execute_result"
    }
   ],
   "source": [
    "len(d15)"
   ]
  },
  {
   "cell_type": "code",
   "execution_count": 277,
   "id": "28052918-812d-4f41-b3e6-5484a6229cce",
   "metadata": {},
   "outputs": [
    {
     "data": {
      "text/plain": [
       "{'batch_name': ['data science master', 'wed developer', 'jds'],\n",
       " 'start_date': (1, 2, 3),\n",
       " 'mentor_name': {' sagar', 'hitesh', 'sudhanshu'},\n",
       " 'timing': (8, 8, 8),\n",
       " 'Name': 'Sagar IPS'}"
      ]
     },
     "execution_count": 277,
     "metadata": {},
     "output_type": "execute_result"
    }
   ],
   "source": [
    "d16"
   ]
  },
  {
   "cell_type": "code",
   "execution_count": 278,
   "id": "0ae5c0d1-7e63-43a0-8a3c-5a1b4a0371d2",
   "metadata": {},
   "outputs": [
    {
     "data": {
      "text/plain": [
       "5"
      ]
     },
     "execution_count": 278,
     "metadata": {},
     "output_type": "execute_result"
    }
   ],
   "source": [
    "len(d16)"
   ]
  },
  {
   "cell_type": "code",
   "execution_count": 279,
   "id": "256c17a4-fec4-4b67-9fff-cea31b34c148",
   "metadata": {},
   "outputs": [
    {
     "data": {
      "text/plain": [
       "dict_keys(['batch_name', 'start_date', 'mentor_name', 'timing', 'Name'])"
      ]
     },
     "execution_count": 279,
     "metadata": {},
     "output_type": "execute_result"
    }
   ],
   "source": [
    "d16.keys()"
   ]
  },
  {
   "cell_type": "code",
   "execution_count": 281,
   "id": "ad27ae58-238e-408a-be23-0b8ba394d92a",
   "metadata": {},
   "outputs": [
    {
     "data": {
      "text/plain": [
       "dict_values([['data science master', 'wed developer', 'jds'], (1, 2, 3), {'sudhanshu', 'hitesh', ' sagar'}, (8, 8, 8), 'Sagar IPS'])"
      ]
     },
     "execution_count": 281,
     "metadata": {},
     "output_type": "execute_result"
    }
   ],
   "source": [
    "d16.values()"
   ]
  },
  {
   "cell_type": "code",
   "execution_count": 283,
   "id": "02e3b4eb-153c-42b6-83b3-e488bca88648",
   "metadata": {},
   "outputs": [
    {
     "data": {
      "text/plain": [
       "[['data science master', 'wed developer', 'jds'],\n",
       " (1, 2, 3),\n",
       " {' sagar', 'hitesh', 'sudhanshu'},\n",
       " (8, 8, 8),\n",
       " 'Sagar IPS']"
      ]
     },
     "execution_count": 283,
     "metadata": {},
     "output_type": "execute_result"
    }
   ],
   "source": [
    "list(d16.values())"
   ]
  },
  {
   "cell_type": "code",
   "execution_count": 284,
   "id": "9ca28589-113e-43e7-9f47-ec63d160177f",
   "metadata": {},
   "outputs": [
    {
     "data": {
      "text/plain": [
       "['batch_name', 'start_date', 'mentor_name', 'timing', 'Name']"
      ]
     },
     "execution_count": 284,
     "metadata": {},
     "output_type": "execute_result"
    }
   ],
   "source": [
    "list(d16.keys())"
   ]
  },
  {
   "cell_type": "code",
   "execution_count": 285,
   "id": "21e7967b-9b6f-4784-bb6e-c14a41b2755c",
   "metadata": {},
   "outputs": [
    {
     "data": {
      "text/plain": [
       "dict_items([('batch_name', ['data science master', 'wed developer', 'jds']), ('start_date', (1, 2, 3)), ('mentor_name', {'sudhanshu', 'hitesh', ' sagar'}), ('timing', (8, 8, 8)), ('Name', 'Sagar IPS')])"
      ]
     },
     "execution_count": 285,
     "metadata": {},
     "output_type": "execute_result"
    }
   ],
   "source": [
    "d16.items()"
   ]
  },
  {
   "cell_type": "code",
   "execution_count": 286,
   "id": "bad4a54a-5c26-4899-83ec-2d8911613203",
   "metadata": {},
   "outputs": [
    {
     "data": {
      "text/plain": [
       "[('batch_name', ['data science master', 'wed developer', 'jds']),\n",
       " ('start_date', (1, 2, 3)),\n",
       " ('mentor_name', {' sagar', 'hitesh', 'sudhanshu'}),\n",
       " ('timing', (8, 8, 8)),\n",
       " ('Name', 'Sagar IPS')]"
      ]
     },
     "execution_count": 286,
     "metadata": {},
     "output_type": "execute_result"
    }
   ],
   "source": [
    "list(d16.items())"
   ]
  },
  {
   "cell_type": "code",
   "execution_count": 288,
   "id": "f0f4a371-1f92-4457-a50e-9af8f8b12334",
   "metadata": {},
   "outputs": [
    {
     "data": {
      "text/plain": [
       "{'batch_name': ['data science master', 'wed developer', 'jds'],\n",
       " 'start_date': (1, 2, 3),\n",
       " 'mentor_name': {' sagar', 'hitesh', 'sudhanshu'},\n",
       " 'timing': (8, 8, 8),\n",
       " 'Name': 'Sagar IPS'}"
      ]
     },
     "execution_count": 288,
     "metadata": {},
     "output_type": "execute_result"
    }
   ],
   "source": [
    "d16"
   ]
  },
  {
   "cell_type": "code",
   "execution_count": 289,
   "id": "646b25d3-dce9-4902-b2a7-e86d13ecc8c1",
   "metadata": {},
   "outputs": [],
   "source": [
    "d17=d16.copy()"
   ]
  },
  {
   "cell_type": "code",
   "execution_count": 290,
   "id": "ca8ebfd4-32fe-48cd-80f9-ca698ad8259c",
   "metadata": {},
   "outputs": [
    {
     "data": {
      "text/plain": [
       "{'batch_name': ['data science master', 'wed developer', 'jds'],\n",
       " 'start_date': (1, 2, 3),\n",
       " 'mentor_name': {' sagar', 'hitesh', 'sudhanshu'},\n",
       " 'timing': (8, 8, 8),\n",
       " 'Name': 'Sagar IPS'}"
      ]
     },
     "execution_count": 290,
     "metadata": {},
     "output_type": "execute_result"
    }
   ],
   "source": [
    "d17"
   ]
  },
  {
   "cell_type": "code",
   "execution_count": 291,
   "id": "22dba767-65c4-408f-a516-c3f183c7df9c",
   "metadata": {},
   "outputs": [],
   "source": [
    "d18=d16"
   ]
  },
  {
   "cell_type": "code",
   "execution_count": 292,
   "id": "a070f8c6-d4f9-4aa6-a024-dc7a601f26ea",
   "metadata": {},
   "outputs": [
    {
     "data": {
      "text/plain": [
       "{'batch_name': ['data science master', 'wed developer', 'jds'],\n",
       " 'start_date': (1, 2, 3),\n",
       " 'mentor_name': {' sagar', 'hitesh', 'sudhanshu'},\n",
       " 'timing': (8, 8, 8),\n",
       " 'Name': 'Sagar IPS'}"
      ]
     },
     "execution_count": 292,
     "metadata": {},
     "output_type": "execute_result"
    }
   ],
   "source": [
    "d18"
   ]
  },
  {
   "cell_type": "code",
   "execution_count": 303,
   "id": "6e77dda0-f176-49eb-b7c5-94544bff4a96",
   "metadata": {},
   "outputs": [],
   "source": [
    "d19=[(\"Sagar IPS\"),{\"batch_name\" : [\"data science master\" ,\"wed developer\",\"jds\"], \"start_date\" :(1,2,3), \"mentor_name\" : {\" sagar\",\"sudhanshu\",\"hitesh\"}}]"
   ]
  },
  {
   "cell_type": "code",
   "execution_count": 297,
   "id": "76dea0da-7eec-48cb-9a19-de79110be9a7",
   "metadata": {},
   "outputs": [
    {
     "data": {
      "text/plain": [
       "['Sagar IPS',\n",
       " {'batch_name': ['data science master', 'wed developer', 'jds'],\n",
       "  'start_date': (1, 2, 3),\n",
       "  'mentor_name': {' sagar', 'hitesh', 'sudhanshu'}}]"
      ]
     },
     "execution_count": 297,
     "metadata": {},
     "output_type": "execute_result"
    }
   ],
   "source": [
    "d19"
   ]
  },
  {
   "cell_type": "code",
   "execution_count": 304,
   "id": "7e14b9b1-a6bc-476d-93be-f1d5b91c5d8d",
   "metadata": {},
   "outputs": [
    {
     "ename": "TypeError",
     "evalue": "pop expected at least 1 argument, got 0",
     "output_type": "error",
     "traceback": [
      "\u001b[0;31m---------------------------------------------------------------------------\u001b[0m",
      "\u001b[0;31mTypeError\u001b[0m                                 Traceback (most recent call last)",
      "Cell \u001b[0;32mIn[304], line 1\u001b[0m\n\u001b[0;32m----> 1\u001b[0m \u001b[43md16\u001b[49m\u001b[38;5;241;43m.\u001b[39;49m\u001b[43mpop\u001b[49m\u001b[43m(\u001b[49m\u001b[43m)\u001b[49m\n",
      "\u001b[0;31mTypeError\u001b[0m: pop expected at least 1 argument, got 0"
     ]
    }
   ],
   "source": [
    "d16.pop()"
   ]
  },
  {
   "cell_type": "code",
   "execution_count": 305,
   "id": "676c0eb7-6327-47e3-834d-e3ea2a471cab",
   "metadata": {},
   "outputs": [
    {
     "data": {
      "text/plain": [
       "(8, 8, 8)"
      ]
     },
     "execution_count": 305,
     "metadata": {},
     "output_type": "execute_result"
    }
   ],
   "source": [
    "d16.pop(\"timing\")"
   ]
  },
  {
   "cell_type": "code",
   "execution_count": 307,
   "id": "21f46629-b2b0-433f-80c7-34615c1a2a1d",
   "metadata": {},
   "outputs": [
    {
     "data": {
      "text/plain": [
       "{'batch_name': ['data science master', 'wed developer', 'jds'],\n",
       " 'start_date': (1, 2, 3),\n",
       " 'mentor_name': {' sagar', 'hitesh', 'sudhanshu'},\n",
       " 'Name': 'Sagar IPS'}"
      ]
     },
     "execution_count": 307,
     "metadata": {},
     "output_type": "execute_result"
    }
   ],
   "source": [
    "d16 ##timing will delet from d16"
   ]
  },
  {
   "cell_type": "code",
   "execution_count": 308,
   "id": "4a3a0773-a2c0-44f4-b53c-dc278621a5cc",
   "metadata": {},
   "outputs": [
    {
     "data": {
      "text/plain": [
       "{' sagar', 'hitesh', 'sudhanshu'}"
      ]
     },
     "execution_count": 308,
     "metadata": {},
     "output_type": "execute_result"
    }
   ],
   "source": [
    "d16.pop(\"mentor_name\")"
   ]
  },
  {
   "cell_type": "code",
   "execution_count": 309,
   "id": "c0b3dcf6-82a4-42d9-8c98-8b21102949e6",
   "metadata": {},
   "outputs": [
    {
     "data": {
      "text/plain": [
       "{'batch_name': ['data science master', 'wed developer', 'jds'],\n",
       " 'start_date': (1, 2, 3),\n",
       " 'Name': 'Sagar IPS'}"
      ]
     },
     "execution_count": 309,
     "metadata": {},
     "output_type": "execute_result"
    }
   ],
   "source": [
    "d16"
   ]
  },
  {
   "cell_type": "code",
   "execution_count": 312,
   "id": "c3aa8032-9315-4c9d-bdee-919576cdafab",
   "metadata": {},
   "outputs": [
    {
     "data": {
      "text/plain": [
       "{1: ('a', 'b', 'c'), 2: ('a', 'b', 'c'), 3: ('a', 'b', 'c')}"
      ]
     },
     "execution_count": 312,
     "metadata": {},
     "output_type": "execute_result"
    }
   ],
   "source": [
    "d.fromkeys((1,2,3),(\"a\",\"b\",\"c\"))"
   ]
  },
  {
   "cell_type": "code",
   "execution_count": 313,
   "id": "6229b7a0-e074-4b46-81ff-c16dc2f471a6",
   "metadata": {},
   "outputs": [],
   "source": [
    "d20={\"key1\":\"values\",\"key2\":\"value2\"}\n",
    "d21={\"key3\":\"value3\",\"key4\":\"value4\"}"
   ]
  },
  {
   "cell_type": "code",
   "execution_count": 314,
   "id": "4cda0aa6-9651-4143-9884-91644142d77d",
   "metadata": {},
   "outputs": [
    {
     "data": {
      "text/plain": [
       "({'key1': 'values', 'key2': 'value2'}, {'key3': 'value3', 'key4': 'value4'})"
      ]
     },
     "execution_count": 314,
     "metadata": {},
     "output_type": "execute_result"
    }
   ],
   "source": [
    "d20,d21"
   ]
  },
  {
   "cell_type": "code",
   "execution_count": 315,
   "id": "20111741-6765-47a7-973b-f5c325f07b3b",
   "metadata": {},
   "outputs": [
    {
     "data": {
      "text/plain": [
       "({'key1': 'values', 'key2': 'value2'}, {'key3': 'value3', 'key4': 'value4'})"
      ]
     },
     "execution_count": 315,
     "metadata": {},
     "output_type": "execute_result"
    }
   ],
   "source": [
    "(d20,d21)"
   ]
  },
  {
   "cell_type": "code",
   "execution_count": 317,
   "id": "9a6e1ce5-3397-4044-9ffb-0d99c9816005",
   "metadata": {},
   "outputs": [],
   "source": [
    "d20.update(d21)"
   ]
  },
  {
   "cell_type": "code",
   "execution_count": 318,
   "id": "591edd49-dd9a-4705-8223-9ae09cc0f8fd",
   "metadata": {},
   "outputs": [
    {
     "data": {
      "text/plain": [
       "{'key1': 'values', 'key2': 'value2', 'key3': 'value3', 'key4': 'value4'}"
      ]
     },
     "execution_count": 318,
     "metadata": {},
     "output_type": "execute_result"
    }
   ],
   "source": [
    "d20"
   ]
  },
  {
   "cell_type": "code",
   "execution_count": 319,
   "id": "37a5e23b-1b21-4169-9f4e-8c9ccdb1d9ae",
   "metadata": {},
   "outputs": [
    {
     "data": {
      "text/plain": [
       "{'key3': 'value3', 'key4': 'value4'}"
      ]
     },
     "execution_count": 319,
     "metadata": {},
     "output_type": "execute_result"
    }
   ],
   "source": [
    "d21"
   ]
  },
  {
   "cell_type": "code",
   "execution_count": 320,
   "id": "598e5032-3ea0-4a4f-9fb3-b8a60818b98b",
   "metadata": {},
   "outputs": [],
   "source": [
    "d21.update(d20)"
   ]
  },
  {
   "cell_type": "code",
   "execution_count": 321,
   "id": "dd1c039c-b42b-448c-92b9-cdb7d6c3c5ed",
   "metadata": {},
   "outputs": [
    {
     "data": {
      "text/plain": [
       "{'key3': 'value3', 'key4': 'value4', 'key1': 'values', 'key2': 'value2'}"
      ]
     },
     "execution_count": 321,
     "metadata": {},
     "output_type": "execute_result"
    }
   ],
   "source": [
    "d21"
   ]
  },
  {
   "cell_type": "code",
   "execution_count": 326,
   "id": "bcd46bf7-9617-4d28-9d04-4842b322382c",
   "metadata": {},
   "outputs": [],
   "source": [
    "d21.get(\"Sagar IPS\")"
   ]
  },
  {
   "cell_type": "code",
   "execution_count": 327,
   "id": "e8fc8800-f935-4341-90f7-b55d5e9cfbac",
   "metadata": {},
   "outputs": [
    {
     "data": {
      "text/plain": [
       "'value3'"
      ]
     },
     "execution_count": 327,
     "metadata": {},
     "output_type": "execute_result"
    }
   ],
   "source": [
    "d21.get(\"key3\")"
   ]
  },
  {
   "cell_type": "code",
   "execution_count": 328,
   "id": "1ab730db-e59b-46db-8a86-4a1790118c16",
   "metadata": {},
   "outputs": [
    {
     "data": {
      "text/plain": [
       "{'key3': 'value3', 'key4': 'value4', 'key1': 'values', 'key2': 'value2'}"
      ]
     },
     "execution_count": 328,
     "metadata": {},
     "output_type": "execute_result"
    }
   ],
   "source": [
    "d21"
   ]
  },
  {
   "cell_type": "code",
   "execution_count": 329,
   "id": "b59625bc-1062-4532-a216-ef48d06ea86b",
   "metadata": {},
   "outputs": [
    {
     "ename": "KeyError",
     "evalue": "'Sagar IPS'",
     "output_type": "error",
     "traceback": [
      "\u001b[0;31m---------------------------------------------------------------------------\u001b[0m",
      "\u001b[0;31mKeyError\u001b[0m                                  Traceback (most recent call last)",
      "Cell \u001b[0;32mIn[329], line 1\u001b[0m\n\u001b[0;32m----> 1\u001b[0m \u001b[43md21\u001b[49m\u001b[43m[\u001b[49m\u001b[38;5;124;43m\"\u001b[39;49m\u001b[38;5;124;43mSagar IPS\u001b[39;49m\u001b[38;5;124;43m\"\u001b[39;49m\u001b[43m]\u001b[49m\n",
      "\u001b[0;31mKeyError\u001b[0m: 'Sagar IPS'"
     ]
    }
   ],
   "source": [
    "d21[\"Sagar IPS\"]"
   ]
  },
  {
   "cell_type": "markdown",
   "id": "323d5ab0-5fb8-4336-a18d-69ba324f3e52",
   "metadata": {},
   "source": [
    "# Dictionary Comprehension"
   ]
  },
  {
   "cell_type": "code",
   "execution_count": 333,
   "id": "e413f6e5-384d-42bf-a894-9cb67ffff56f",
   "metadata": {},
   "outputs": [
    {
     "data": {
      "text/plain": [
       "{1: 1, 2: 4, 3: 9, 4: 16, 5: 25, 6: 36, 7: 49, 8: 64, 9: 81, 10: 100}"
      ]
     },
     "execution_count": 333,
     "metadata": {},
     "output_type": "execute_result"
    }
   ],
   "source": [
    "{i : i**2 for i in range(1,11)}"
   ]
  },
  {
   "cell_type": "code",
   "execution_count": 331,
   "id": "2b0b0c61-5217-4e18-8471-674df9298c77",
   "metadata": {},
   "outputs": [
    {
     "data": {
      "text/plain": [
       "[1, 2, 3, 4, 5, 6, 7, 8, 9, 10]"
      ]
     },
     "execution_count": 331,
     "metadata": {},
     "output_type": "execute_result"
    }
   ],
   "source": [
    "list(range(1,11))"
   ]
  },
  {
   "cell_type": "code",
   "execution_count": 335,
   "id": "b1c95cc7-4e3a-480e-8db0-f4fd8e58038c",
   "metadata": {},
   "outputs": [
    {
     "data": {
      "text/plain": [
       "{1: 11, 2: 12, 3: 13, 4: 14, 5: 15, 6: 16, 7: 17, 8: 18, 9: 19, 10: 20}"
      ]
     },
     "execution_count": 335,
     "metadata": {},
     "output_type": "execute_result"
    }
   ],
   "source": [
    "{i:i+10 for i in range(1,11)}"
   ]
  },
  {
   "cell_type": "code",
   "execution_count": 340,
   "id": "87ca26a0-4e08-4131-a603-0d6e931a0b73",
   "metadata": {},
   "outputs": [
    {
     "data": {
      "text/plain": [
       "{1: 0.0,\n",
       " 2: 0.3010299956639812,\n",
       " 3: 0.47712125471966244,\n",
       " 4: 0.6020599913279624,\n",
       " 5: 0.6989700043360189,\n",
       " 6: 0.7781512503836436,\n",
       " 7: 0.8450980400142568,\n",
       " 8: 0.9030899869919435,\n",
       " 9: 0.9542425094393249,\n",
       " 10: 1.0}"
      ]
     },
     "execution_count": 340,
     "metadata": {},
     "output_type": "execute_result"
    }
   ],
   "source": [
    "import math\n",
    "{i:math.log10(i) for i in range(1,11)}"
   ]
  },
  {
   "cell_type": "code",
   "execution_count": 346,
   "id": "96a9732e-ce30-4ee3-8e3f-c75d3c46fd44",
   "metadata": {},
   "outputs": [],
   "source": [
    "import math\n",
    "d22={i:math.log10(i) for i in range(1,11)}"
   ]
  },
  {
   "cell_type": "code",
   "execution_count": 341,
   "id": "3f4ecdd7-b3a0-4bc6-841c-04a254bd5009",
   "metadata": {},
   "outputs": [
    {
     "data": {
      "text/plain": [
       "{'batch_name': ['data science master', 'wed developer', 'jds'],\n",
       " 'start_date': (1, 2, 3),\n",
       " 'Name': 'Sagar IPS'}"
      ]
     },
     "execution_count": 341,
     "metadata": {},
     "output_type": "execute_result"
    }
   ],
   "source": [
    "d16"
   ]
  },
  {
   "cell_type": "code",
   "execution_count": 342,
   "id": "498ae983-0640-4100-9198-8e5d23859035",
   "metadata": {},
   "outputs": [
    {
     "data": {
      "text/plain": [
       "True"
      ]
     },
     "execution_count": 342,
     "metadata": {},
     "output_type": "execute_result"
    }
   ],
   "source": [
    "\"batch_name\" in d16"
   ]
  },
  {
   "cell_type": "code",
   "execution_count": 347,
   "id": "7dd0a805-a518-4b00-8e7b-0c7ba3e2952a",
   "metadata": {},
   "outputs": [
    {
     "data": {
      "text/plain": [
       "{1: 0.0,\n",
       " 2: 0.3010299956639812,\n",
       " 3: 0.47712125471966244,\n",
       " 4: 0.6020599913279624,\n",
       " 5: 0.6989700043360189,\n",
       " 6: 0.7781512503836436,\n",
       " 7: 0.8450980400142568,\n",
       " 8: 0.9030899869919435,\n",
       " 9: 0.9542425094393249,\n",
       " 10: 1.0}"
      ]
     },
     "execution_count": 347,
     "metadata": {},
     "output_type": "execute_result"
    }
   ],
   "source": [
    "d22"
   ]
  },
  {
   "cell_type": "code",
   "execution_count": 349,
   "id": "80964a6d-b03e-4627-900c-6835708486a7",
   "metadata": {},
   "outputs": [
    {
     "data": {
      "text/plain": [
       "dict_keys([1, 2, 3, 4, 5, 6, 7, 8, 9, 10])"
      ]
     },
     "execution_count": 349,
     "metadata": {},
     "output_type": "execute_result"
    }
   ],
   "source": [
    "d22.keys()"
   ]
  },
  {
   "cell_type": "code",
   "execution_count": 350,
   "id": "0d3753b4-23d3-41b7-8f34-c9132f8644ff",
   "metadata": {},
   "outputs": [
    {
     "name": "stdout",
     "output_type": "stream",
     "text": [
      "0.3010299956639812\n",
      "0.6020599913279624\n",
      "0.7781512503836436\n",
      "0.9030899869919435\n",
      "1.0\n"
     ]
    }
   ],
   "source": [
    "for i in d22.keys():\n",
    "    if i%2==0:\n",
    "        print(d22[i])"
   ]
  },
  {
   "cell_type": "code",
   "execution_count": 353,
   "id": "06a9872f-c939-4530-90de-6e26b0f00a90",
   "metadata": {},
   "outputs": [
    {
     "ename": "NameError",
     "evalue": "name 'log2' is not defined",
     "output_type": "error",
     "traceback": [
      "\u001b[0;31m---------------------------------------------------------------------------\u001b[0m",
      "\u001b[0;31mNameError\u001b[0m                                 Traceback (most recent call last)",
      "Cell \u001b[0;32mIn[353], line 2\u001b[0m\n\u001b[1;32m      1\u001b[0m \u001b[38;5;28;01mimport\u001b[39;00m \u001b[38;5;21;01mmath\u001b[39;00m\n\u001b[0;32m----> 2\u001b[0m \u001b[43mlog2\u001b[49m\n",
      "\u001b[0;31mNameError\u001b[0m: name 'log2' is not defined"
     ]
    }
   ],
   "source": [
    "import math\n",
    "log()2"
   ]
  },
  {
   "cell_type": "code",
   "execution_count": null,
   "id": "221dd7ce-e5c8-47b3-90c4-cff19be36000",
   "metadata": {},
   "outputs": [],
   "source": []
  }
 ],
 "metadata": {
  "kernelspec": {
   "display_name": "Python 3 (ipykernel)",
   "language": "python",
   "name": "python3"
  },
  "language_info": {
   "codemirror_mode": {
    "name": "ipython",
    "version": 3
   },
   "file_extension": ".py",
   "mimetype": "text/x-python",
   "name": "python",
   "nbconvert_exporter": "python",
   "pygments_lexer": "ipython3",
   "version": "3.10.8"
  }
 },
 "nbformat": 4,
 "nbformat_minor": 5
}
