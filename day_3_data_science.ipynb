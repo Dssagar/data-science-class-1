{
 "cells": [
  {
   "cell_type": "markdown",
   "id": "032f76f0-bd6f-46b5-9015-79909da6b3a0",
   "metadata": {},
   "source": [
    "## Logical operators\n",
    "1. And\n",
    "2. Or\n",
    "3. not"
   ]
  },
  {
   "cell_type": "code",
   "execution_count": 1,
   "id": "7e39ed5e-6073-4122-b612-cd4992ea008e",
   "metadata": {},
   "outputs": [
    {
     "data": {
      "text/plain": [
       "False"
      ]
     },
     "execution_count": 1,
     "metadata": {},
     "output_type": "execute_result"
    }
   ],
   "source": [
    "True and False"
   ]
  },
  {
   "cell_type": "code",
   "execution_count": 2,
   "id": "65a3fa91-2efb-4e35-af43-b5cde69e272a",
   "metadata": {},
   "outputs": [
    {
     "data": {
      "text/plain": [
       "True"
      ]
     },
     "execution_count": 2,
     "metadata": {},
     "output_type": "execute_result"
    }
   ],
   "source": [
    "True and True"
   ]
  },
  {
   "cell_type": "code",
   "execution_count": 3,
   "id": "aacc46c1-d8c5-4f9e-89b5-3a51a574f6fa",
   "metadata": {},
   "outputs": [
    {
     "data": {
      "text/plain": [
       "False"
      ]
     },
     "execution_count": 3,
     "metadata": {},
     "output_type": "execute_result"
    }
   ],
   "source": [
    "False and True"
   ]
  },
  {
   "cell_type": "code",
   "execution_count": 4,
   "id": "0f581995-1746-4a57-aa82-38ffc67901b6",
   "metadata": {},
   "outputs": [
    {
     "data": {
      "text/plain": [
       "False"
      ]
     },
     "execution_count": 4,
     "metadata": {},
     "output_type": "execute_result"
    }
   ],
   "source": [
    "False and False"
   ]
  },
  {
   "cell_type": "code",
   "execution_count": 5,
   "id": "8a2d1bd2-be37-4ac8-bc9b-08003e2480fe",
   "metadata": {},
   "outputs": [
    {
     "data": {
      "text/plain": [
       "True"
      ]
     },
     "execution_count": 5,
     "metadata": {},
     "output_type": "execute_result"
    }
   ],
   "source": [
    "True or False"
   ]
  },
  {
   "cell_type": "code",
   "execution_count": 7,
   "id": "1d879849-231c-4052-9770-beb5a2f20e42",
   "metadata": {},
   "outputs": [
    {
     "name": "stdout",
     "output_type": "stream",
     "text": [
      "Defined value of START=True\n",
      "Defined value of STOP=False\n",
      "\n",
      "Defined value of START=True\n",
      "Defined value of START=False\n",
      "\n",
      "Value of START by negating STOP=True\n",
      "Defined value of STOP=False\n",
      "\n"
     ]
    }
   ],
   "source": [
    "# lets define two variables having boolean values True and False-\n",
    "START=True\n",
    "STOP=False\n",
    "# Prit the value as it is \n",
    "print(f\"Defined value of START={START}\")\n",
    "print(F\"Defined value of STOP={STOP}\\n\")\n",
    "\n",
    "# if can also be written as-\n",
    "print(f\"Defined value of START={START}\")\n",
    "print(f\"Defined value of START={not START}\\n\")\n",
    "      \n",
    "#alternatively-\n",
    "\n",
    "print(f\"Value of START by negating STOP={not STOP}\")\n",
    "print(f\"Defined value of STOP={STOP}\\n\")\n",
    "\n"
   ]
  },
  {
   "cell_type": "code",
   "execution_count": 8,
   "id": "c9477122-82b7-4b2f-9f18-f3a4b5f7a393",
   "metadata": {},
   "outputs": [
    {
     "data": {
      "text/plain": [
       "False"
      ]
     },
     "execution_count": 8,
     "metadata": {},
     "output_type": "execute_result"
    }
   ],
   "source": [
    "not True"
   ]
  },
  {
   "cell_type": "code",
   "execution_count": 9,
   "id": "d1d343cf-c4b1-4dd2-ad68-72849879df93",
   "metadata": {},
   "outputs": [
    {
     "data": {
      "text/plain": [
       "True"
      ]
     },
     "execution_count": 9,
     "metadata": {},
     "output_type": "execute_result"
    }
   ],
   "source": [
    "not bool(0)"
   ]
  },
  {
   "cell_type": "code",
   "execution_count": 12,
   "id": "4368e408-201e-4b09-bd5e-52264b9972c2",
   "metadata": {},
   "outputs": [
    {
     "data": {
      "text/plain": [
       "True"
      ]
     },
     "execution_count": 12,
     "metadata": {},
     "output_type": "execute_result"
    }
   ],
   "source": [
    "not int(bool(0))"
   ]
  },
  {
   "cell_type": "code",
   "execution_count": 16,
   "id": "7ee4a56b-a4e2-4166-acc8-c4f887d9f191",
   "metadata": {},
   "outputs": [
    {
     "name": "stdout",
     "output_type": "stream",
     "text": [
      "Defined value of START=1\n",
      "Defined value of STOP=0\n",
      "\n",
      "Defined value of START=1\n",
      "Defined value of START=0\n",
      "\n",
      "Value of START by negating STOP=1\n",
      "Defined value of STOP=0\n",
      "\n"
     ]
    }
   ],
   "source": [
    "START=1\n",
    "STOP=0\n",
    "# Prit the value as it is \n",
    "print(f\"Defined value of START={START}\")\n",
    "print(F\"Defined value of STOP={STOP}\\n\")\n",
    "\n",
    "# if can also be written as-\n",
    "print(f\"Defined value of START={START}\")\n",
    "print(f\"Defined value of START={int(not START)}\\n\")\n",
    "      \n",
    "#alternatively-\n",
    "\n",
    "print(f\"Value of START by negating STOP={int(not STOP)}\")\n",
    "print(f\"Defined value of STOP={STOP}\\n\")"
   ]
  },
  {
   "cell_type": "code",
   "execution_count": 17,
   "id": "1afa7cf9-9e79-4d04-be50-2aa2298f0216",
   "metadata": {},
   "outputs": [
    {
     "data": {
      "text/plain": [
       "False"
      ]
     },
     "execution_count": 17,
     "metadata": {},
     "output_type": "execute_result"
    }
   ],
   "source": [
    "not -1"
   ]
  },
  {
   "cell_type": "code",
   "execution_count": 20,
   "id": "1da61ff6-75af-492e-86f6-2f99742eba43",
   "metadata": {},
   "outputs": [
    {
     "name": "stdout",
     "output_type": "stream",
     "text": [
      "boolean value of no.0 is False\n",
      "boolean value of no.1is True\n",
      "negation of 0 is True and negation of 1 is False\n",
      "\n",
      "#----------------#\n",
      "\n"
     ]
    }
   ],
   "source": [
    "zero=0\n",
    "one=1\n",
    "\n",
    "print(f\"boolean value of no.{zero} is {bool(zero)}\")\n",
    "print(f\"boolean value of no.{one}is {bool(one)}\")\n",
    "print(f\"negation of {zero} is {not zero} and negation of {one} is {not one}\")\n",
    "print(\"\\n#----------------#\\n\")"
   ]
  },
  {
   "cell_type": "code",
   "execution_count": 25,
   "id": "6a7cfc12-4271-4879-9a84-eceb3043dc1d",
   "metadata": {},
   "outputs": [
    {
     "data": {
      "text/plain": [
       "True"
      ]
     },
     "execution_count": 25,
     "metadata": {},
     "output_type": "execute_result"
    }
   ],
   "source": [
    "bool(-5)"
   ]
  },
  {
   "cell_type": "code",
   "execution_count": 26,
   "id": "5941489b-5a21-40c7-b3a0-efbed42c3250",
   "metadata": {},
   "outputs": [
    {
     "data": {
      "text/plain": [
       "False"
      ]
     },
     "execution_count": 26,
     "metadata": {},
     "output_type": "execute_result"
    }
   ],
   "source": [
    "not 5"
   ]
  },
  {
   "cell_type": "code",
   "execution_count": 24,
   "id": "5c2b7298-0c33-4317-a7c7-023aa0cea228",
   "metadata": {},
   "outputs": [
    {
     "name": "stdout",
     "output_type": "stream",
     "text": [
      "boolean value of no.-5 is True\n",
      "boolean value of no.5 is True\n",
      "negation of -5 is False and negation of 5 is False\n",
      "\n",
      "#----------------#\n",
      "\n"
     ]
    }
   ],
   "source": [
    "some_negative_integer=-5\n",
    "some_positive_integer=5\n",
    "\n",
    "\n",
    "print(f\"boolean value of no.{some_negative_integer} is {bool(some_negative_integer)}\")\n",
    "print(f\"boolean value of no.{some_positive_integer} is {bool(some_positive_integer)}\")\n",
    "print(f\"negation of {some_negative_integer} is {not some_negative_integer} \\\n",
    "and negation of {some_positive_integer} is {not some_positive_integer}\")\n",
    "print(\"\\n#----------------#\\n\")"
   ]
  },
  {
   "cell_type": "code",
   "execution_count": 27,
   "id": "ced79435-3f4e-4f58-853d-3e08ce00d520",
   "metadata": {},
   "outputs": [
    {
     "name": "stdout",
     "output_type": "stream",
     "text": [
      "boolean value of no.-5.99 is True\n",
      "boolean value of no.5.6 is True\n",
      "negation of -5.99 is False and negation of 5.6 is False\n",
      "\n",
      "#----------------#\n",
      "\n"
     ]
    }
   ],
   "source": [
    "some_negative_float=-5.99\n",
    "some_positive_float=5.6\n",
    "\n",
    "\n",
    "print(f\"boolean value of no.{some_negative_float} is {bool(some_negative_float)}\")\n",
    "print(f\"boolean value of no.{some_positive_float} is {bool(some_positive_float)}\")\n",
    "print(f\"negation of {some_negative_float} is {not some_negative_float} \\\n",
    "and negation of {some_positive_float} is {not some_positive_float}\")\n",
    "print(\"\\n#----------------#\\n\")"
   ]
  },
  {
   "cell_type": "markdown",
   "id": "6a27f42c-268f-4f5b-8c85-239026beb65b",
   "metadata": {},
   "source": [
    "## Logical And"
   ]
  },
  {
   "cell_type": "code",
   "execution_count": 30,
   "id": "968ffdae-c4e7-466c-b51d-f02af6b0a58c",
   "metadata": {},
   "outputs": [
    {
     "name": "stdout",
     "output_type": "stream",
     "text": [
      "dish contains VEGETABLES: True\n",
      "dish contains SALT:False\n",
      "Hence dish prepared was good: False\n",
      "\n"
     ]
    }
   ],
   "source": [
    "VEGETABLES= True\n",
    "SALT=False\n",
    "DISH= VEGETABLES and SALT\n",
    "\n",
    "print(f\"dish contains VEGETABLES: {VEGETABLES}\")\n",
    "print(f\"dish contains SALT:{SALT}\")\n",
    "print(f\"Hence dish prepared was good: {DISH}\\n\")"
   ]
  },
  {
   "cell_type": "code",
   "execution_count": 31,
   "id": "82247bc8-0ae0-40e2-aa9b-87d7c55eb752",
   "metadata": {},
   "outputs": [
    {
     "data": {
      "text/plain": [
       "0"
      ]
     },
     "execution_count": 31,
     "metadata": {},
     "output_type": "execute_result"
    }
   ],
   "source": [
    "True * False"
   ]
  },
  {
   "cell_type": "code",
   "execution_count": 32,
   "id": "d6430b1d-df7e-4639-8164-8a01ad0473e3",
   "metadata": {},
   "outputs": [
    {
     "data": {
      "text/plain": [
       "1"
      ]
     },
     "execution_count": 32,
     "metadata": {},
     "output_type": "execute_result"
    }
   ],
   "source": [
    "True * True"
   ]
  },
  {
   "cell_type": "code",
   "execution_count": 33,
   "id": "01933876-cbf0-4d7e-85b3-118e59936175",
   "metadata": {},
   "outputs": [
    {
     "data": {
      "text/plain": [
       "0"
      ]
     },
     "execution_count": 33,
     "metadata": {},
     "output_type": "execute_result"
    }
   ],
   "source": [
    "False * False"
   ]
  },
  {
   "cell_type": "code",
   "execution_count": 34,
   "id": "8327b8ae-4908-4067-87f1-2fac8a39cc6f",
   "metadata": {},
   "outputs": [
    {
     "data": {
      "text/plain": [
       "True"
      ]
     },
     "execution_count": 34,
     "metadata": {},
     "output_type": "execute_result"
    }
   ],
   "source": [
    "not False * False"
   ]
  },
  {
   "cell_type": "code",
   "execution_count": 36,
   "id": "ee8ddfb6-ba52-44d9-85bd-2c5528ddcc1b",
   "metadata": {},
   "outputs": [
    {
     "data": {
      "text/plain": [
       "0"
      ]
     },
     "execution_count": 36,
     "metadata": {},
     "output_type": "execute_result"
    }
   ],
   "source": [
    "False * (not(False))"
   ]
  },
  {
   "cell_type": "code",
   "execution_count": 37,
   "id": "cc4d01d8-70b7-4ce2-af6b-5ccca077abfb",
   "metadata": {},
   "outputs": [
    {
     "data": {
      "text/plain": [
       "0"
      ]
     },
     "execution_count": 37,
     "metadata": {},
     "output_type": "execute_result"
    }
   ],
   "source": [
    "(not(True)) * False"
   ]
  },
  {
   "cell_type": "code",
   "execution_count": 38,
   "id": "e079d39d-87f8-44fc-b278-8c56e39e8524",
   "metadata": {},
   "outputs": [
    {
     "data": {
      "text/plain": [
       "True"
      ]
     },
     "execution_count": 38,
     "metadata": {},
     "output_type": "execute_result"
    }
   ],
   "source": [
    "not(True) * False"
   ]
  },
  {
   "cell_type": "code",
   "execution_count": 39,
   "id": "cae3ffed-3e74-4b53-a195-3aa1f7f5c7de",
   "metadata": {},
   "outputs": [
    {
     "data": {
      "text/plain": [
       "7"
      ]
     },
     "execution_count": 39,
     "metadata": {},
     "output_type": "execute_result"
    }
   ],
   "source": [
    "1+2*3"
   ]
  },
  {
   "cell_type": "code",
   "execution_count": 40,
   "id": "61b13158-ace6-4771-9e65-c40d064b79af",
   "metadata": {},
   "outputs": [
    {
     "data": {
      "text/plain": [
       "9"
      ]
     },
     "execution_count": 40,
     "metadata": {},
     "output_type": "execute_result"
    }
   ],
   "source": [
    "(1+2)*3"
   ]
  },
  {
   "cell_type": "code",
   "execution_count": 41,
   "id": "bbd27baa-89d2-4dd4-b458-309abd6bed5a",
   "metadata": {},
   "outputs": [
    {
     "data": {
      "text/plain": [
       "True"
      ]
     },
     "execution_count": 41,
     "metadata": {},
     "output_type": "execute_result"
    }
   ],
   "source": [
    "not(False) * False == True"
   ]
  },
  {
   "cell_type": "code",
   "execution_count": 43,
   "id": "b43a864e-92ea-456a-b4cd-d111cd85db1b",
   "metadata": {},
   "outputs": [
    {
     "name": "stdout",
     "output_type": "stream",
     "text": [
      "0\n"
     ]
    }
   ],
   "source": [
    "print((not(False)) * False)"
   ]
  },
  {
   "cell_type": "code",
   "execution_count": 44,
   "id": "14e696fa-9921-4ea4-8087-08a2f30d04d6",
   "metadata": {},
   "outputs": [
    {
     "name": "stdout",
     "output_type": "stream",
     "text": [
      "True\n"
     ]
    }
   ],
   "source": [
    "print(not(False) * False)"
   ]
  },
  {
   "cell_type": "code",
   "execution_count": 45,
   "id": "195ffe5f-67bf-4d1b-94bd-fd35344055a8",
   "metadata": {},
   "outputs": [
    {
     "data": {
      "text/plain": [
       "False"
      ]
     },
     "execution_count": 45,
     "metadata": {},
     "output_type": "execute_result"
    }
   ],
   "source": [
    "False"
   ]
  },
  {
   "cell_type": "code",
   "execution_count": 46,
   "id": "6a01f754-e79f-4f00-8735-89e66375d7b8",
   "metadata": {},
   "outputs": [
    {
     "data": {
      "text/plain": [
       "True"
      ]
     },
     "execution_count": 46,
     "metadata": {},
     "output_type": "execute_result"
    }
   ],
   "source": [
    "not False"
   ]
  },
  {
   "cell_type": "code",
   "execution_count": 47,
   "id": "b1422c18-0f5a-414a-b38d-aa43f94053c4",
   "metadata": {},
   "outputs": [
    {
     "data": {
      "text/plain": [
       "14.0"
      ]
     },
     "execution_count": 47,
     "metadata": {},
     "output_type": "execute_result"
    }
   ],
   "source": [
    "2*3+40/5"
   ]
  },
  {
   "cell_type": "code",
   "execution_count": 48,
   "id": "9d1e2e29-cf53-46bb-a91a-45e267696b92",
   "metadata": {},
   "outputs": [
    {
     "data": {
      "text/plain": [
       "9.2"
      ]
     },
     "execution_count": 48,
     "metadata": {},
     "output_type": "execute_result"
    }
   ],
   "source": [
    "(2*3+40)/5"
   ]
  },
  {
   "cell_type": "code",
   "execution_count": 49,
   "id": "32c3f661-95b0-4a04-8448-d650a4214dfd",
   "metadata": {},
   "outputs": [
    {
     "data": {
      "text/plain": [
       "0"
      ]
     },
     "execution_count": 49,
     "metadata": {},
     "output_type": "execute_result"
    }
   ],
   "source": [
    "False * True"
   ]
  },
  {
   "cell_type": "code",
   "execution_count": 51,
   "id": "8ce95e8b-b3e9-4112-bacf-2ca52c255f84",
   "metadata": {},
   "outputs": [
    {
     "data": {
      "text/plain": [
       "0"
      ]
     },
     "execution_count": 51,
     "metadata": {},
     "output_type": "execute_result"
    }
   ],
   "source": [
    "0*1"
   ]
  },
  {
   "cell_type": "code",
   "execution_count": 54,
   "id": "d1786606-59fa-43eb-b824-b9a9b2b1504c",
   "metadata": {},
   "outputs": [
    {
     "data": {
      "text/plain": [
       "True"
      ]
     },
     "execution_count": 54,
     "metadata": {},
     "output_type": "execute_result"
    }
   ],
   "source": [
    "not(False*True)"
   ]
  },
  {
   "cell_type": "code",
   "execution_count": 55,
   "id": "1d5adfdc-3523-4720-a8e8-6474c43ad5f5",
   "metadata": {},
   "outputs": [
    {
     "data": {
      "text/plain": [
       "False"
      ]
     },
     "execution_count": 55,
     "metadata": {},
     "output_type": "execute_result"
    }
   ],
   "source": [
    "not(1)"
   ]
  },
  {
   "cell_type": "code",
   "execution_count": 56,
   "id": "d274fb02-969b-48bb-b6e8-47f834d8ffc8",
   "metadata": {},
   "outputs": [
    {
     "data": {
      "text/plain": [
       "True"
      ]
     },
     "execution_count": 56,
     "metadata": {},
     "output_type": "execute_result"
    }
   ],
   "source": [
    "not False * True"
   ]
  },
  {
   "cell_type": "code",
   "execution_count": 57,
   "id": "14adbf72-f31c-429a-a0d2-41d5240cc28e",
   "metadata": {},
   "outputs": [
    {
     "data": {
      "text/plain": [
       "True"
      ]
     },
     "execution_count": 57,
     "metadata": {},
     "output_type": "execute_result"
    }
   ],
   "source": [
    "not False * True ==True"
   ]
  },
  {
   "cell_type": "markdown",
   "id": "248a16b9-753d-42a6-92ae-89953647915b",
   "metadata": {},
   "source": [
    "## equality operators\n",
    "### following operations are presenting in python for equality check operation\n",
    " #   operator                       meaning\n",
    "      \n",
    "      is         a is b returns true if variable/identifiers a anad b points to the some object\n",
    "      is not     a is not b returns true if variable/ identifiers a and b points to the diffrent object\n",
    "      ==         a==b returns true if variable/identifiesr a and b has same value\n",
    "      !=         a!=b returns true if variable/identifiers a and b has difrent values\n",
    "      "
   ]
  },
  {
   "cell_type": "code",
   "execution_count": 58,
   "id": "eac67fad-d79b-421d-8241-f0317a91b1f3",
   "metadata": {},
   "outputs": [],
   "source": [
    "lst_a=[1,2,3,4,5,6]\n",
    "lst_b=[1,2,3,4,5,6]"
   ]
  },
  {
   "cell_type": "code",
   "execution_count": 61,
   "id": "c92f922a-99ad-4b67-8e8a-5355a8a4e4ea",
   "metadata": {},
   "outputs": [
    {
     "name": "stdout",
     "output_type": "stream",
     "text": [
      "140588721433024\n",
      "140588721000512\n"
     ]
    }
   ],
   "source": [
    "print(id(lst_a))\n",
    "print(id(lst_b))"
   ]
  },
  {
   "cell_type": "code",
   "execution_count": 62,
   "id": "d1dbd997-65a9-4ee1-a903-45fd34999f22",
   "metadata": {},
   "outputs": [
    {
     "data": {
      "text/plain": [
       "False"
      ]
     },
     "execution_count": 62,
     "metadata": {},
     "output_type": "execute_result"
    }
   ],
   "source": [
    "lst_a is lst_b"
   ]
  },
  {
   "cell_type": "code",
   "execution_count": 63,
   "id": "2b2f0c1a-cda5-4bfe-9078-14cdba872a28",
   "metadata": {},
   "outputs": [],
   "source": [
    "lst_a=[1,2,3,4,5,6]\n",
    "lst_b=lst_a"
   ]
  },
  {
   "cell_type": "code",
   "execution_count": 64,
   "id": "973ea716-f7c0-40da-89d7-f832d8bafb0e",
   "metadata": {},
   "outputs": [
    {
     "name": "stdout",
     "output_type": "stream",
     "text": [
      "140588720000320\n",
      "140588720000320\n"
     ]
    }
   ],
   "source": [
    "print(id(lst_a))\n",
    "print(id(lst_b))"
   ]
  },
  {
   "cell_type": "raw",
   "id": "a882ae67-b416-4fad-a7de-bdc1c80faf7f",
   "metadata": {},
   "source": [
    "above numbers are just memory address id numbers (nooo need to remember)"
   ]
  },
  {
   "cell_type": "code",
   "execution_count": 65,
   "id": "6c28be71-5f71-4bdd-88b5-cd452eb98c77",
   "metadata": {},
   "outputs": [
    {
     "data": {
      "text/plain": [
       "True"
      ]
     },
     "execution_count": 65,
     "metadata": {},
     "output_type": "execute_result"
    }
   ],
   "source": [
    "lst_a is lst_b"
   ]
  },
  {
   "cell_type": "code",
   "execution_count": 66,
   "id": "9c0ee777-b110-4878-ac59-0b4df8107c42",
   "metadata": {},
   "outputs": [
    {
     "data": {
      "text/plain": [
       "True"
      ]
     },
     "execution_count": 66,
     "metadata": {},
     "output_type": "execute_result"
    }
   ],
   "source": [
    "lst_a=[1,2,3,4,5,6]\n",
    "lst_b=[1,2,3,4,5,6]\n",
    "\n",
    "lst_a is not lst_b"
   ]
  },
  {
   "cell_type": "code",
   "execution_count": 67,
   "id": "3cb78c96-7196-4afa-9fa5-a19a1f094b07",
   "metadata": {},
   "outputs": [],
   "source": [
    "a=2\n",
    "b=2"
   ]
  },
  {
   "cell_type": "code",
   "execution_count": 68,
   "id": "e8b7a4ef-4d26-463d-9857-96f1894d59e5",
   "metadata": {},
   "outputs": [
    {
     "name": "stdout",
     "output_type": "stream",
     "text": [
      "140589069304080\n",
      "140589069304080\n"
     ]
    }
   ],
   "source": [
    "print(id(a))\n",
    "print(id(a))"
   ]
  },
  {
   "cell_type": "code",
   "execution_count": 73,
   "id": "a6e21869-00b0-4d88-aa2c-adc36dd98379",
   "metadata": {},
   "outputs": [
    {
     "name": "stdout",
     "output_type": "stream",
     "text": [
      "140588719911536\n",
      "140588719911536\n"
     ]
    }
   ],
   "source": [
    "str1=\"sagar\"\n",
    "str2=\"sagar\"\n",
    "print(id(str1))\n",
    "print(id(str2))"
   ]
  },
  {
   "cell_type": "code",
   "execution_count": 79,
   "id": "aa1da7ec-8cba-4853-bf98-fa003d5456eb",
   "metadata": {},
   "outputs": [],
   "source": [
    "## immutable\n",
    "str1=\"sagar\"\n",
    "str2=\"sagar123\"\n"
   ]
  },
  {
   "cell_type": "code",
   "execution_count": 76,
   "id": "72eb1fb6-f107-45e2-9f5a-a0db4455ee5a",
   "metadata": {},
   "outputs": [
    {
     "name": "stdout",
     "output_type": "stream",
     "text": [
      "140588719911536\n",
      "140589020714160\n"
     ]
    }
   ],
   "source": [
    "print(id(str1))\n",
    "print(id(str2))"
   ]
  },
  {
   "cell_type": "code",
   "execution_count": 78,
   "id": "2094f744-0f7b-4e22-90df-39dc17d31b0b",
   "metadata": {},
   "outputs": [
    {
     "ename": "TypeError",
     "evalue": "'str' object does not support item assignment",
     "output_type": "error",
     "traceback": [
      "\u001b[0;31m---------------------------------------------------------------------------\u001b[0m",
      "\u001b[0;31mTypeError\u001b[0m                                 Traceback (most recent call last)",
      "Cell \u001b[0;32mIn[78], line 1\u001b[0m\n\u001b[0;32m----> 1\u001b[0m \u001b[43mstr1\u001b[49m\u001b[43m[\u001b[49m\u001b[38;5;241;43m0\u001b[39;49m\u001b[43m]\u001b[49m\u001b[38;5;241m=\u001b[39m\u001b[38;5;124m'\u001b[39m\u001b[38;5;124mN\u001b[39m\u001b[38;5;124m'\u001b[39m  \u001b[38;5;66;03m##immutable\u001b[39;00m\n",
      "\u001b[0;31mTypeError\u001b[0m: 'str' object does not support item assignment"
     ]
    }
   ],
   "source": [
    "str1[0]='N'  ##immutable"
   ]
  },
  {
   "cell_type": "raw",
   "id": "e91f1ec6-c7f9-46c7-a96c-0b80179337d4",
   "metadata": {},
   "source": [
    "to get below table we need to type a code like this,\n",
    "\n",
    "\n",
    "|operation | meaning |\n",
    "|:-:|:-:|\n",
    "|**<**|less than|\n",
    "|**<=**|less than or equal to|\n",
    "|**>**|greater than|\n",
    "|**>=|greater than or equal to|"
   ]
  },
  {
   "cell_type": "markdown",
   "id": "0e67c90c-e564-4252-9278-3689e489038a",
   "metadata": {},
   "source": [
    "## comparison operation"
   ]
  },
  {
   "cell_type": "markdown",
   "id": "fed1a0ba-39f1-4c15-b268-fe813dc5c770",
   "metadata": {},
   "source": [
    "|operation|meaning |\n",
    "|:-:|:-:|\n",
    "|**<**|less than|\n",
    "|**<=**|less than or equal to|\n",
    "|**>**|greater than|\n",
    "|**>=|greater than or equal to|"
   ]
  },
  {
   "cell_type": "code",
   "execution_count": 93,
   "id": "0cb5685b-940a-4004-ada5-12ada571ec0d",
   "metadata": {},
   "outputs": [
    {
     "name": "stdout",
     "output_type": "stream",
     "text": [
      "bike is faster than car:True\n"
     ]
    }
   ],
   "source": [
    "maximum_speed_of_bike = 150\n",
    "maximum_speed_of_car = 200\n",
    "\n",
    "\n",
    "print(f\"bike is faster than car:{maximum_speed_of_bike <= maximum_speed_of_car}\")"
   ]
  },
  {
   "cell_type": "code",
   "execution_count": 95,
   "id": "1f196ba6-8a25-4c00-99e7-8ff92233202e",
   "metadata": {},
   "outputs": [
    {
     "name": "stdout",
     "output_type": "stream",
     "text": [
      "bike is faster than car:False\n"
     ]
    }
   ],
   "source": [
    "print(f\"bike is faster than car:{maximum_speed_of_bike >= maximum_speed_of_car}\")"
   ]
  },
  {
   "cell_type": "code",
   "execution_count": 96,
   "id": "c122c523-a96e-4639-96e4-5a6e8e8335ae",
   "metadata": {},
   "outputs": [
    {
     "name": "stdout",
     "output_type": "stream",
     "text": [
      "bike is faster than car:True\n"
     ]
    }
   ],
   "source": [
    "maximum_speed_of_bike = 200\n",
    "maximum_speed_of_car = 200\n",
    "\n",
    "\n",
    "print(f\"bike is faster than car:{maximum_speed_of_bike <= maximum_speed_of_car}\")"
   ]
  },
  {
   "cell_type": "code",
   "execution_count": 97,
   "id": "705b0238-7bdf-4cd7-b687-cd1c54195c59",
   "metadata": {},
   "outputs": [
    {
     "name": "stdout",
     "output_type": "stream",
     "text": [
      "bike is faster than car:True\n"
     ]
    }
   ],
   "source": [
    "print(f\"bike is faster than car:{maximum_speed_of_bike >= maximum_speed_of_car}\")"
   ]
  },
  {
   "cell_type": "markdown",
   "id": "093478f3-d75e-4182-9700-04425e1987cc",
   "metadata": {},
   "source": [
    "# arithmetic operation"
   ]
  },
  {
   "cell_type": "raw",
   "id": "c6701dfc-ea1c-456a-949a-524c163ffe6c",
   "metadata": {},
   "source": [
    "| operation | meaning |\n",
    "|:-:|:-:|\n",
    "|**+**| addition |\n",
    "|**-**| substraction|\n",
    "|**/**| true division|\n",
    "|**\\**| multiplication|\n",
    "|**//**| integer division|\n",
    "|**%**| the modulo operator|\n",
    "to get below table"
   ]
  },
  {
   "cell_type": "markdown",
   "id": "556b49aa-d3b9-4a76-9ed8-c1a1a8ec7bd5",
   "metadata": {},
   "source": [
    "| operation | meaning |\n",
    "|:-:|:-:|\n",
    "|**+**| addition |\n",
    "|**-**| substraction|\n",
    "|**/**| true division|\n",
    "|**\\**| multiplication|\n",
    "|**//**| integer division|\n",
    "|**%**| the modulo operator|"
   ]
  },
  {
   "cell_type": "code",
   "execution_count": 98,
   "id": "278e4849-9072-416e-b68f-fb6456621810",
   "metadata": {},
   "outputs": [],
   "source": [
    "a=25\n",
    "b=102\n"
   ]
  },
  {
   "cell_type": "code",
   "execution_count": 99,
   "id": "bb9f97bf-a3ea-45b6-9bfc-5a7444d08428",
   "metadata": {},
   "outputs": [
    {
     "data": {
      "text/plain": [
       "127"
      ]
     },
     "execution_count": 99,
     "metadata": {},
     "output_type": "execute_result"
    }
   ],
   "source": [
    "a+b"
   ]
  },
  {
   "cell_type": "code",
   "execution_count": 100,
   "id": "22adbb1f-2a5a-4c7d-807b-629f85e556ea",
   "metadata": {},
   "outputs": [
    {
     "data": {
      "text/plain": [
       "-77"
      ]
     },
     "execution_count": 100,
     "metadata": {},
     "output_type": "execute_result"
    }
   ],
   "source": [
    "a-b"
   ]
  },
  {
   "cell_type": "code",
   "execution_count": 101,
   "id": "957103bf-c7f5-4461-ba56-4c69d7d85890",
   "metadata": {},
   "outputs": [
    {
     "data": {
      "text/plain": [
       "77"
      ]
     },
     "execution_count": 101,
     "metadata": {},
     "output_type": "execute_result"
    }
   ],
   "source": [
    "b-a"
   ]
  },
  {
   "cell_type": "code",
   "execution_count": 102,
   "id": "0c922839-3192-4f3a-bf4d-13a8a1c3fe3b",
   "metadata": {},
   "outputs": [
    {
     "data": {
      "text/plain": [
       "0.24509803921568626"
      ]
     },
     "execution_count": 102,
     "metadata": {},
     "output_type": "execute_result"
    }
   ],
   "source": [
    "a/b"
   ]
  },
  {
   "cell_type": "code",
   "execution_count": 105,
   "id": "ddabe8b7-b2a1-43fc-a9d8-310719cc1ead",
   "metadata": {},
   "outputs": [
    {
     "data": {
      "text/plain": [
       "0"
      ]
     },
     "execution_count": 105,
     "metadata": {},
     "output_type": "execute_result"
    }
   ],
   "source": [
    "a//b"
   ]
  },
  {
   "cell_type": "code",
   "execution_count": 106,
   "id": "e319bf25-d103-4d21-8242-58f299a2cb0c",
   "metadata": {},
   "outputs": [
    {
     "data": {
      "text/plain": [
       "38893845486632135669650400336125776503689076054507294581881978842435617712721146507399655144535710105981041184719515513279475271701812744140625"
      ]
     },
     "execution_count": 106,
     "metadata": {},
     "output_type": "execute_result"
    }
   ],
   "source": [
    "a**b"
   ]
  },
  {
   "cell_type": "code",
   "execution_count": 110,
   "id": "7d53097b-d570-4011-895d-4eaadf441fc0",
   "metadata": {},
   "outputs": [
    {
     "data": {
      "text/plain": [
       "4"
      ]
     },
     "execution_count": 110,
     "metadata": {},
     "output_type": "execute_result"
    }
   ],
   "source": [
    "b//a\n",
    "# integer that only shows first digit only for example =4.5455\n",
    "#it only shows 4"
   ]
  },
  {
   "cell_type": "code",
   "execution_count": 113,
   "id": "1f10c02b-bbf2-4d0a-af6d-12f47c4f8ca1",
   "metadata": {},
   "outputs": [
    {
     "data": {
      "text/plain": [
       "25"
      ]
     },
     "execution_count": 113,
     "metadata": {},
     "output_type": "execute_result"
    }
   ],
   "source": [
    "## disply the remainder\n",
    "a%b"
   ]
  },
  {
   "cell_type": "code",
   "execution_count": 114,
   "id": "2736c8e3-3f32-42ec-afff-18a18e8a2379",
   "metadata": {},
   "outputs": [
    {
     "data": {
      "text/plain": [
       "2"
      ]
     },
     "execution_count": 114,
     "metadata": {},
     "output_type": "execute_result"
    }
   ],
   "source": [
    "b%a"
   ]
  },
  {
   "cell_type": "raw",
   "id": "12aa1833-7852-43f3-9334-6d1c3eb2cbec",
   "metadata": {},
   "source": [
    "Bitwise operators\n",
    "|operation |meaning|\n",
    "|:-:|:-:|\n",
    "|**~**|bitwise complement(prefix unary operator)|\n",
    "|**&**|bitwise and|\n",
    "|**\\|** |bitwise or|\n",
    "|**^**|bitwise exclusive-or|\n",
    "|**<<**| shift bits left, filling in with zeros|\n",
    "|**>>**| shift bits right, filling in with sigh bit|"
   ]
  },
  {
   "cell_type": "markdown",
   "id": "82c0e002-c5ff-4e2c-947b-a53536097fcb",
   "metadata": {},
   "source": [
    "|operation |meaning|\n",
    "|:-:|:-:|\n",
    "|**~**|bitwise complement(prefix unary operator)|\n",
    "|**&**|bitwise and|\n",
    "|**\\|** |bitwise or|\n",
    "|**^**|bitwise exclusive-or|\n",
    "|**<<**| shift bits left, filling in with zeros|\n",
    "|**>>**| shift bits right, filling in with sigh bit|"
   ]
  },
  {
   "cell_type": "code",
   "execution_count": 115,
   "id": "9ab2b5e4-237f-4f34-abd5-86d56bb328d1",
   "metadata": {},
   "outputs": [
    {
     "data": {
      "text/plain": [
       "'0b1010'"
      ]
     },
     "execution_count": 115,
     "metadata": {},
     "output_type": "execute_result"
    }
   ],
   "source": [
    "var=10\n",
    "bin(var)"
   ]
  },
  {
   "cell_type": "code",
   "execution_count": 116,
   "id": "34d8135a-8b70-40cb-96d6-8c3d81d4db2e",
   "metadata": {},
   "outputs": [
    {
     "data": {
      "text/plain": [
       "-11"
      ]
     },
     "execution_count": 116,
     "metadata": {},
     "output_type": "execute_result"
    }
   ],
   "source": [
    "~var"
   ]
  },
  {
   "cell_type": "code",
   "execution_count": 117,
   "id": "7703488e-ac7f-4cd1-87a0-c442a960e27d",
   "metadata": {},
   "outputs": [
    {
     "data": {
      "text/plain": [
       "True"
      ]
     },
     "execution_count": 117,
     "metadata": {},
     "output_type": "execute_result"
    }
   ],
   "source": [
    "True | False"
   ]
  },
  {
   "cell_type": "code",
   "execution_count": 118,
   "id": "eb28e7a6-55e5-407d-acc9-6e8ac7b19c3d",
   "metadata": {},
   "outputs": [
    {
     "data": {
      "text/plain": [
       "False"
      ]
     },
     "execution_count": 118,
     "metadata": {},
     "output_type": "execute_result"
    }
   ],
   "source": [
    "False & True"
   ]
  },
  {
   "cell_type": "code",
   "execution_count": 119,
   "id": "92205535-36cd-4cb0-889c-a02609668fba",
   "metadata": {},
   "outputs": [
    {
     "data": {
      "text/plain": [
       "5"
      ]
     },
     "execution_count": 119,
     "metadata": {},
     "output_type": "execute_result"
    }
   ],
   "source": [
    "var >> 1"
   ]
  },
  {
   "cell_type": "code",
   "execution_count": 120,
   "id": "1992ca29-7503-4a5d-a51e-230fe84c89cc",
   "metadata": {},
   "outputs": [
    {
     "data": {
      "text/plain": [
       "20"
      ]
     },
     "execution_count": 120,
     "metadata": {},
     "output_type": "execute_result"
    }
   ],
   "source": [
    "var<< 1"
   ]
  },
  {
   "cell_type": "markdown",
   "id": "5949194f-e53c-4123-8b4b-6b88dbcba9a9",
   "metadata": {},
   "source": [
    "# strings"
   ]
  },
  {
   "cell_type": "code",
   "execution_count": 121,
   "id": "6958a057-db0a-4110-b461-427aa2625066",
   "metadata": {},
   "outputs": [
    {
     "data": {
      "text/plain": [
       "'WelcomE to Data Scince Masters'"
      ]
     },
     "execution_count": 121,
     "metadata": {},
     "output_type": "execute_result"
    }
   ],
   "source": [
    "'sagar'\n",
    "\"WelcomE to Data Scince Masters\""
   ]
  },
  {
   "cell_type": "code",
   "execution_count": 122,
   "id": "2ea545a5-5882-4221-b917-6ed0317a1275",
   "metadata": {},
   "outputs": [],
   "source": [
    "str1=\"Welcome to Data Science Masters\""
   ]
  },
  {
   "cell_type": "code",
   "execution_count": 123,
   "id": "cb0d5d9a-2193-4bc8-bb40-dc79f0c59c09",
   "metadata": {},
   "outputs": [
    {
     "data": {
      "text/plain": [
       "str"
      ]
     },
     "execution_count": 123,
     "metadata": {},
     "output_type": "execute_result"
    }
   ],
   "source": [
    "type(str1)"
   ]
  },
  {
   "cell_type": "code",
   "execution_count": 124,
   "id": "d1b9cc71-88f5-45c2-8846-4b1994dc6280",
   "metadata": {},
   "outputs": [
    {
     "ename": "TypeError",
     "evalue": "'type' object does not support item assignment",
     "output_type": "error",
     "traceback": [
      "\u001b[0;31m---------------------------------------------------------------------------\u001b[0m",
      "\u001b[0;31mTypeError\u001b[0m                                 Traceback (most recent call last)",
      "Cell \u001b[0;32mIn[124], line 2\u001b[0m\n\u001b[1;32m      1\u001b[0m \u001b[38;5;66;03m## immutable\u001b[39;00m\n\u001b[0;32m----> 2\u001b[0m \u001b[38;5;28;43mstr\u001b[39;49m\u001b[43m[\u001b[49m\u001b[38;5;241;43m0\u001b[39;49m\u001b[43m]\u001b[49m\u001b[38;5;241m=\u001b[39m\u001b[38;5;241m12\u001b[39m\n",
      "\u001b[0;31mTypeError\u001b[0m: 'type' object does not support item assignment"
     ]
    }
   ],
   "source": [
    "## immutable\n",
    "str[0]=12"
   ]
  },
  {
   "cell_type": "code",
   "execution_count": 125,
   "id": "1d9f1b64-d49b-4cc4-a7f9-93f26fb77d5c",
   "metadata": {},
   "outputs": [],
   "source": [
    "str1=\"sagar\""
   ]
  },
  {
   "cell_type": "code",
   "execution_count": 127,
   "id": "95bec818-6c2d-4fc2-86bb-f1ed4d77c82d",
   "metadata": {},
   "outputs": [
    {
     "data": {
      "text/plain": [
       "'sagar'"
      ]
     },
     "execution_count": 127,
     "metadata": {},
     "output_type": "execute_result"
    }
   ],
   "source": [
    "str1"
   ]
  },
  {
   "cell_type": "code",
   "execution_count": 134,
   "id": "c4bb3794-c070-4af2-9605-caf55c5abdb8",
   "metadata": {},
   "outputs": [
    {
     "data": {
      "text/plain": [
       "<function str.capitalize()>"
      ]
     },
     "execution_count": 134,
     "metadata": {},
     "output_type": "execute_result"
    }
   ],
   "source": [
    "str1.capitalize\n",
    "#press tab it gives some inbuilt functions"
   ]
  },
  {
   "cell_type": "code",
   "execution_count": 132,
   "id": "7c00d8f7-96c9-4717-9e97-30c381797039",
   "metadata": {},
   "outputs": [
    {
     "data": {
      "text/plain": [
       "['__add__',\n",
       " '__class__',\n",
       " '__contains__',\n",
       " '__delattr__',\n",
       " '__dir__',\n",
       " '__doc__',\n",
       " '__eq__',\n",
       " '__format__',\n",
       " '__ge__',\n",
       " '__getattribute__',\n",
       " '__getitem__',\n",
       " '__getnewargs__',\n",
       " '__gt__',\n",
       " '__hash__',\n",
       " '__init__',\n",
       " '__init_subclass__',\n",
       " '__iter__',\n",
       " '__le__',\n",
       " '__len__',\n",
       " '__lt__',\n",
       " '__mod__',\n",
       " '__mul__',\n",
       " '__ne__',\n",
       " '__new__',\n",
       " '__reduce__',\n",
       " '__reduce_ex__',\n",
       " '__repr__',\n",
       " '__rmod__',\n",
       " '__rmul__',\n",
       " '__setattr__',\n",
       " '__sizeof__',\n",
       " '__str__',\n",
       " '__subclasshook__',\n",
       " 'capitalize',\n",
       " 'casefold',\n",
       " 'center',\n",
       " 'count',\n",
       " 'encode',\n",
       " 'endswith',\n",
       " 'expandtabs',\n",
       " 'find',\n",
       " 'format',\n",
       " 'format_map',\n",
       " 'index',\n",
       " 'isalnum',\n",
       " 'isalpha',\n",
       " 'isascii',\n",
       " 'isdecimal',\n",
       " 'isdigit',\n",
       " 'isidentifier',\n",
       " 'islower',\n",
       " 'isnumeric',\n",
       " 'isprintable',\n",
       " 'isspace',\n",
       " 'istitle',\n",
       " 'isupper',\n",
       " 'join',\n",
       " 'ljust',\n",
       " 'lower',\n",
       " 'lstrip',\n",
       " 'maketrans',\n",
       " 'partition',\n",
       " 'removeprefix',\n",
       " 'removesuffix',\n",
       " 'replace',\n",
       " 'rfind',\n",
       " 'rindex',\n",
       " 'rjust',\n",
       " 'rpartition',\n",
       " 'rsplit',\n",
       " 'rstrip',\n",
       " 'split',\n",
       " 'splitlines',\n",
       " 'startswith',\n",
       " 'strip',\n",
       " 'swapcase',\n",
       " 'title',\n",
       " 'translate',\n",
       " 'upper',\n",
       " 'zfill']"
      ]
     },
     "execution_count": 132,
     "metadata": {},
     "output_type": "execute_result"
    }
   ],
   "source": [
    "## just to reffrence\n",
    "dir(str1)"
   ]
  },
  {
   "cell_type": "code",
   "execution_count": 135,
   "id": "4ade42d1-a08b-4868-a19c-51cf41d24cf8",
   "metadata": {},
   "outputs": [],
   "source": [
    "string=\"pw skills Data Science\""
   ]
  },
  {
   "cell_type": "code",
   "execution_count": 136,
   "id": "40070dea-4d97-4a8c-97bc-a4438b31b9ea",
   "metadata": {},
   "outputs": [
    {
     "data": {
      "text/plain": [
       "'i'"
      ]
     },
     "execution_count": 136,
     "metadata": {},
     "output_type": "execute_result"
    }
   ],
   "source": [
    "string[5]"
   ]
  },
  {
   "cell_type": "code",
   "execution_count": 139,
   "id": "e8041d65-6e98-4b74-b7ad-5c4f89358ef1",
   "metadata": {},
   "outputs": [
    {
     "data": {
      "text/plain": [
       "'ills Data Science'"
      ]
     },
     "execution_count": 139,
     "metadata": {},
     "output_type": "execute_result"
    }
   ],
   "source": [
    "## slice operation\n",
    "string[5:]"
   ]
  },
  {
   "cell_type": "code",
   "execution_count": 140,
   "id": "d5c09ecc-c692-4f9d-b4c7-343e67c09719",
   "metadata": {},
   "outputs": [
    {
     "data": {
      "text/plain": [
       "'ills '"
      ]
     },
     "execution_count": 140,
     "metadata": {},
     "output_type": "execute_result"
    }
   ],
   "source": [
    "string[5:10]"
   ]
  },
  {
   "cell_type": "code",
   "execution_count": 141,
   "id": "ba40fc70-d372-4764-bd1b-3a58c50ddaf4",
   "metadata": {},
   "outputs": [
    {
     "data": {
      "text/plain": [
       "'e'"
      ]
     },
     "execution_count": 141,
     "metadata": {},
     "output_type": "execute_result"
    }
   ],
   "source": [
    "string[-1]"
   ]
  },
  {
   "cell_type": "code",
   "execution_count": 143,
   "id": "801b5783-f713-46a5-b532-ab5ed1ad3b33",
   "metadata": {},
   "outputs": [
    {
     "data": {
      "text/plain": [
       "'nce'"
      ]
     },
     "execution_count": 143,
     "metadata": {},
     "output_type": "execute_result"
    }
   ],
   "source": [
    "string[-3:]"
   ]
  },
  {
   "cell_type": "code",
   "execution_count": 144,
   "id": "a48841fe-e0b8-4779-ade5-9329604aaa21",
   "metadata": {},
   "outputs": [
    {
     "data": {
      "text/plain": [
       "''"
      ]
     },
     "execution_count": 144,
     "metadata": {},
     "output_type": "execute_result"
    }
   ],
   "source": [
    "string[-4:5]"
   ]
  },
  {
   "cell_type": "code",
   "execution_count": 149,
   "id": "a84b2e6a-07ea-423c-a5a5-05f4f408c964",
   "metadata": {},
   "outputs": [
    {
     "data": {
      "text/plain": [
       "'pw skills Data Scienc'"
      ]
     },
     "execution_count": 149,
     "metadata": {},
     "output_type": "execute_result"
    }
   ],
   "source": [
    "string[:-1]"
   ]
  },
  {
   "cell_type": "code",
   "execution_count": 153,
   "id": "c7bd5d65-250c-4595-b7ce-538c9ef5ca9a",
   "metadata": {},
   "outputs": [
    {
     "data": {
      "text/plain": [
       "'pw skills Data Science'"
      ]
     },
     "execution_count": 153,
     "metadata": {},
     "output_type": "execute_result"
    }
   ],
   "source": [
    "string[:]\n",
    "#collen for everything"
   ]
  },
  {
   "cell_type": "code",
   "execution_count": 151,
   "id": "a873cfc0-7252-46e8-b47f-21542a7e99cf",
   "metadata": {},
   "outputs": [
    {
     "data": {
      "text/plain": [
       "'pw skills Data Sc'"
      ]
     },
     "execution_count": 151,
     "metadata": {},
     "output_type": "execute_result"
    }
   ],
   "source": [
    "string[:-5]"
   ]
  },
  {
   "cell_type": "code",
   "execution_count": 152,
   "id": "b8236468-c0c8-466d-a35a-9bdffbc1ea17",
   "metadata": {},
   "outputs": [
    {
     "data": {
      "text/plain": [
       "'saga'"
      ]
     },
     "execution_count": 152,
     "metadata": {},
     "output_type": "execute_result"
    }
   ],
   "source": [
    "name=\"sagar\"\n",
    "name[-5:4]"
   ]
  },
  {
   "cell_type": "code",
   "execution_count": 156,
   "id": "131805bc-de95-4c9a-9121-6d838ccae8bb",
   "metadata": {},
   "outputs": [
    {
     "data": {
      "text/plain": [
       "'ecneicS ataD slliks wp'"
      ]
     },
     "execution_count": 156,
     "metadata": {},
     "output_type": "execute_result"
    }
   ],
   "source": [
    "string[::-1]\n",
    "# if we put double collen then string becomes reverse order"
   ]
  },
  {
   "cell_type": "code",
   "execution_count": 157,
   "id": "9676524f-e245-4263-9980-cada6e3f43fc",
   "metadata": {},
   "outputs": [
    {
     "data": {
      "text/plain": [
       "'eeSt lsp'"
      ]
     },
     "execution_count": 157,
     "metadata": {},
     "output_type": "execute_result"
    }
   ],
   "source": [
    "string[::-3]"
   ]
  },
  {
   "cell_type": "code",
   "execution_count": 158,
   "id": "269b0bf4-e4c9-49b5-9a10-11606c2645f8",
   "metadata": {},
   "outputs": [
    {
     "data": {
      "text/plain": [
       "'liks wp'"
      ]
     },
     "execution_count": 158,
     "metadata": {},
     "output_type": "execute_result"
    }
   ],
   "source": [
    "string[6::-1]"
   ]
  },
  {
   "cell_type": "code",
   "execution_count": 159,
   "id": "58feca57-ed16-46d6-8a5c-7431c5a8bb49",
   "metadata": {},
   "outputs": [],
   "source": [
    "name=\"Sagar\""
   ]
  },
  {
   "cell_type": "code",
   "execution_count": 162,
   "id": "b1c58c1a-9dde-4d85-adc1-41e707e7d528",
   "metadata": {},
   "outputs": [
    {
     "data": {
      "text/plain": [
       "'ragaS'"
      ]
     },
     "execution_count": 162,
     "metadata": {},
     "output_type": "execute_result"
    }
   ],
   "source": [
    "name[::-1]"
   ]
  },
  {
   "cell_type": "code",
   "execution_count": 164,
   "id": "9c0709bd-8cdc-42ec-8e48-13789fc54050",
   "metadata": {},
   "outputs": [
    {
     "data": {
      "text/plain": [
       "'ra'"
      ]
     },
     "execution_count": 164,
     "metadata": {},
     "output_type": "execute_result"
    }
   ],
   "source": [
    "name[::-3]"
   ]
  },
  {
   "cell_type": "code",
   "execution_count": null,
   "id": "d21d8016-11f0-4fbc-98df-5c5187337a53",
   "metadata": {},
   "outputs": [],
   "source": [
    "name[2::-1]"
   ]
  },
  {
   "cell_type": "code",
   "execution_count": 167,
   "id": "0af7dae3-19db-4482-9fee-dbb50ea93852",
   "metadata": {},
   "outputs": [],
   "source": [
    "course_name=\"Data Science Master\""
   ]
  },
  {
   "cell_type": "raw",
   "id": "da4246ec-99c9-49a6-bdfa-78a3c8800ff1",
   "metadata": {},
   "source": [
    "double collen and -1 will do reverse the statement"
   ]
  },
  {
   "cell_type": "code",
   "execution_count": 170,
   "id": "943d095d-b64e-40f4-8ae4-19d0a7e5f9d9",
   "metadata": {},
   "outputs": [
    {
     "data": {
      "text/plain": [
       "'retsaM ecneicS ataD'"
      ]
     },
     "execution_count": 170,
     "metadata": {},
     "output_type": "execute_result"
    }
   ],
   "source": [
    "course_name[::-1]"
   ]
  },
  {
   "cell_type": "code",
   "execution_count": 171,
   "id": "0c65b14f-5905-4e60-8102-cfcd9ec6a60e",
   "metadata": {},
   "outputs": [
    {
     "data": {
      "text/plain": [
       "'Science'"
      ]
     },
     "execution_count": 171,
     "metadata": {},
     "output_type": "execute_result"
    }
   ],
   "source": [
    "course_name[5:12]"
   ]
  },
  {
   "cell_type": "code",
   "execution_count": 172,
   "id": "02eebb41-55d5-4f33-a278-077c2ae02b5f",
   "metadata": {},
   "outputs": [
    {
     "data": {
      "text/plain": [
       "'ecneicS'"
      ]
     },
     "execution_count": 172,
     "metadata": {},
     "output_type": "execute_result"
    }
   ],
   "source": [
    "course_name[11:4:-1]"
   ]
  },
  {
   "cell_type": "code",
   "execution_count": 175,
   "id": "609f6e31-50e2-4780-bbe5-9b27b14fad1a",
   "metadata": {},
   "outputs": [
    {
     "data": {
      "text/plain": [
       "'e Ma'"
      ]
     },
     "execution_count": 175,
     "metadata": {},
     "output_type": "execute_result"
    }
   ],
   "source": [
    "course_name[11:-4]"
   ]
  },
  {
   "cell_type": "code",
   "execution_count": 176,
   "id": "15290a1b-21d7-4f58-afb2-5f29d0cf52cb",
   "metadata": {},
   "outputs": [
    {
     "data": {
      "text/plain": [
       "'Science'"
      ]
     },
     "execution_count": 176,
     "metadata": {},
     "output_type": "execute_result"
    }
   ],
   "source": [
    "course_name[5:12]"
   ]
  },
  {
   "cell_type": "raw",
   "id": "ac404304-5847-48ed-bd0a-b602e3a5b0fe",
   "metadata": {},
   "source": [
    "course_name=\"Data Science Master\"\n",
    "starts from D as 0 then it ends with space behind the s\n",
    "12 ends with space after the e \n",
    "then the word science willslice into single word and exeucate in output"
   ]
  },
  {
   "cell_type": "code",
   "execution_count": 182,
   "id": "d2e9c57e-2a4a-4e0a-8d29-cd6d8a8b99ac",
   "metadata": {},
   "outputs": [
    {
     "data": {
      "text/plain": [
       "'Data Science Mastercourse'"
      ]
     },
     "execution_count": 182,
     "metadata": {},
     "output_type": "execute_result"
    }
   ],
   "source": [
    "##concatenation\n",
    "course_name + \"course\""
   ]
  },
  {
   "cell_type": "code",
   "execution_count": 183,
   "id": "10905048-8de5-46ae-8193-45a31d0d242b",
   "metadata": {},
   "outputs": [
    {
     "name": "stdout",
     "output_type": "stream",
     "text": [
      "helloworld\n"
     ]
    }
   ],
   "source": [
    "print(\"hello\"\"world\")"
   ]
  },
  {
   "cell_type": "code",
   "execution_count": 184,
   "id": "ec9b54f9-1bd8-46f8-bcee-a6e8e436dc0d",
   "metadata": {},
   "outputs": [
    {
     "data": {
      "text/plain": [
       "'Data Science MasterData Science MasterData Science MasterData Science MasterData Science Master'"
      ]
     },
     "execution_count": 184,
     "metadata": {},
     "output_type": "execute_result"
    }
   ],
   "source": [
    "course_name *5"
   ]
  },
  {
   "cell_type": "code",
   "execution_count": 186,
   "id": "b7ed1ac5-e669-4cc2-af22-41a7374a633f",
   "metadata": {},
   "outputs": [
    {
     "data": {
      "text/plain": [
       "19"
      ]
     },
     "execution_count": 186,
     "metadata": {},
     "output_type": "execute_result"
    }
   ],
   "source": [
    "len(course_name)\n",
    "## it gives length of the statement"
   ]
  },
  {
   "cell_type": "code",
   "execution_count": 193,
   "id": "82322ed6-855d-437b-9e2e-f57bc0d204b1",
   "metadata": {},
   "outputs": [
    {
     "data": {
      "text/plain": [
       "9"
      ]
     },
     "execution_count": 193,
     "metadata": {},
     "output_type": "execute_result"
    }
   ],
   "source": [
    "course_name.find(\"n\")"
   ]
  },
  {
   "cell_type": "code",
   "execution_count": 194,
   "id": "09196bb6-02a9-466d-934d-1d5c11000144",
   "metadata": {},
   "outputs": [
    {
     "data": {
      "text/plain": [
       "3"
      ]
     },
     "execution_count": 194,
     "metadata": {},
     "output_type": "execute_result"
    }
   ],
   "source": [
    "course_name.find(\"a\",2,10)"
   ]
  },
  {
   "cell_type": "code",
   "execution_count": 195,
   "id": "421827ab-fc70-4537-aeaa-e776dfe55bd5",
   "metadata": {},
   "outputs": [
    {
     "data": {
      "text/plain": [
       "-1"
      ]
     },
     "execution_count": 195,
     "metadata": {},
     "output_type": "execute_result"
    }
   ],
   "source": [
    "course_name.find(\"z\")"
   ]
  },
  {
   "cell_type": "code",
   "execution_count": 196,
   "id": "8d491fba-c299-44af-83e1-040ebf7e7776",
   "metadata": {},
   "outputs": [
    {
     "data": {
      "text/plain": [
       "3"
      ]
     },
     "execution_count": 196,
     "metadata": {},
     "output_type": "execute_result"
    }
   ],
   "source": [
    "##count function\n",
    "course_name.count(\"a\")"
   ]
  },
  {
   "cell_type": "code",
   "execution_count": 202,
   "id": "e8449361-cbe9-4e09-be57-733d3ebc4f0f",
   "metadata": {},
   "outputs": [
    {
     "data": {
      "text/plain": [
       "2"
      ]
     },
     "execution_count": 202,
     "metadata": {},
     "output_type": "execute_result"
    }
   ],
   "source": [
    "## if i give space in between collens it gives a count of space between sentence\n",
    "\n",
    "course_name.count(\" \")\n"
   ]
  },
  {
   "cell_type": "code",
   "execution_count": 204,
   "id": "c4c32376-a070-466a-96a0-d74041e975fe",
   "metadata": {},
   "outputs": [
    {
     "data": {
      "text/plain": [
       "20"
      ]
     },
     "execution_count": 204,
     "metadata": {},
     "output_type": "execute_result"
    }
   ],
   "source": [
    "## if not it gives total number of letters in the statement including space\n",
    "course_name.count(\"\")"
   ]
  },
  {
   "cell_type": "code",
   "execution_count": 205,
   "id": "b96267a0-5c2a-4720-9bad-8f687a6ca6db",
   "metadata": {},
   "outputs": [],
   "source": [
    "##string split function"
   ]
  },
  {
   "cell_type": "code",
   "execution_count": 206,
   "id": "3348d9de-7701-4152-8c50-fc9402af1087",
   "metadata": {},
   "outputs": [
    {
     "data": {
      "text/plain": [
       "['Data', 'Science', 'Master']"
      ]
     },
     "execution_count": 206,
     "metadata": {},
     "output_type": "execute_result"
    }
   ],
   "source": [
    "course_name.split(\" \")"
   ]
  },
  {
   "cell_type": "code",
   "execution_count": 208,
   "id": "6ef4223b-9f21-4e2d-8c46-34d85d021ee6",
   "metadata": {},
   "outputs": [
    {
     "data": {
      "text/plain": [
       "['Data', 'Science', 'Master']"
      ]
     },
     "execution_count": 208,
     "metadata": {},
     "output_type": "execute_result"
    }
   ],
   "source": [
    "course_name.split(' ')"
   ]
  },
  {
   "cell_type": "code",
   "execution_count": 209,
   "id": "e9ecf696-7b73-41fd-8200-a3d9abc67ff9",
   "metadata": {},
   "outputs": [
    {
     "data": {
      "text/plain": [
       "['Data Science Ma', 'ter']"
      ]
     },
     "execution_count": 209,
     "metadata": {},
     "output_type": "execute_result"
    }
   ],
   "source": [
    "course_name.split(\"s\")"
   ]
  },
  {
   "cell_type": "code",
   "execution_count": 210,
   "id": "d43f8ba1-97ca-49f8-bbf0-ebc5783a7ad8",
   "metadata": {},
   "outputs": [
    {
     "data": {
      "text/plain": [
       "['Data ', 'cience Master']"
      ]
     },
     "execution_count": 210,
     "metadata": {},
     "output_type": "execute_result"
    }
   ],
   "source": [
    "course_name.split(\"S\")"
   ]
  },
  {
   "cell_type": "code",
   "execution_count": 213,
   "id": "7e7ef5e3-638a-4c68-b22d-fe50c308a6ec",
   "metadata": {},
   "outputs": [
    {
     "data": {
      "text/plain": [
       "('Data ', 'S', 'cience Master')"
      ]
     },
     "execution_count": 213,
     "metadata": {},
     "output_type": "execute_result"
    }
   ],
   "source": [
    "course_name.partition('S')"
   ]
  },
  {
   "cell_type": "code",
   "execution_count": 214,
   "id": "9b757639-446f-4229-8ab4-544d8d926be7",
   "metadata": {},
   "outputs": [
    {
     "data": {
      "text/plain": [
       "('Data Science Ma', 's', 'ter')"
      ]
     },
     "execution_count": 214,
     "metadata": {},
     "output_type": "execute_result"
    }
   ],
   "source": [
    "course_name.partition('s')"
   ]
  },
  {
   "cell_type": "code",
   "execution_count": 215,
   "id": "3bc503b7-f267-4156-8c44-f967a47a3c12",
   "metadata": {},
   "outputs": [
    {
     "data": {
      "text/plain": [
       "'data science master'"
      ]
     },
     "execution_count": 215,
     "metadata": {},
     "output_type": "execute_result"
    }
   ],
   "source": [
    "# String upper and lower case\n",
    "course_name.lower()"
   ]
  },
  {
   "cell_type": "code",
   "execution_count": 216,
   "id": "10598109-254e-4698-a254-50ace1a3a6f7",
   "metadata": {},
   "outputs": [
    {
     "data": {
      "text/plain": [
       "'Data Science Master'"
      ]
     },
     "execution_count": 216,
     "metadata": {},
     "output_type": "execute_result"
    }
   ],
   "source": [
    "course_name"
   ]
  },
  {
   "cell_type": "code",
   "execution_count": 217,
   "id": "5ebba92a-e256-45dd-9b3c-0e50c3e9cb5a",
   "metadata": {},
   "outputs": [
    {
     "data": {
      "text/plain": [
       "'dATA sCIENCE mASTER'"
      ]
     },
     "execution_count": 217,
     "metadata": {},
     "output_type": "execute_result"
    }
   ],
   "source": [
    "course_name.swapcase()"
   ]
  },
  {
   "cell_type": "code",
   "execution_count": 218,
   "id": "a72aeee5-f90c-4941-972e-2f37b5012b7e",
   "metadata": {},
   "outputs": [
    {
     "data": {
      "text/plain": [
       "'Data Science Master'"
      ]
     },
     "execution_count": 218,
     "metadata": {},
     "output_type": "execute_result"
    }
   ],
   "source": [
    "course_name.title()"
   ]
  },
  {
   "cell_type": "code",
   "execution_count": 219,
   "id": "21b22272-ce2b-4879-878a-219c04d1c247",
   "metadata": {},
   "outputs": [],
   "source": [
    "## above functionc can be known by pressing tab option after the dot (.) for example course_name.(now press tab) then you get function options"
   ]
  },
  {
   "cell_type": "code",
   "execution_count": 233,
   "id": "c9b55907-9cd8-4a9f-80bc-140483934b32",
   "metadata": {},
   "outputs": [
    {
     "data": {
      "text/plain": [
       "'DATA SCIENCE MASTER'"
      ]
     },
     "execution_count": 233,
     "metadata": {},
     "output_type": "execute_result"
    }
   ],
   "source": [
    "course_name.upper()"
   ]
  },
  {
   "cell_type": "code",
   "execution_count": 239,
   "id": "0397a372-65dd-4757-a0d7-9d952aacd3bb",
   "metadata": {},
   "outputs": [
    {
     "ename": "IndentationError",
     "evalue": "expected an indented block after 'for' statement on line 4 (873182608.py, line 5)",
     "output_type": "error",
     "traceback": [
      "\u001b[0;36m  Cell \u001b[0;32mIn[239], line 5\u001b[0;36m\u001b[0m\n\u001b[0;31m    print()\u001b[0m\n\u001b[0m    ^\u001b[0m\n\u001b[0;31mIndentationError\u001b[0m\u001b[0;31m:\u001b[0m expected an indented block after 'for' statement on line 4\n"
     ]
    }
   ],
   "source": [
    "n=10\n",
    "for i in range(n):\n",
    "    print(\" \"*(n-i),end='')\n",
    "    for j in range(i*2+1):\n",
    "    print()"
   ]
  },
  {
   "cell_type": "code",
   "execution_count": null,
   "id": "216a9902-70eb-49fa-be18-d87d29d2787d",
   "metadata": {},
   "outputs": [],
   "source": [
    "size=int(input(\"enter the triangle length:\"))\n",
    "for i in range(size):\n",
    "    for j in range(size-i):\n",
    "        print(\"\",end=\" \")\n",
    "    for k in range(i+1):\n",
    "        print(\"*\",end=\"\")\n",
    "    for m in range(k-1):\n",
    "        print(\"*\",end=\"\")\n",
    "    print()"
   ]
  },
  {
   "cell_type": "code",
   "execution_count": null,
   "id": "d64828b3-2aad-4ca0-a3ac-20e0ffa534ed",
   "metadata": {},
   "outputs": [],
   "source": []
  }
 ],
 "metadata": {
  "kernelspec": {
   "display_name": "Python 3 (ipykernel)",
   "language": "python",
   "name": "python3"
  },
  "language_info": {
   "codemirror_mode": {
    "name": "ipython",
    "version": 3
   },
   "file_extension": ".py",
   "mimetype": "text/x-python",
   "name": "python",
   "nbconvert_exporter": "python",
   "pygments_lexer": "ipython3",
   "version": "3.10.8"
  }
 },
 "nbformat": 4,
 "nbformat_minor": 5
}
