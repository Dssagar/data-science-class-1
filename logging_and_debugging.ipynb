{
 "cells": [
  {
   "cell_type": "code",
   "execution_count": 1,
   "id": "15a825a8-18ac-4408-b31a-3b48d97c8119",
   "metadata": {},
   "outputs": [
    {
     "name": "stdout",
     "output_type": "stream",
     "text": [
      "this is my statement\n"
     ]
    }
   ],
   "source": [
    "print(\"this is my statement\")"
   ]
  },
  {
   "cell_type": "code",
   "execution_count": 1,
   "id": "f2963194-6e71-4d88-91a1-13cf80242939",
   "metadata": {},
   "outputs": [],
   "source": [
    "import logging"
   ]
  },
  {
   "cell_type": "code",
   "execution_count": 3,
   "id": "34baaed4-7839-4c21-a74f-4b5c4039e2ea",
   "metadata": {},
   "outputs": [],
   "source": [
    "logging.basicConfig(filename=\"test.log\",level=logging.INFO)"
   ]
  },
  {
   "cell_type": "code",
   "execution_count": 4,
   "id": "50cf842c-3a1f-4e88-914c-d629bc485b07",
   "metadata": {},
   "outputs": [],
   "source": [
    "logging.info(\"this is my line of execution\")"
   ]
  },
  {
   "cell_type": "code",
   "execution_count": 5,
   "id": "c3ec3601-4a09-456f-a1eb-b3cc24158482",
   "metadata": {},
   "outputs": [],
   "source": [
    "logging.error(\"this is my error\")"
   ]
  },
  {
   "cell_type": "code",
   "execution_count": 6,
   "id": "ada4d558-20f8-4400-9541-13527d8573bd",
   "metadata": {},
   "outputs": [],
   "source": [
    "logging.critical(\"this is my critical\")"
   ]
  },
  {
   "cell_type": "code",
   "execution_count": 8,
   "id": "5357b3f9-e26b-4f6a-9ea9-1b7bb1955a95",
   "metadata": {},
   "outputs": [],
   "source": [
    "logging.warning(\"this is my warning\")"
   ]
  },
  {
   "cell_type": "code",
   "execution_count": 9,
   "id": "87c196c0-d859-48cd-8d40-3344985c677e",
   "metadata": {},
   "outputs": [],
   "source": [
    "logging.debug(\"this is my info related to debug\")"
   ]
  },
  {
   "cell_type": "code",
   "execution_count": 4,
   "id": "11885d8c-d450-42c5-8970-64ffd6722512",
   "metadata": {},
   "outputs": [
    {
     "ename": "AttributeError",
     "evalue": "module 'logging' has no attribute 'noset'",
     "output_type": "error",
     "traceback": [
      "\u001b[0;31m---------------------------------------------------------------------------\u001b[0m",
      "\u001b[0;31mAttributeError\u001b[0m                            Traceback (most recent call last)",
      "Cell \u001b[0;32mIn[4], line 1\u001b[0m\n\u001b[0;32m----> 1\u001b[0m \u001b[43mlogging\u001b[49m\u001b[38;5;241;43m.\u001b[39;49m\u001b[43mnoset\u001b[49m(\u001b[38;5;124m\"\u001b[39m\u001b[38;5;124mthis is my noset related log\u001b[39m\u001b[38;5;124m\"\u001b[39m) \u001b[38;5;66;03m## its not avilable in the latest version of the python \u001b[39;00m\n",
      "\u001b[0;31mAttributeError\u001b[0m: module 'logging' has no attribute 'noset'"
     ]
    }
   ],
   "source": [
    "logging.noset(\"this is my noset related log\") ## its not avilable in the latest version of the python "
   ]
  },
  {
   "cell_type": "code",
   "execution_count": 11,
   "id": "b5dd6379-e993-4d67-ac5e-c77fc8a14b21",
   "metadata": {},
   "outputs": [],
   "source": [
    "logging.shutdown()"
   ]
  },
  {
   "cell_type": "code",
   "execution_count": 7,
   "id": "138bfd5c-bc7e-43dd-9eca-a9b52d158faa",
   "metadata": {},
   "outputs": [
    {
     "ename": "SyntaxError",
     "evalue": "invalid decimal literal (2980066003.py, line 1)",
     "output_type": "error",
     "traceback": [
      "\u001b[0;36m  Cell \u001b[0;32mIn[7], line 1\u001b[0;36m\u001b[0m\n\u001b[0;31m    1.NOSET\u001b[0m\n\u001b[0m     ^\u001b[0m\n\u001b[0;31mSyntaxError\u001b[0m\u001b[0;31m:\u001b[0m invalid decimal literal\n"
     ]
    }
   ],
   "source": [
    "1.NOSET\n",
    "2.DEBUG\n",
    "3.INFO\n",
    "4.WARNING\n",
    "5.ERROR\n",
    "6.CRITICAL"
   ]
  },
  {
   "cell_type": "code",
   "execution_count": 8,
   "id": "cbc0215c-490c-46b0-a1cd-5a2e7cab31f4",
   "metadata": {},
   "outputs": [],
   "source": [
    "logging.basicConfig(filename= \"test1.log\" , level = logging.debug, format = '%(asctime)s%(message)s'  )\n",
    "## If its not create a test1 file then restart the kernel n execute the import logging cell then again execute this cell"
   ]
  },
  {
   "cell_type": "code",
   "execution_count": 12,
   "id": "95298009-3d62-4c40-8a44-dbf061a20277",
   "metadata": {},
   "outputs": [],
   "source": [
    "logging.info(\"this is my info log\")"
   ]
  },
  {
   "cell_type": "code",
   "execution_count": 13,
   "id": "5518074d-a318-4613-878e-5d2cdbf5ed72",
   "metadata": {},
   "outputs": [],
   "source": [
    "logging.debug(\"this is my debug log\")"
   ]
  },
  {
   "cell_type": "code",
   "execution_count": 14,
   "id": "43213adb-4cf2-452c-8c7e-5562e8a2053d",
   "metadata": {},
   "outputs": [],
   "source": [
    "logging.warning(\"this is my warning\")"
   ]
  },
  {
   "cell_type": "code",
   "execution_count": 15,
   "id": "bdb711b4-4a54-44ef-b68a-ce1e425975bc",
   "metadata": {},
   "outputs": [],
   "source": [
    "logging.shutdown()"
   ]
  },
  {
   "cell_type": "code",
   "execution_count": 23,
   "id": "ef419c56-913d-4092-a87e-54a38b398191",
   "metadata": {},
   "outputs": [],
   "source": [
    "logging.basicConfig(filename=\"test3.log\",level=logging.debug,format= '%(asctime)s%(message)s')"
   ]
  },
  {
   "cell_type": "code",
   "execution_count": 24,
   "id": "a20c8760-5abc-4ed4-a717-5a9d13127d4a",
   "metadata": {},
   "outputs": [],
   "source": [
    "logging.info(\"this is my info log\")"
   ]
  },
  {
   "cell_type": "code",
   "execution_count": 5,
   "id": "dfcc7845-2017-44c7-b525-91e1b6bea3d6",
   "metadata": {},
   "outputs": [],
   "source": [
    "l=[1,2,3,4,[4,5,6],\"sagar\",\"krish\"]"
   ]
  },
  {
   "cell_type": "code",
   "execution_count": 11,
   "id": "b9daa05d-2bf5-4240-85e9-452dc279180a",
   "metadata": {},
   "outputs": [],
   "source": [
    "l1_int=[]\n",
    "l2_str=[]\n",
    "for i in l:\n",
    "\n",
    "    if type(i)==list:\n",
    "        for j in i:\n",
    "            if type(j)==int:\n",
    "                l1_int.append(j)\n",
    "    elif type(i)==int:\n",
    "        l1_int.append(i)\n",
    "    else:\n",
    "        if type(i)==str:\n",
    "            l2_str.append(i)"
   ]
  },
  {
   "cell_type": "code",
   "execution_count": 12,
   "id": "2eda19fc-5879-489b-8fa9-f42021283b4f",
   "metadata": {},
   "outputs": [
    {
     "data": {
      "text/plain": [
       "[1, 2, 3, 4, 4, 5, 6]"
      ]
     },
     "execution_count": 12,
     "metadata": {},
     "output_type": "execute_result"
    }
   ],
   "source": [
    "l1_int"
   ]
  },
  {
   "cell_type": "code",
   "execution_count": 13,
   "id": "27c62e48-9d28-45d1-acc5-451ea6cbc18e",
   "metadata": {},
   "outputs": [
    {
     "data": {
      "text/plain": [
       "['sagar', 'krish']"
      ]
     },
     "execution_count": 13,
     "metadata": {},
     "output_type": "execute_result"
    }
   ],
   "source": [
    "l2_str"
   ]
  },
  {
   "cell_type": "code",
   "execution_count": 14,
   "id": "f9f91dfa-125c-42c2-97fd-8a640317e4b3",
   "metadata": {},
   "outputs": [
    {
     "ename": "SyntaxError",
     "evalue": "invalid syntax (3110346657.py, line 16)",
     "output_type": "error",
     "traceback": [
      "\u001b[0;36m  Cell \u001b[0;32mIn[14], line 16\u001b[0;36m\u001b[0m\n\u001b[0;31m    logging.info(\"this is my final result with all int{l1},with all str{12}\".format(l1=l1_int.l2=l2_str))\u001b[0m\n\u001b[0m                                                                                                ^\u001b[0m\n\u001b[0;31mSyntaxError\u001b[0m\u001b[0;31m:\u001b[0m invalid syntax\n"
     ]
    }
   ],
   "source": [
    "l1_int=[]\n",
    "l2_str=[]\n",
    "for i in l:\n",
    "    logging.info(\"this is the start of my first for loop{}\".format(l))\n",
    "    logging.info(\"this is the value of i am logging{}\".format)\n",
    "    if type(i)==list:\n",
    "        for j in i:\n",
    "            logging.info(\"logging my j{}\".format(i=i,j=j))\n",
    "            if type(j)==int:\n",
    "                l1_int.append(j)\n",
    "    elif type(i)==int:\n",
    "        l1_int.append(i)\n",
    "    else:\n",
    "        if type(i)==str:\n",
    "            l2_str.append(i)\n",
    "logging.info(\"this is my final result with all int{l1},with all str{12}\".format(l1=l1_int.l2=l2_str))"
   ]
  },
  {
   "cell_type": "code",
   "execution_count": null,
   "id": "d4b1fb0c-bee1-46c8-bf7f-7ee0acb4fd7b",
   "metadata": {},
   "outputs": [],
   "source": []
  }
 ],
 "metadata": {
  "kernelspec": {
   "display_name": "Python 3 (ipykernel)",
   "language": "python",
   "name": "python3"
  },
  "language_info": {
   "codemirror_mode": {
    "name": "ipython",
    "version": 3
   },
   "file_extension": ".py",
   "mimetype": "text/x-python",
   "name": "python",
   "nbconvert_exporter": "python",
   "pygments_lexer": "ipython3",
   "version": "3.10.8"
  }
 },
 "nbformat": 4,
 "nbformat_minor": 5
}
